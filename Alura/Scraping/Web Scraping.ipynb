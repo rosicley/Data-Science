{
 "cells": [
  {
   "cell_type": "markdown",
   "metadata": {},
   "source": [
    "# <font color=green>1. MEU PRIMEIRO SCRAPING"
   ]
  },
  {
   "cell_type": "markdown",
   "metadata": {},
   "source": [
    "# 1.1. Introdução"
   ]
  },
  {
   "cell_type": "markdown",
   "metadata": {},
   "source": [
    "## *Web Scraping* é o termo utilizado para definir a prática de coletar automaticamente informações na Internet. Isto é feito, geralmente, por meio de programas que simulam a navegação humana na Web."
   ]
  },
  {
   "cell_type": "markdown",
   "metadata": {},
   "source": [
    "# 1.2. Ambiente e bibliotecas\n",
    "### Utilizaremos em nosso treinamento o navegador Google Chrome"
   ]
  },
  {
   "cell_type": "code",
   "execution_count": 1,
   "metadata": {
    "colab": {},
    "colab_type": "code",
    "id": "e9pXIMIWByAp"
   },
   "outputs": [
    {
     "name": "stdout",
     "output_type": "stream",
     "text": [
      "BeautifulSoup -> 4.8.2\n",
      "urllib -> 3.8\n",
      "pandas -> 1.4.1\n"
     ]
    }
   ],
   "source": [
    "import bs4\n",
    "import urllib.request as urllib_request\n",
    "import pandas\n",
    "\n",
    "print(\"BeautifulSoup ->\", bs4.__version__)\n",
    "print(\"urllib ->\", urllib_request.__version__)\n",
    "print(\"pandas ->\", pandas.__version__)"
   ]
  },
  {
   "cell_type": "markdown",
   "metadata": {},
   "source": [
    "# 1.3. Meu primeiro scraping"
   ]
  },
  {
   "cell_type": "code",
   "execution_count": 2,
   "metadata": {},
   "outputs": [
    {
     "name": "stdout",
     "output_type": "stream",
     "text": [
      "Hello World!!!\n",
      "Web Scraping é o termo utilizado para definir a prática de coletar automaticamente informações na Internet. Isto é feito, geralmente, por meio de programas que simulam a navegação humana na Web.\n"
     ]
    }
   ],
   "source": [
    "from urllib.request import urlopen\n",
    "from bs4 import BeautifulSoup\n",
    "\n",
    "url = 'https://alura-site-scraping.herokuapp.com/hello-world.php'\n",
    "\n",
    "response = urlopen(url)\n",
    "html = response.read()\n",
    "\n",
    "soup = BeautifulSoup(html, 'html.parser')\n",
    "print(soup.find('h1', id='hello-world').get_text())\n",
    "print(soup.find('p').get_text())"
   ]
  },
  {
   "cell_type": "markdown",
   "metadata": {},
   "source": [
    "---\n",
    "# <font color=green>2. OBTENDO E TRATANDO O CONTEÚDO DE UM HTML"
   ]
  },
  {
   "cell_type": "markdown",
   "metadata": {},
   "source": [
    "# 2.1. Entendendo a web"
   ]
  },
  {
   "cell_type": "markdown",
   "metadata": {},
   "source": [
    "<img src=\"./web/web.png\" width=\"700\">"
   ]
  },
  {
   "cell_type": "markdown",
   "metadata": {},
   "source": [
    "# 2.2. Obtendo o conteúdo HTML de um site"
   ]
  },
  {
   "cell_type": "markdown",
   "metadata": {},
   "source": [
    "# urllib.request\n",
    "## https://docs.python.org/3/library/urllib.html"
   ]
  },
  {
   "cell_type": "code",
   "execution_count": 3,
   "metadata": {
    "colab": {
     "base_uri": "https://localhost:8080/",
     "height": 54
    },
    "colab_type": "code",
    "id": "c1pKGnTpgvFU",
    "outputId": "b6b7e32d-4c3e-4f52-a8ba-0b1cbfe15ea4"
   },
   "outputs": [],
   "source": [
    "from urllib.request import urlopen\n",
    "\n",
    "url = 'https://alura-site-scraping.herokuapp.com/index.php'\n",
    "\n",
    "response = urlopen(url)\n",
    "\n",
    "html = response.read()\n",
    "\n",
    "#html"
   ]
  },
  {
   "cell_type": "markdown",
   "metadata": {},
   "source": [
    "## https://docs.python.org/3/library/urllib.request.html#urllib.request.Request"
   ]
  },
  {
   "cell_type": "code",
   "execution_count": 4,
   "metadata": {},
   "outputs": [
    {
     "name": "stdout",
     "output_type": "stream",
     "text": [
      "OK!\n"
     ]
    }
   ],
   "source": [
    "from urllib.request import Request, urlopen\n",
    "from urllib.error import URLError, HTTPError\n",
    "\n",
    "url = 'https://www.alura.com.br'\n",
    "headers = {\n",
    "    'User-Agent': 'Mozilla/5.0 (Windows NT 10.0; Win64; x64) AppleWebKit/537.36 (KHTML, like Gecko) Chrome/99.0.4844.74 Safari/537.36'}\n",
    "\n",
    "try:\n",
    "    req = Request(url, headers=headers)\n",
    "    response = urlopen(req)\n",
    "    #print(response.read())\n",
    "    print('OK!')\n",
    "\n",
    "except HTTPError as e:\n",
    "    print(e.status, e.reason)\n",
    "\n",
    "except URLError as e:\n",
    "    print(e.reason)"
   ]
  },
  {
   "cell_type": "markdown",
   "metadata": {},
   "source": [
    "# 2.3. Tratamento de string"
   ]
  },
  {
   "cell_type": "code",
   "execution_count": 5,
   "metadata": {},
   "outputs": [],
   "source": [
    "from urllib.request import urlopen\n",
    "\n",
    "url = 'https://alura-site-scraping.herokuapp.com/index.php'\n",
    "\n",
    "response = urlopen(url)\n",
    "html = response.read()\n",
    "#html"
   ]
  },
  {
   "cell_type": "markdown",
   "metadata": {},
   "source": [
    "### Convertando o tipo bytes para string"
   ]
  },
  {
   "cell_type": "code",
   "execution_count": 6,
   "metadata": {},
   "outputs": [
    {
     "data": {
      "text/plain": [
       "bytes"
      ]
     },
     "execution_count": 6,
     "metadata": {},
     "output_type": "execute_result"
    }
   ],
   "source": [
    "type(html)"
   ]
  },
  {
   "cell_type": "code",
   "execution_count": 7,
   "metadata": {},
   "outputs": [],
   "source": [
    "html = html.decode('utf-8')"
   ]
  },
  {
   "cell_type": "code",
   "execution_count": 8,
   "metadata": {},
   "outputs": [
    {
     "data": {
      "text/plain": [
       "str"
      ]
     },
     "execution_count": 8,
     "metadata": {},
     "output_type": "execute_result"
    }
   ],
   "source": [
    "type(html)"
   ]
  },
  {
   "cell_type": "code",
   "execution_count": 9,
   "metadata": {},
   "outputs": [],
   "source": [
    "#html"
   ]
  },
  {
   "cell_type": "markdown",
   "metadata": {},
   "source": [
    "### Eliminando os caracteres de tabulação, quebra de linha etc."
   ]
  },
  {
   "cell_type": "code",
   "execution_count": 10,
   "metadata": {},
   "outputs": [],
   "source": [
    "#html.split()"
   ]
  },
  {
   "cell_type": "code",
   "execution_count": 11,
   "metadata": {
    "scrolled": true
   },
   "outputs": [],
   "source": [
    "#\" \".join(html.split())"
   ]
  },
  {
   "cell_type": "markdown",
   "metadata": {},
   "source": [
    "### Eliminando os espaços em branco entre as TAGS"
   ]
  },
  {
   "cell_type": "code",
   "execution_count": 12,
   "metadata": {
    "scrolled": true
   },
   "outputs": [],
   "source": [
    "#\" \".join(html.split()).replace('> <','><')"
   ]
  },
  {
   "cell_type": "markdown",
   "metadata": {},
   "source": [
    "### Função de tratamento de strings"
   ]
  },
  {
   "cell_type": "code",
   "execution_count": 13,
   "metadata": {},
   "outputs": [],
   "source": [
    "def trata_html(input):\n",
    "    return \" \".join(input.split()).replace('> <','><')"
   ]
  },
  {
   "cell_type": "code",
   "execution_count": 14,
   "metadata": {},
   "outputs": [],
   "source": [
    "html = trata_html(html)"
   ]
  },
  {
   "cell_type": "code",
   "execution_count": 15,
   "metadata": {
    "scrolled": true
   },
   "outputs": [],
   "source": [
    "#html"
   ]
  },
  {
   "cell_type": "markdown",
   "metadata": {
    "colab": {},
    "colab_type": "code",
    "id": "BsfhL3sZFRZu"
   },
   "source": [
    "---\n",
    "# <font color=green>3. INTRODUÇÃO AO BEAUTIFULSOUP"
   ]
  },
  {
   "cell_type": "markdown",
   "metadata": {
    "colab": {},
    "colab_type": "code",
    "id": "BsfhL3sZFRZu"
   },
   "source": [
    "# 3.1. HTML da nossa página"
   ]
  },
  {
   "cell_type": "markdown",
   "metadata": {},
   "source": [
    "**HTML** (*HyperText Markup Language*) é uma linguagem de marcação composta por **tags** que deteminam o papel que cada parte do documento vai assumir. As **tags** são formadas pelo seu nome e atributos. Os atributos servem para configurar e também modificar as características padrões de uma **tag**.\n",
    "\n",
    "## Estrutura básica\n",
    "\n",
    "```html\n",
    "<html>\n",
    "    <head>\n",
    "        <meta charset=\"utf-8\" />\n",
    "        <title>Alura Motors</title>\n",
    "    </head>\n",
    "    <body>\n",
    "        <div id=\"container\">\n",
    "            <h1>Alura</h1>\n",
    "            <h2 class=\"formato\">Cursos de Tecnologia</h2>\n",
    "            <p>Você vai estudar, praticar, discutir e aprender.</p>\n",
    "            <a href=\"https://www.alura.com.br/\">Clique aqui</a>\n",
    "        </div>\n",
    "    </body>\n",
    "</html>\n",
    "```\n",
    "\n",
    "```<html>``` - determina o início do documento.\n",
    "\n",
    "```<head>``` - cabeçalho. Contém informações e configurações do documento.\n",
    "\n",
    "```<body>``` - é o corpo do documento, onde todo o conteúdo é colocado. Esta é a parte visível em um navegador.\n",
    "\n",
    "## Tags mais comuns\n",
    "\n",
    "```<div>``` - define uma divisão da página. Pode ser formatada de diversas maneiras.\n",
    "\n",
    "```<h1>, <h2>, <h3>, <h4>, <h5>, <h6>``` - marcadores de títulos.\n",
    "\n",
    "```<p>``` - marcador de parágrafo.\n",
    "\n",
    "```<a>``` - hiperlink.\n",
    "\n",
    "```<img>``` - exibição de imagens.\n",
    "\n",
    "```<table>``` - definição de tabelas.\n",
    "\n",
    "```<ul>, <li>``` - definição de listas.\n"
   ]
  },
  {
   "cell_type": "markdown",
   "metadata": {},
   "source": [
    "<html>\n",
    "    <head>\n",
    "        <meta charset=\"utf-8\" />\n",
    "        <title>Alura Motors</title>\n",
    "    </head>\n",
    "    <body>\n",
    "        <div id=\"container\">\n",
    "            <h1>Alura</h1>\n",
    "            <h2 class=\"formato\">Cursos de Tecnologia</h2>\n",
    "            <p>Você vai estudar, praticar, discutir e aprender.</p>\n",
    "            <a href=\"https://www.alura.com.br/\">Clique aqui</a>\n",
    "        </div>\n",
    "    </body>\n",
    "</html>"
   ]
  },
  {
   "cell_type": "markdown",
   "metadata": {},
   "source": [
    "# 3.2. Criando um objeto BeautifulSoup"
   ]
  },
  {
   "cell_type": "markdown",
   "metadata": {},
   "source": [
    "## https://www.crummy.com/software/BeautifulSoup/\n",
    "\n",
    "### Sobre parser ver: https://www.crummy.com/software/BeautifulSoup/bs4/doc/#parser-installation"
   ]
  },
  {
   "cell_type": "code",
   "execution_count": 16,
   "metadata": {
    "colab": {
     "base_uri": "https://localhost:8080/",
     "height": 316
    },
    "colab_type": "code",
    "id": "5Oxx_d0BCWGa",
    "outputId": "4d2c4e2b-57fe-413d-9521-91711e0e5fdc",
    "scrolled": true
   },
   "outputs": [],
   "source": [
    "from bs4 import BeautifulSoup\n",
    "\n",
    "soup = BeautifulSoup(html,'html.parser')\n",
    "#soup"
   ]
  },
  {
   "cell_type": "code",
   "execution_count": 17,
   "metadata": {
    "scrolled": true
   },
   "outputs": [
    {
     "name": "stdout",
     "output_type": "stream",
     "text": [
      "<!DOCTYPE html>\n",
      "<html lang=\"pt-br\">\n",
      " <head>\n",
      "  <meta charset=\"utf-8\"/>\n",
      "  <meta content=\"width=device-width, initial-scale=1, shrink-to-fit=no\" name=\"viewport\"/>\n",
      "  <title>\n",
      "   Alura Motors\n",
      "  </title>\n",
      "  <style>\n",
      "   /*Regra para a animacao*/ @keyframes spin { 0% { transform: rotate(0deg); } 100% { transform: rotate(360deg); } } /*Mudando o tamanho do icone de resposta*/ div.glyphicon { color:#6B8E23; font-size: 38px; } /*Classe que mostra a animacao 'spin'*/ .loader { border: 16px solid #f3f3f3; border-radius: 50%; border-top: 16px solid #3498db; width: 80px; height: 80px; -webkit-animation: spin 2s linear infinite; animation: spin 2s linear infinite; }\n",
      "  </style>\n",
      "  <link crossorigin=\"anonymous\" href=\"https://maxcdn.bootstrapcdn.com/bootstrap/3.3.7/css/bootstrap.min.css\" integrity=\"sha384-BVYiiSIFeK1dGmJRAkycuHAHRg32OmUcww7on3RYdg4Va+PmSTsz/K68vbdEjh4u\" rel=\"stylesheet\"/>\n",
      "  <link href=\"css/styles.css\" media=\"all\" rel=\"stylesheet\"/>\n",
      "  <script src=\"https://code.jquery.com/jquery-1.12.4.js\">\n",
      "  </script>\n",
      "  <script crossorigin=\"anonymous\" integrity=\"sha384-Tc5IQib027qvyjSMfHjOMaLkfuWVxZxUPnCJA7l2mCWNIpG9mGCD8wGNIcPD7Txa\" src=\"https://maxcdn.bootstrapcdn.com/bootstrap/3.3.7/js/bootstrap.min.js\">\n",
      "  </script>\n",
      "  <script src=\"js/index.js\" type=\"text/javascript\">\n",
      "  </script>\n",
      "  <script>\n",
      "   requisitar(\"https://alura-scraping.herokuapp.com/produtos?_page=\"+1+\"&_limit=10\")\n",
      "  </script>\n",
      " </head>\n",
      " <body cz-shortcut-listen=\"true\">\n",
      "  <noscript>\n",
      "   You need to enable JavaScript to run this app.\n",
      "  </noscript>\n",
      "  <div aria-labelledby=\"loadingModal_label\" class=\"modal fade\" data-backdrop=\"static\" id=\"loadingModal\" role=\"dialog\" tabindex=\"-1\">\n",
      "   <div class=\"modal-dialog\" role=\"document\">\n",
      "    <div class=\"modal-content\">\n",
      "     <div class=\"modal-header\">\n",
      "      <h5 class=\"modal-title\" id=\"loadingModal_label\">\n",
      "       <span class=\"glyphicon glyphicon-refresh\">\n",
      "       </span>\n",
      "       Aguarde...\n",
      "      </h5>\n",
      "     </div>\n",
      "     <div class=\"modal-body\">\n",
      "      <div class=\"alert\" role=\"alert\">\n",
      "       <center>\n",
      "        <div class=\"loader\" id=\"loader\">\n",
      "        </div>\n",
      "        <br/>\n",
      "        <h4>\n",
      "         <b id=\"loadingModal_content\">\n",
      "         </b>\n",
      "        </h4>\n",
      "       </center>\n",
      "      </div>\n",
      "     </div>\n",
      "    </div>\n",
      "   </div>\n",
      "  </div>\n",
      "  <div id=\"root\">\n",
      "   <header>\n",
      "    <nav class=\"navbar navbar-inverse\" style=\"margin-bottom: 0;\">\n",
      "     <div class=\"container\" style=\"margin-bottom: -20px;\">\n",
      "      <div class=\"navbar\">\n",
      "       <a class=\"navbar-brand\" href=\"./index.php\" title=\"Alura Motors\">\n",
      "        <img alt=\"Alura\" class=\"d-inline-block align-top\" src=\"img/alura-logo.svg\"/>\n",
      "        Motors\n",
      "       </a>\n",
      "       <ul class=\"nav navbar-nav\" style=\"margin-top: 35px;\">\n",
      "        <li>\n",
      "         <a href=\"./hello-world.php\">\n",
      "          Hello World\n",
      "         </a>\n",
      "        </li>\n",
      "        <li>\n",
      "         <a href=\"./index.php\">\n",
      "          Anúncios\n",
      "         </a>\n",
      "        </li>\n",
      "       </ul>\n",
      "      </div>\n",
      "     </div>\n",
      "    </nav>\n",
      "   </header>\n",
      "   <div class=\"container\">\n",
      "    <h1 class=\"sub-header\">\n",
      "     Veículos de Luxo Novos e Usados - Todas as Marcas\n",
      "    </h1>\n",
      "    <div class=\"row\">\n",
      "     <div class=\"col-md-12\">\n",
      "      <div class=\"container\" style=\"width: 100%\">\n",
      "       <div class=\"type-select\">\n",
      "        246 veículos encontrados\n",
      "       </div>\n",
      "       <div class=\"container-pagination\" style=\"float: right\">\n",
      "        <span class=\"info-pages\">\n",
      "         Página 1 de 25\n",
      "        </span>\n",
      "       </div>\n",
      "      </div>\n",
      "      <div id=\"container-cards\" style=\"height: 100%\">\n",
      "       <div class=\"well card\">\n",
      "        <div class=\"col-md-3 image-card\">\n",
      "         <img alt=\"Foto\" height=\"155\" src=\"https://caelum-online-public.s3.amazonaws.com/1381-scraping/01/img-cars/lamborghini-aventador/lamborghini-aventador-2932196__340.jpg\" width=\"220\"/>\n",
      "        </div>\n",
      "        <div class=\"col-md-6 body-card\">\n",
      "         <p class=\"txt-name inline\">\n",
      "          LAMBORGHINI AVENTADOR\n",
      "         </p>\n",
      "         <p class=\"txt-category badge badge-secondary inline\">\n",
      "          USADO\n",
      "         </p>\n",
      "         <p class=\"txt-motor\">\n",
      "          Motor 1.8 16v\n",
      "         </p>\n",
      "         <p class=\"txt-description\">\n",
      "          Ano 1993 - 55.286 km\n",
      "         </p>\n",
      "         <ul class=\"lst-items\">\n",
      "          <li class=\"txt-items\">\n",
      "           ► 4 X 4\n",
      "          </li>\n",
      "          <li class=\"txt-items\">\n",
      "           ► Câmera de estacionamento\n",
      "          </li>\n",
      "          <li class=\"txt-items\">\n",
      "           ► Controle de tração\n",
      "          </li>\n",
      "          <li class=\"txt-items\">\n",
      "           ► Sensor de estacionamento\n",
      "          </li>\n",
      "          <li class=\"txt-items\">\n",
      "           ...\n",
      "          </li>\n",
      "         </ul>\n",
      "         <p class=\"txt-location\">\n",
      "          Belo Horizonte - MG\n",
      "         </p>\n",
      "        </div>\n",
      "        <div class=\"col-md-3 value-card\">\n",
      "         <div class=\"value\">\n",
      "          <p class=\"txt-value\">\n",
      "           R$ 338.000\n",
      "          </p>\n",
      "         </div>\n",
      "        </div>\n",
      "       </div>\n",
      "       <div class=\"well card\">\n",
      "        <div class=\"col-md-3 image-card\">\n",
      "         <img alt=\"Foto\" height=\"155\" src=\"https://caelum-online-public.s3.amazonaws.com/1381-scraping/01/img-cars/bmw-m2/bmw-m2-2970882__340.jpg\" width=\"220\"/>\n",
      "        </div>\n",
      "        <div class=\"col-md-6 body-card\">\n",
      "         <p class=\"txt-name inline\">\n",
      "          BMW M2\n",
      "         </p>\n",
      "         <p class=\"txt-category badge badge-secondary inline\">\n",
      "          USADO\n",
      "         </p>\n",
      "         <p class=\"txt-motor\">\n",
      "          Motor 3.0 32v\n",
      "         </p>\n",
      "         <p class=\"txt-description\">\n",
      "          Ano 2018 - 83.447 km\n",
      "         </p>\n",
      "         <ul class=\"lst-items\">\n",
      "          <li class=\"txt-items\">\n",
      "           ► Câmera de estacionamento\n",
      "          </li>\n",
      "          <li class=\"txt-items\">\n",
      "           ► Controle de estabilidade\n",
      "          </li>\n",
      "          <li class=\"txt-items\">\n",
      "           ► Travas elétricas\n",
      "          </li>\n",
      "          <li class=\"txt-items\">\n",
      "           ► Freios ABS\n",
      "          </li>\n",
      "          <li class=\"txt-items\">\n",
      "           ...\n",
      "          </li>\n",
      "         </ul>\n",
      "         <p class=\"txt-location\">\n",
      "          Belo Horizonte - MG\n",
      "         </p>\n",
      "        </div>\n",
      "        <div class=\"col-md-3 value-card\">\n",
      "         <div class=\"value\">\n",
      "          <p class=\"txt-value\">\n",
      "           R$ 346.000\n",
      "          </p>\n",
      "         </div>\n",
      "        </div>\n",
      "       </div>\n",
      "       <div class=\"well card\">\n",
      "        <div class=\"col-md-3 image-card\">\n",
      "         <img alt=\"Foto\" height=\"155\" src=\"https://caelum-online-public.s3.amazonaws.com/1381-scraping/01/img-cars/alfa/alfa-1823056__340.jpg\" width=\"220\"/>\n",
      "        </div>\n",
      "        <div class=\"col-md-6 body-card\">\n",
      "         <p class=\"txt-name inline\">\n",
      "          ALFA\n",
      "         </p>\n",
      "         <p class=\"txt-category badge badge-secondary inline\">\n",
      "          USADO\n",
      "         </p>\n",
      "         <p class=\"txt-motor\">\n",
      "          Motor 1.8 16v\n",
      "         </p>\n",
      "         <p class=\"txt-description\">\n",
      "          Ano 2004 - 19.722 km\n",
      "         </p>\n",
      "         <ul class=\"lst-items\">\n",
      "          <li class=\"txt-items\">\n",
      "           ► Central multimídia\n",
      "          </li>\n",
      "          <li class=\"txt-items\">\n",
      "           ► Bancos de couro\n",
      "          </li>\n",
      "          <li class=\"txt-items\">\n",
      "           ► Rodas de liga\n",
      "          </li>\n",
      "          <li class=\"txt-items\">\n",
      "           ► Câmera de estacionamento\n",
      "          </li>\n",
      "          <li class=\"txt-items\">\n",
      "           ...\n",
      "          </li>\n",
      "         </ul>\n",
      "         <p class=\"txt-location\">\n",
      "          Rio de Janeiro - RJ\n",
      "         </p>\n",
      "        </div>\n",
      "        <div class=\"col-md-3 value-card\">\n",
      "         <div class=\"value\">\n",
      "          <p class=\"txt-value\">\n",
      "           R$ 480.000\n",
      "          </p>\n",
      "         </div>\n",
      "        </div>\n",
      "       </div>\n",
      "       <div class=\"well card\">\n",
      "        <div class=\"col-md-3 image-card\">\n",
      "         <img alt=\"Foto\" height=\"155\" src=\"https://caelum-online-public.s3.amazonaws.com/1381-scraping/01/img-cars/puech/puech-4055386__340.jpg\" width=\"220\"/>\n",
      "        </div>\n",
      "        <div class=\"col-md-6 body-card\">\n",
      "         <p class=\"txt-name inline\">\n",
      "          PUECH\n",
      "         </p>\n",
      "         <p class=\"txt-category badge badge-secondary inline\">\n",
      "          USADO\n",
      "         </p>\n",
      "         <p class=\"txt-motor\">\n",
      "          Motor Diesel V8\n",
      "         </p>\n",
      "         <p class=\"txt-description\">\n",
      "          Ano 1992 - 34.335 km\n",
      "         </p>\n",
      "         <ul class=\"lst-items\">\n",
      "          <li class=\"txt-items\">\n",
      "           ► Bancos de couro\n",
      "          </li>\n",
      "          <li class=\"txt-items\">\n",
      "           ► Freios ABS\n",
      "          </li>\n",
      "          <li class=\"txt-items\">\n",
      "           ► Rodas de liga\n",
      "          </li>\n",
      "          <li class=\"txt-items\">\n",
      "           ► Câmbio automático\n",
      "          </li>\n",
      "          <li class=\"txt-items\">\n",
      "           ...\n",
      "          </li>\n",
      "         </ul>\n",
      "         <p class=\"txt-location\">\n",
      "          São Paulo - SP\n",
      "         </p>\n",
      "        </div>\n",
      "        <div class=\"col-md-3 value-card\">\n",
      "         <div class=\"value\">\n",
      "          <p class=\"txt-value\">\n",
      "           R$ 133.000\n",
      "          </p>\n",
      "         </div>\n",
      "        </div>\n",
      "       </div>\n",
      "       <div class=\"well card\">\n",
      "        <div class=\"col-md-3 image-card\">\n",
      "         <img alt=\"Foto\" height=\"155\" src=\"https://caelum-online-public.s3.amazonaws.com/1381-scraping/01/img-cars/lamborghini-murcielago/lamborghini-murcielago-2872974__340.jpg\" width=\"220\"/>\n",
      "        </div>\n",
      "        <div class=\"col-md-6 body-card\">\n",
      "         <p class=\"txt-name inline\">\n",
      "          LAMBORGHINI MURCIELAGO\n",
      "         </p>\n",
      "         <p class=\"txt-category badge badge-secondary inline\">\n",
      "          USADO\n",
      "         </p>\n",
      "         <p class=\"txt-motor\">\n",
      "          Motor 1.0 8v\n",
      "         </p>\n",
      "         <p class=\"txt-description\">\n",
      "          Ano 1991 - 464 km\n",
      "         </p>\n",
      "         <ul class=\"lst-items\">\n",
      "          <li class=\"txt-items\">\n",
      "           ► Central multimídia\n",
      "          </li>\n",
      "          <li class=\"txt-items\">\n",
      "           ► Teto panorâmico\n",
      "          </li>\n",
      "          <li class=\"txt-items\">\n",
      "           ► Sensor crepuscular\n",
      "          </li>\n",
      "          <li class=\"txt-items\">\n",
      "           ► Piloto automático\n",
      "          </li>\n",
      "          <li class=\"txt-items\">\n",
      "           ...\n",
      "          </li>\n",
      "         </ul>\n",
      "         <p class=\"txt-location\">\n",
      "          Belo Horizonte - MG\n",
      "         </p>\n",
      "        </div>\n",
      "        <div class=\"col-md-3 value-card\">\n",
      "         <div class=\"value\">\n",
      "          <p class=\"txt-value\">\n",
      "           R$ 175.000\n",
      "          </p>\n",
      "         </div>\n",
      "        </div>\n",
      "       </div>\n",
      "       <div class=\"well card\">\n",
      "        <div class=\"col-md-3 image-card\">\n",
      "         <img alt=\"Foto\" height=\"155\" src=\"https://caelum-online-public.s3.amazonaws.com/1381-scraping/01/img-cars/aston-martin/aston-martin-2977916__340.jpg\" width=\"220\"/>\n",
      "        </div>\n",
      "        <div class=\"col-md-6 body-card\">\n",
      "         <p class=\"txt-name inline\">\n",
      "          ASTON MARTIN\n",
      "         </p>\n",
      "         <p class=\"txt-category badge badge-secondary inline\">\n",
      "          USADO\n",
      "         </p>\n",
      "         <p class=\"txt-opportunity badge badge-danger inline\">\n",
      "          OPORTUNIDADE\n",
      "         </p>\n",
      "         <p class=\"txt-motor\">\n",
      "          Motor Diesel V6\n",
      "         </p>\n",
      "         <p class=\"txt-description\">\n",
      "          Ano 2004 - 50.189 km\n",
      "         </p>\n",
      "         <ul class=\"lst-items\">\n",
      "          <li class=\"txt-items\">\n",
      "           ► Painel digital\n",
      "          </li>\n",
      "          <li class=\"txt-items\">\n",
      "           ► Controle de tração\n",
      "          </li>\n",
      "          <li class=\"txt-items\">\n",
      "           ► Teto panorâmico\n",
      "          </li>\n",
      "          <li class=\"txt-items\">\n",
      "           ► Central multimídia\n",
      "          </li>\n",
      "          <li class=\"txt-items\">\n",
      "           ...\n",
      "          </li>\n",
      "         </ul>\n",
      "         <p class=\"txt-location\">\n",
      "          Belo Horizonte - MG\n",
      "         </p>\n",
      "        </div>\n",
      "        <div class=\"col-md-3 value-card\">\n",
      "         <div class=\"value\">\n",
      "          <p class=\"txt-value\">\n",
      "           R$ 239.000\n",
      "          </p>\n",
      "         </div>\n",
      "        </div>\n",
      "       </div>\n",
      "       <div class=\"well card\">\n",
      "        <div class=\"col-md-3 image-card\">\n",
      "         <img alt=\"Foto\" height=\"155\" src=\"https://caelum-online-public.s3.amazonaws.com/1381-scraping/01/img-cars/tvr/tvr-2943925__340.jpg\" width=\"220\"/>\n",
      "        </div>\n",
      "        <div class=\"col-md-6 body-card\">\n",
      "         <p class=\"txt-name inline\">\n",
      "          TVR\n",
      "         </p>\n",
      "         <p class=\"txt-category badge badge-secondary inline\">\n",
      "          USADO\n",
      "         </p>\n",
      "         <p class=\"txt-motor\">\n",
      "          Motor 4.0 Turbo\n",
      "         </p>\n",
      "         <p class=\"txt-description\">\n",
      "          Ano 2014 - 17.778 km\n",
      "         </p>\n",
      "         <ul class=\"lst-items\">\n",
      "          <li class=\"txt-items\">\n",
      "           ► 4 X 4\n",
      "          </li>\n",
      "          <li class=\"txt-items\">\n",
      "           ► Teto panorâmico\n",
      "          </li>\n",
      "          <li class=\"txt-items\">\n",
      "           ► Central multimídia\n",
      "          </li>\n",
      "          <li class=\"txt-items\">\n",
      "           ► Controle de estabilidade\n",
      "          </li>\n",
      "          <li class=\"txt-items\">\n",
      "           ...\n",
      "          </li>\n",
      "         </ul>\n",
      "         <p class=\"txt-location\">\n",
      "          Belo Horizonte - MG\n",
      "         </p>\n",
      "        </div>\n",
      "        <div class=\"col-md-3 value-card\">\n",
      "         <div class=\"value\">\n",
      "          <p class=\"txt-value\">\n",
      "           R$ 115.000\n",
      "          </p>\n",
      "         </div>\n",
      "        </div>\n",
      "       </div>\n",
      "       <div class=\"well card\">\n",
      "        <div class=\"col-md-3 image-card\">\n",
      "         <img alt=\"Foto\" height=\"155\" src=\"https://caelum-online-public.s3.amazonaws.com/1381-scraping/01/img-cars/excalibur/excalibur-2916730__340.jpg\" width=\"220\"/>\n",
      "        </div>\n",
      "        <div class=\"col-md-6 body-card\">\n",
      "         <p class=\"txt-name inline\">\n",
      "          EXCALIBUR\n",
      "         </p>\n",
      "         <p class=\"txt-category badge badge-secondary inline\">\n",
      "          USADO\n",
      "         </p>\n",
      "         <p class=\"txt-motor\">\n",
      "          Motor 3.0 32v\n",
      "         </p>\n",
      "         <p class=\"txt-description\">\n",
      "          Ano 2009 - 81.251 km\n",
      "         </p>\n",
      "         <ul class=\"lst-items\">\n",
      "          <li class=\"txt-items\">\n",
      "           ► Painel digital\n",
      "          </li>\n",
      "          <li class=\"txt-items\">\n",
      "           ► Câmbio automático\n",
      "          </li>\n",
      "          <li class=\"txt-items\">\n",
      "           ► Sensor de chuva\n",
      "          </li>\n",
      "          <li class=\"txt-items\">\n",
      "           ► Travas elétricas\n",
      "          </li>\n",
      "          <li class=\"txt-items\">\n",
      "           ...\n",
      "          </li>\n",
      "         </ul>\n",
      "         <p class=\"txt-location\">\n",
      "          Rio de Janeiro - RJ\n",
      "         </p>\n",
      "        </div>\n",
      "        <div class=\"col-md-3 value-card\">\n",
      "         <div class=\"value\">\n",
      "          <p class=\"txt-value\">\n",
      "           R$ 114.000\n",
      "          </p>\n",
      "         </div>\n",
      "        </div>\n",
      "       </div>\n",
      "       <div class=\"well card\">\n",
      "        <div class=\"col-md-3 image-card\">\n",
      "         <img alt=\"Foto\" height=\"155\" src=\"https://caelum-online-public.s3.amazonaws.com/1381-scraping/01/img-cars/mclaren/mclaren-2855240__340.jpg\" width=\"220\"/>\n",
      "        </div>\n",
      "        <div class=\"col-md-6 body-card\">\n",
      "         <p class=\"txt-name inline\">\n",
      "          MCLAREN\n",
      "         </p>\n",
      "         <p class=\"txt-category badge badge-secondary inline\">\n",
      "          NOVO\n",
      "         </p>\n",
      "         <p class=\"txt-motor\">\n",
      "          Motor Diesel\n",
      "         </p>\n",
      "         <p class=\"txt-description\">\n",
      "          Ano 2019 - 0 km\n",
      "         </p>\n",
      "         <ul class=\"lst-items\">\n",
      "          <li class=\"txt-items\">\n",
      "           ► Central multimídia\n",
      "          </li>\n",
      "          <li class=\"txt-items\">\n",
      "           ► Câmera de estacionamento\n",
      "          </li>\n",
      "          <li class=\"txt-items\">\n",
      "           ► Câmbio automático\n",
      "          </li>\n",
      "          <li class=\"txt-items\">\n",
      "           ► Ar condicionado\n",
      "          </li>\n",
      "          <li class=\"txt-items\">\n",
      "           ...\n",
      "          </li>\n",
      "         </ul>\n",
      "         <p class=\"txt-location\">\n",
      "          São Paulo - SP\n",
      "         </p>\n",
      "        </div>\n",
      "        <div class=\"col-md-3 value-card\">\n",
      "         <div class=\"value\">\n",
      "          <p class=\"txt-value\">\n",
      "           R$ 75.000\n",
      "          </p>\n",
      "         </div>\n",
      "        </div>\n",
      "       </div>\n",
      "       <div class=\"well card\">\n",
      "        <div class=\"col-md-3 image-card\">\n",
      "         <img alt=\"Foto\" height=\"155\" src=\"https://caelum-online-public.s3.amazonaws.com/1381-scraping/01/img-cars/toyota/toyota-3245397__340.jpg\" width=\"220\"/>\n",
      "        </div>\n",
      "        <div class=\"col-md-6 body-card\">\n",
      "         <p class=\"txt-name inline\">\n",
      "          TOYOTA\n",
      "         </p>\n",
      "         <p class=\"txt-category badge badge-secondary inline\">\n",
      "          USADO\n",
      "         </p>\n",
      "         <p class=\"txt-opportunity badge badge-danger inline\">\n",
      "          OPORTUNIDADE\n",
      "         </p>\n",
      "         <p class=\"txt-motor\">\n",
      "          Motor 4.0 Turbo\n",
      "         </p>\n",
      "         <p class=\"txt-description\">\n",
      "          Ano 1999 - 12.536 km\n",
      "         </p>\n",
      "         <ul class=\"lst-items\">\n",
      "          <li class=\"txt-items\">\n",
      "           ► Bancos de couro\n",
      "          </li>\n",
      "          <li class=\"txt-items\">\n",
      "           ► Freios ABS\n",
      "          </li>\n",
      "          <li class=\"txt-items\">\n",
      "           ► Piloto automático\n",
      "          </li>\n",
      "          <li class=\"txt-items\">\n",
      "           ► Controle de estabilidade\n",
      "          </li>\n",
      "          <li class=\"txt-items\">\n",
      "           ...\n",
      "          </li>\n",
      "         </ul>\n",
      "         <p class=\"txt-location\">\n",
      "          São Paulo - SP\n",
      "         </p>\n",
      "        </div>\n",
      "        <div class=\"col-md-3 value-card\">\n",
      "         <div class=\"value\">\n",
      "          <p class=\"txt-value\">\n",
      "           R$ 117.000\n",
      "          </p>\n",
      "         </div>\n",
      "        </div>\n",
      "       </div>\n",
      "      </div>\n",
      "      <div class=\"type-select\">\n",
      "       246 veículos encontrados\n",
      "      </div>\n",
      "      <div class=\"container-pagination\" style=\"float: right\">\n",
      "       <span class=\"info-pages\">\n",
      "        Página 1 de 25\n",
      "       </span>\n",
      "      </div>\n",
      "     </div>\n",
      "    </div>\n",
      "   </div>\n",
      "  </div>\n",
      " </body>\n",
      "</html>\n",
      "<footer>\n",
      " <nav class=\"navbar navbar-inverse\">\n",
      "  <div class=\"container\" style=\"margin-bottom: 10px;\">\n",
      "   <div class=\"navbar\">\n",
      "    <a class=\"navbar-brand\" href=\"./index.php\" title=\"Alura Motors\">\n",
      "     <img alt=\"Alura\" class=\"d-inline-block align-top\" src=\"img/alura-logo.svg\"/>\n",
      "     Motors\n",
      "    </a>\n",
      "    <p style=\"color: #fff; text-align: center; margin-top: 40px;\">\n",
      "     Aplicação para treinamento de web scraping\n",
      "    </p>\n",
      "   </div>\n",
      "  </div>\n",
      " </nav>\n",
      "</footer>\n"
     ]
    }
   ],
   "source": [
    "print(soup.prettify())"
   ]
  },
  {
   "cell_type": "markdown",
   "metadata": {},
   "source": [
    "# 3.3. Acessando tags"
   ]
  },
  {
   "cell_type": "code",
   "execution_count": 18,
   "metadata": {
    "scrolled": true
   },
   "outputs": [],
   "source": [
    "#soup.html"
   ]
  },
  {
   "cell_type": "code",
   "execution_count": 19,
   "metadata": {
    "scrolled": true
   },
   "outputs": [
    {
     "data": {
      "text/plain": [
       "<title>Alura Motors</title>"
      ]
     },
     "execution_count": 19,
     "metadata": {},
     "output_type": "execute_result"
    }
   ],
   "source": [
    "soup.html.head.title"
   ]
  },
  {
   "cell_type": "code",
   "execution_count": 20,
   "metadata": {},
   "outputs": [
    {
     "data": {
      "text/plain": [
       "<title>Alura Motors</title>"
      ]
     },
     "execution_count": 20,
     "metadata": {},
     "output_type": "execute_result"
    }
   ],
   "source": [
    "soup.title"
   ]
  },
  {
   "cell_type": "code",
   "execution_count": 21,
   "metadata": {},
   "outputs": [
    {
     "data": {
      "text/plain": [
       "<head><meta charset=\"utf-8\"/><meta content=\"width=device-width, initial-scale=1, shrink-to-fit=no\" name=\"viewport\"/><title>Alura Motors</title><style> /*Regra para a animacao*/ @keyframes spin { 0% { transform: rotate(0deg); } 100% { transform: rotate(360deg); } } /*Mudando o tamanho do icone de resposta*/ div.glyphicon { color:#6B8E23; font-size: 38px; } /*Classe que mostra a animacao 'spin'*/ .loader { border: 16px solid #f3f3f3; border-radius: 50%; border-top: 16px solid #3498db; width: 80px; height: 80px; -webkit-animation: spin 2s linear infinite; animation: spin 2s linear infinite; } </style><link crossorigin=\"anonymous\" href=\"https://maxcdn.bootstrapcdn.com/bootstrap/3.3.7/css/bootstrap.min.css\" integrity=\"sha384-BVYiiSIFeK1dGmJRAkycuHAHRg32OmUcww7on3RYdg4Va+PmSTsz/K68vbdEjh4u\" rel=\"stylesheet\"/><link href=\"css/styles.css\" media=\"all\" rel=\"stylesheet\"/><script src=\"https://code.jquery.com/jquery-1.12.4.js\"></script><script crossorigin=\"anonymous\" integrity=\"sha384-Tc5IQib027qvyjSMfHjOMaLkfuWVxZxUPnCJA7l2mCWNIpG9mGCD8wGNIcPD7Txa\" src=\"https://maxcdn.bootstrapcdn.com/bootstrap/3.3.7/js/bootstrap.min.js\"></script><script src=\"js/index.js\" type=\"text/javascript\"></script><script> requisitar(\"https://alura-scraping.herokuapp.com/produtos?_page=\"+1+\"&_limit=10\") </script></head>"
      ]
     },
     "execution_count": 21,
     "metadata": {},
     "output_type": "execute_result"
    }
   ],
   "source": [
    "soup.head"
   ]
  },
  {
   "cell_type": "code",
   "execution_count": 22,
   "metadata": {},
   "outputs": [
    {
     "data": {
      "text/plain": [
       "<div class=\"modal-header\"><h5 class=\"modal-title\" id=\"loadingModal_label\"><span class=\"glyphicon glyphicon-refresh\"></span>Aguarde... </h5></div>"
      ]
     },
     "execution_count": 22,
     "metadata": {},
     "output_type": "execute_result"
    }
   ],
   "source": [
    "soup.div.div.div.div"
   ]
  },
  {
   "cell_type": "code",
   "execution_count": 23,
   "metadata": {},
   "outputs": [
    {
     "data": {
      "text/plain": [
       "<h5 class=\"modal-title\" id=\"loadingModal_label\"><span class=\"glyphicon glyphicon-refresh\"></span>Aguarde... </h5>"
      ]
     },
     "execution_count": 23,
     "metadata": {},
     "output_type": "execute_result"
    }
   ],
   "source": [
    "soup.h5"
   ]
  },
  {
   "cell_type": "markdown",
   "metadata": {},
   "source": [
    "# 3.4. Acessando o conteúdo das tags"
   ]
  },
  {
   "cell_type": "code",
   "execution_count": 24,
   "metadata": {},
   "outputs": [
    {
     "data": {
      "text/plain": [
       "<title>Alura Motors</title>"
      ]
     },
     "execution_count": 24,
     "metadata": {},
     "output_type": "execute_result"
    }
   ],
   "source": [
    "soup.html.head.title"
   ]
  },
  {
   "cell_type": "code",
   "execution_count": 25,
   "metadata": {},
   "outputs": [
    {
     "data": {
      "text/plain": [
       "<title>Alura Motors</title>"
      ]
     },
     "execution_count": 25,
     "metadata": {},
     "output_type": "execute_result"
    }
   ],
   "source": [
    "soup.title"
   ]
  },
  {
   "cell_type": "code",
   "execution_count": 26,
   "metadata": {},
   "outputs": [
    {
     "data": {
      "text/plain": [
       "'Alura Motors'"
      ]
     },
     "execution_count": 26,
     "metadata": {},
     "output_type": "execute_result"
    }
   ],
   "source": [
    "soup.title.get_text()"
   ]
  },
  {
   "cell_type": "code",
   "execution_count": 27,
   "metadata": {},
   "outputs": [
    {
     "data": {
      "text/plain": [
       "<h5 class=\"modal-title\" id=\"loadingModal_label\"><span class=\"glyphicon glyphicon-refresh\"></span>Aguarde... </h5>"
      ]
     },
     "execution_count": 27,
     "metadata": {},
     "output_type": "execute_result"
    }
   ],
   "source": [
    "soup.h5"
   ]
  },
  {
   "cell_type": "code",
   "execution_count": 28,
   "metadata": {},
   "outputs": [
    {
     "data": {
      "text/plain": [
       "'Aguarde... '"
      ]
     },
     "execution_count": 28,
     "metadata": {},
     "output_type": "execute_result"
    }
   ],
   "source": [
    "soup.h5.getText()"
   ]
  },
  {
   "cell_type": "code",
   "execution_count": 29,
   "metadata": {},
   "outputs": [
    {
     "data": {
      "text/plain": [
       "'Alura Motors /*Regra para a animacao*/ @keyframes spin { 0% { transform: rotate(0deg); } 100% { transform: rotate(360deg); } } /*Mudando o tamanho do icone de resposta*/ div.glyphicon { color:#6B8E23; font-size: 38px; } /*Classe que mostra a animacao \\'spin\\'*/ .loader { border: 16px solid #f3f3f3; border-radius: 50%; border-top: 16px solid #3498db; width: 80px; height: 80px; -webkit-animation: spin 2s linear infinite; animation: spin 2s linear infinite; }  requisitar(\"https://alura-scraping.herokuapp.com/produtos?_page=\"+1+\"&_limit=10\") You need to enable JavaScript to run this app.Aguarde... Motors Hello WorldAnúnciosVeículos de Luxo Novos e Usados - Todas as Marcas246 veículos encontradosPágina 1 de 25LAMBORGHINI AVENTADORUSADOMotor 1.8 16vAno 1993 - 55.286 km► 4 X 4► Câmera de estacionamento► Controle de tração► Sensor de estacionamento...Belo Horizonte - MGR$ 338.000BMW M2USADOMotor 3.0 32vAno 2018 - 83.447 km► Câmera de estacionamento► Controle de estabilidade► Travas elétricas► Freios ABS...Belo Horizonte - MGR$ 346.000ALFAUSADOMotor 1.8 16vAno 2004 - 19.722 km► Central multimídia► Bancos de couro► Rodas de liga► Câmera de estacionamento...Rio de Janeiro - RJR$ 480.000PUECHUSADOMotor Diesel V8Ano 1992 - 34.335 km► Bancos de couro► Freios ABS► Rodas de liga► Câmbio automático...São Paulo - SPR$ 133.000LAMBORGHINI MURCIELAGOUSADOMotor 1.0 8vAno 1991 - 464 km► Central multimídia► Teto panorâmico► Sensor crepuscular► Piloto automático...Belo Horizonte - MGR$ 175.000ASTON MARTINUSADOOPORTUNIDADEMotor Diesel V6Ano 2004 - 50.189 km► Painel digital► Controle de tração► Teto panorâmico► Central multimídia...Belo Horizonte - MGR$ 239.000TVRUSADOMotor 4.0 TurboAno 2014 - 17.778 km► 4 X 4► Teto panorâmico► Central multimídia► Controle de estabilidade...Belo Horizonte - MGR$ 115.000EXCALIBURUSADOMotor 3.0 32vAno 2009 - 81.251 km► Painel digital► Câmbio automático► Sensor de chuva► Travas elétricas...Rio de Janeiro - RJR$ 114.000MCLARENNOVOMotor DieselAno 2019 - 0 km► Central multimídia► Câmera de estacionamento► Câmbio automático► Ar condicionado...São Paulo - SPR$ 75.000TOYOTAUSADOOPORTUNIDADEMotor 4.0 TurboAno 1999 - 12.536 km► Bancos de couro► Freios ABS► Piloto automático► Controle de estabilidade...São Paulo - SPR$ 117.000246 veículos encontradosPágina 1 de 25Motors Aplicação para treinamento de web scraping'"
      ]
     },
     "execution_count": 29,
     "metadata": {},
     "output_type": "execute_result"
    }
   ],
   "source": [
    "soup.getText()"
   ]
  },
  {
   "cell_type": "markdown",
   "metadata": {},
   "source": [
    "# 3.5. Acessando os atributos de uma tag"
   ]
  },
  {
   "cell_type": "code",
   "execution_count": 30,
   "metadata": {},
   "outputs": [
    {
     "data": {
      "text/plain": [
       "<img alt=\"Alura\" class=\"d-inline-block align-top\" src=\"img/alura-logo.svg\"/>"
      ]
     },
     "execution_count": 30,
     "metadata": {},
     "output_type": "execute_result"
    }
   ],
   "source": [
    "soup.img"
   ]
  },
  {
   "cell_type": "code",
   "execution_count": 31,
   "metadata": {},
   "outputs": [
    {
     "data": {
      "text/plain": [
       "{'src': 'img/alura-logo.svg',\n",
       " 'class': ['d-inline-block', 'align-top'],\n",
       " 'alt': 'Alura'}"
      ]
     },
     "execution_count": 31,
     "metadata": {},
     "output_type": "execute_result"
    }
   ],
   "source": [
    "soup.img.attrs"
   ]
  },
  {
   "cell_type": "code",
   "execution_count": 32,
   "metadata": {},
   "outputs": [
    {
     "data": {
      "text/plain": [
       "dict_keys(['src', 'class', 'alt'])"
      ]
     },
     "execution_count": 32,
     "metadata": {},
     "output_type": "execute_result"
    }
   ],
   "source": [
    "soup.img.attrs.keys()"
   ]
  },
  {
   "cell_type": "code",
   "execution_count": 33,
   "metadata": {},
   "outputs": [
    {
     "data": {
      "text/plain": [
       "dict_values(['img/alura-logo.svg', ['d-inline-block', 'align-top'], 'Alura'])"
      ]
     },
     "execution_count": 33,
     "metadata": {},
     "output_type": "execute_result"
    }
   ],
   "source": [
    "soup.img.attrs.values()"
   ]
  },
  {
   "cell_type": "code",
   "execution_count": 34,
   "metadata": {},
   "outputs": [
    {
     "data": {
      "text/plain": [
       "['d-inline-block', 'align-top']"
      ]
     },
     "execution_count": 34,
     "metadata": {},
     "output_type": "execute_result"
    }
   ],
   "source": [
    "soup.img['class']"
   ]
  },
  {
   "cell_type": "code",
   "execution_count": 35,
   "metadata": {},
   "outputs": [
    {
     "data": {
      "text/plain": [
       "'img/alura-logo.svg'"
      ]
     },
     "execution_count": 35,
     "metadata": {},
     "output_type": "execute_result"
    }
   ],
   "source": [
    "soup.img.get('src')"
   ]
  },
  {
   "cell_type": "markdown",
   "metadata": {},
   "source": [
    "---\n",
    "# <font color=green>4. PESQUISANDO COM O BEAUTIFULSOUP"
   ]
  },
  {
   "cell_type": "markdown",
   "metadata": {},
   "source": [
    "# 4.1. Os métodos *find()* e *findAll()*"
   ]
  },
  {
   "cell_type": "markdown",
   "metadata": {},
   "source": [
    "- ### *find(tag, attributes, recursive, text, **kwargs)*\n",
    "\n",
    "- ### *findAll(tag, attributes, recursive, text, limit, **kwargs)*\n",
    "\n",
    "#### https://www.crummy.com/software/BeautifulSoup/bs4/doc/#find\n",
    "#### https://www.crummy.com/software/BeautifulSoup/bs4/doc/#find-all\n",
    "\n",
    "> **Observação:**\n",
    "> - *findAll()* também pode ser utilizado como *find_all()*"
   ]
  },
  {
   "cell_type": "markdown",
   "metadata": {},
   "source": [
    "### Método *find()*"
   ]
  },
  {
   "cell_type": "code",
   "execution_count": 36,
   "metadata": {},
   "outputs": [
    {
     "data": {
      "text/plain": [
       "<img alt=\"Alura\" class=\"d-inline-block align-top\" src=\"img/alura-logo.svg\"/>"
      ]
     },
     "execution_count": 36,
     "metadata": {},
     "output_type": "execute_result"
    }
   ],
   "source": [
    "soup.find('img')"
   ]
  },
  {
   "cell_type": "code",
   "execution_count": 37,
   "metadata": {},
   "outputs": [
    {
     "data": {
      "text/plain": [
       "<img alt=\"Alura\" class=\"d-inline-block align-top\" src=\"img/alura-logo.svg\"/>"
      ]
     },
     "execution_count": 37,
     "metadata": {},
     "output_type": "execute_result"
    }
   ],
   "source": [
    "soup.img"
   ]
  },
  {
   "cell_type": "markdown",
   "metadata": {},
   "source": [
    "### Método *findAll()*"
   ]
  },
  {
   "cell_type": "code",
   "execution_count": 38,
   "metadata": {},
   "outputs": [
    {
     "data": {
      "text/plain": [
       "[<img alt=\"Alura\" class=\"d-inline-block align-top\" src=\"img/alura-logo.svg\"/>,\n",
       " <img alt=\"Foto\" height=\"155\" src=\"https://caelum-online-public.s3.amazonaws.com/1381-scraping/01/img-cars/lamborghini-aventador/lamborghini-aventador-2932196__340.jpg\" width=\"220\"/>,\n",
       " <img alt=\"Foto\" height=\"155\" src=\"https://caelum-online-public.s3.amazonaws.com/1381-scraping/01/img-cars/bmw-m2/bmw-m2-2970882__340.jpg\" width=\"220\"/>,\n",
       " <img alt=\"Foto\" height=\"155\" src=\"https://caelum-online-public.s3.amazonaws.com/1381-scraping/01/img-cars/alfa/alfa-1823056__340.jpg\" width=\"220\"/>,\n",
       " <img alt=\"Foto\" height=\"155\" src=\"https://caelum-online-public.s3.amazonaws.com/1381-scraping/01/img-cars/puech/puech-4055386__340.jpg\" width=\"220\"/>,\n",
       " <img alt=\"Foto\" height=\"155\" src=\"https://caelum-online-public.s3.amazonaws.com/1381-scraping/01/img-cars/lamborghini-murcielago/lamborghini-murcielago-2872974__340.jpg\" width=\"220\"/>,\n",
       " <img alt=\"Foto\" height=\"155\" src=\"https://caelum-online-public.s3.amazonaws.com/1381-scraping/01/img-cars/aston-martin/aston-martin-2977916__340.jpg\" width=\"220\"/>,\n",
       " <img alt=\"Foto\" height=\"155\" src=\"https://caelum-online-public.s3.amazonaws.com/1381-scraping/01/img-cars/tvr/tvr-2943925__340.jpg\" width=\"220\"/>,\n",
       " <img alt=\"Foto\" height=\"155\" src=\"https://caelum-online-public.s3.amazonaws.com/1381-scraping/01/img-cars/excalibur/excalibur-2916730__340.jpg\" width=\"220\"/>,\n",
       " <img alt=\"Foto\" height=\"155\" src=\"https://caelum-online-public.s3.amazonaws.com/1381-scraping/01/img-cars/mclaren/mclaren-2855240__340.jpg\" width=\"220\"/>,\n",
       " <img alt=\"Foto\" height=\"155\" src=\"https://caelum-online-public.s3.amazonaws.com/1381-scraping/01/img-cars/toyota/toyota-3245397__340.jpg\" width=\"220\"/>,\n",
       " <img alt=\"Alura\" class=\"d-inline-block align-top\" src=\"img/alura-logo.svg\"/>]"
      ]
     },
     "execution_count": 38,
     "metadata": {},
     "output_type": "execute_result"
    }
   ],
   "source": [
    "soup.findAll('img')"
   ]
  },
  {
   "cell_type": "markdown",
   "metadata": {},
   "source": [
    "### Comando equivalente ao método *find()*"
   ]
  },
  {
   "cell_type": "code",
   "execution_count": 39,
   "metadata": {},
   "outputs": [
    {
     "data": {
      "text/plain": [
       "<img alt=\"Alura\" class=\"d-inline-block align-top\" src=\"img/alura-logo.svg\"/>"
      ]
     },
     "execution_count": 39,
     "metadata": {},
     "output_type": "execute_result"
    }
   ],
   "source": [
    "soup.findAll('img',limit=1)[0]"
   ]
  },
  {
   "cell_type": "markdown",
   "metadata": {},
   "source": [
    "### Atalho para o método *findAll()*"
   ]
  },
  {
   "cell_type": "code",
   "execution_count": 40,
   "metadata": {},
   "outputs": [
    {
     "data": {
      "text/plain": [
       "[<img alt=\"Alura\" class=\"d-inline-block align-top\" src=\"img/alura-logo.svg\"/>,\n",
       " <img alt=\"Foto\" height=\"155\" src=\"https://caelum-online-public.s3.amazonaws.com/1381-scraping/01/img-cars/lamborghini-aventador/lamborghini-aventador-2932196__340.jpg\" width=\"220\"/>,\n",
       " <img alt=\"Foto\" height=\"155\" src=\"https://caelum-online-public.s3.amazonaws.com/1381-scraping/01/img-cars/bmw-m2/bmw-m2-2970882__340.jpg\" width=\"220\"/>,\n",
       " <img alt=\"Foto\" height=\"155\" src=\"https://caelum-online-public.s3.amazonaws.com/1381-scraping/01/img-cars/alfa/alfa-1823056__340.jpg\" width=\"220\"/>,\n",
       " <img alt=\"Foto\" height=\"155\" src=\"https://caelum-online-public.s3.amazonaws.com/1381-scraping/01/img-cars/puech/puech-4055386__340.jpg\" width=\"220\"/>,\n",
       " <img alt=\"Foto\" height=\"155\" src=\"https://caelum-online-public.s3.amazonaws.com/1381-scraping/01/img-cars/lamborghini-murcielago/lamborghini-murcielago-2872974__340.jpg\" width=\"220\"/>,\n",
       " <img alt=\"Foto\" height=\"155\" src=\"https://caelum-online-public.s3.amazonaws.com/1381-scraping/01/img-cars/aston-martin/aston-martin-2977916__340.jpg\" width=\"220\"/>,\n",
       " <img alt=\"Foto\" height=\"155\" src=\"https://caelum-online-public.s3.amazonaws.com/1381-scraping/01/img-cars/tvr/tvr-2943925__340.jpg\" width=\"220\"/>,\n",
       " <img alt=\"Foto\" height=\"155\" src=\"https://caelum-online-public.s3.amazonaws.com/1381-scraping/01/img-cars/excalibur/excalibur-2916730__340.jpg\" width=\"220\"/>,\n",
       " <img alt=\"Foto\" height=\"155\" src=\"https://caelum-online-public.s3.amazonaws.com/1381-scraping/01/img-cars/mclaren/mclaren-2855240__340.jpg\" width=\"220\"/>,\n",
       " <img alt=\"Foto\" height=\"155\" src=\"https://caelum-online-public.s3.amazonaws.com/1381-scraping/01/img-cars/toyota/toyota-3245397__340.jpg\" width=\"220\"/>,\n",
       " <img alt=\"Alura\" class=\"d-inline-block align-top\" src=\"img/alura-logo.svg\"/>]"
      ]
     },
     "execution_count": 40,
     "metadata": {},
     "output_type": "execute_result"
    }
   ],
   "source": [
    "soup('img')"
   ]
  },
  {
   "cell_type": "markdown",
   "metadata": {},
   "source": [
    "### Passando listas de TAGs"
   ]
  },
  {
   "cell_type": "code",
   "execution_count": 41,
   "metadata": {},
   "outputs": [
    {
     "data": {
      "text/plain": [
       "['h1', 'h2', 'h3', 'h4', 'h5', 'h6']"
      ]
     },
     "execution_count": 41,
     "metadata": {},
     "output_type": "execute_result"
    }
   ],
   "source": [
    "hs = ['h'+str(i) for i in range(1,7)]\n",
    "hs"
   ]
  },
  {
   "cell_type": "code",
   "execution_count": 42,
   "metadata": {},
   "outputs": [
    {
     "data": {
      "text/plain": [
       "[<h5 class=\"modal-title\" id=\"loadingModal_label\"><span class=\"glyphicon glyphicon-refresh\"></span>Aguarde... </h5>,\n",
       " <h4><b id=\"loadingModal_content\"></b></h4>,\n",
       " <h1 class=\"sub-header\">Veículos de Luxo Novos e Usados - Todas as Marcas</h1>]"
      ]
     },
     "execution_count": 42,
     "metadata": {},
     "output_type": "execute_result"
    }
   ],
   "source": [
    "soup.findAll(['h1','h2','h3','h4','h5','h6'])"
   ]
  },
  {
   "cell_type": "markdown",
   "metadata": {},
   "source": [
    "### Utilizando o argumento *attributes*"
   ]
  },
  {
   "cell_type": "code",
   "execution_count": 43,
   "metadata": {
    "scrolled": true
   },
   "outputs": [
    {
     "data": {
      "text/plain": [
       "[<p class=\"txt-value\">R$ 338.000</p>,\n",
       " <p class=\"txt-value\">R$ 346.000</p>,\n",
       " <p class=\"txt-value\">R$ 480.000</p>,\n",
       " <p class=\"txt-value\">R$ 133.000</p>,\n",
       " <p class=\"txt-value\">R$ 175.000</p>,\n",
       " <p class=\"txt-value\">R$ 239.000</p>,\n",
       " <p class=\"txt-value\">R$ 115.000</p>,\n",
       " <p class=\"txt-value\">R$ 114.000</p>,\n",
       " <p class=\"txt-value\">R$ 75.000</p>,\n",
       " <p class=\"txt-value\">R$ 117.000</p>]"
      ]
     },
     "execution_count": 43,
     "metadata": {},
     "output_type": "execute_result"
    }
   ],
   "source": [
    "soup.findAll('p',{'class': 'txt-value'})"
   ]
  },
  {
   "cell_type": "markdown",
   "metadata": {},
   "source": [
    "### Buscando por conteúdo de uma TAG"
   ]
  },
  {
   "cell_type": "code",
   "execution_count": 44,
   "metadata": {},
   "outputs": [
    {
     "data": {
      "text/plain": [
       "[<p class=\"txt-location\">Belo Horizonte - MG</p>,\n",
       " <p class=\"txt-location\">Belo Horizonte - MG</p>,\n",
       " <p class=\"txt-location\">Belo Horizonte - MG</p>,\n",
       " <p class=\"txt-location\">Belo Horizonte - MG</p>,\n",
       " <p class=\"txt-location\">Belo Horizonte - MG</p>]"
      ]
     },
     "execution_count": 44,
     "metadata": {},
     "output_type": "execute_result"
    }
   ],
   "source": [
    "soup.findAll('p',text='Belo Horizonte - MG')"
   ]
  },
  {
   "cell_type": "markdown",
   "metadata": {},
   "source": [
    "### Utilizando diretamente os atributos"
   ]
  },
  {
   "cell_type": "code",
   "execution_count": 45,
   "metadata": {},
   "outputs": [
    {
     "data": {
      "text/plain": [
       "[<img alt=\"Foto\" height=\"155\" src=\"https://caelum-online-public.s3.amazonaws.com/1381-scraping/01/img-cars/lamborghini-aventador/lamborghini-aventador-2932196__340.jpg\" width=\"220\"/>,\n",
       " <img alt=\"Foto\" height=\"155\" src=\"https://caelum-online-public.s3.amazonaws.com/1381-scraping/01/img-cars/bmw-m2/bmw-m2-2970882__340.jpg\" width=\"220\"/>,\n",
       " <img alt=\"Foto\" height=\"155\" src=\"https://caelum-online-public.s3.amazonaws.com/1381-scraping/01/img-cars/alfa/alfa-1823056__340.jpg\" width=\"220\"/>,\n",
       " <img alt=\"Foto\" height=\"155\" src=\"https://caelum-online-public.s3.amazonaws.com/1381-scraping/01/img-cars/puech/puech-4055386__340.jpg\" width=\"220\"/>,\n",
       " <img alt=\"Foto\" height=\"155\" src=\"https://caelum-online-public.s3.amazonaws.com/1381-scraping/01/img-cars/lamborghini-murcielago/lamborghini-murcielago-2872974__340.jpg\" width=\"220\"/>,\n",
       " <img alt=\"Foto\" height=\"155\" src=\"https://caelum-online-public.s3.amazonaws.com/1381-scraping/01/img-cars/aston-martin/aston-martin-2977916__340.jpg\" width=\"220\"/>,\n",
       " <img alt=\"Foto\" height=\"155\" src=\"https://caelum-online-public.s3.amazonaws.com/1381-scraping/01/img-cars/tvr/tvr-2943925__340.jpg\" width=\"220\"/>,\n",
       " <img alt=\"Foto\" height=\"155\" src=\"https://caelum-online-public.s3.amazonaws.com/1381-scraping/01/img-cars/excalibur/excalibur-2916730__340.jpg\" width=\"220\"/>,\n",
       " <img alt=\"Foto\" height=\"155\" src=\"https://caelum-online-public.s3.amazonaws.com/1381-scraping/01/img-cars/mclaren/mclaren-2855240__340.jpg\" width=\"220\"/>,\n",
       " <img alt=\"Foto\" height=\"155\" src=\"https://caelum-online-public.s3.amazonaws.com/1381-scraping/01/img-cars/toyota/toyota-3245397__340.jpg\" width=\"220\"/>]"
      ]
     },
     "execution_count": 45,
     "metadata": {},
     "output_type": "execute_result"
    }
   ],
   "source": [
    "soup.findAll('img',alt='Foto')"
   ]
  },
  {
   "cell_type": "code",
   "execution_count": 46,
   "metadata": {},
   "outputs": [
    {
     "name": "stdout",
     "output_type": "stream",
     "text": [
      "https://caelum-online-public.s3.amazonaws.com/1381-scraping/01/img-cars/lamborghini-aventador/lamborghini-aventador-2932196__340.jpg\n",
      "https://caelum-online-public.s3.amazonaws.com/1381-scraping/01/img-cars/bmw-m2/bmw-m2-2970882__340.jpg\n",
      "https://caelum-online-public.s3.amazonaws.com/1381-scraping/01/img-cars/alfa/alfa-1823056__340.jpg\n",
      "https://caelum-online-public.s3.amazonaws.com/1381-scraping/01/img-cars/puech/puech-4055386__340.jpg\n",
      "https://caelum-online-public.s3.amazonaws.com/1381-scraping/01/img-cars/lamborghini-murcielago/lamborghini-murcielago-2872974__340.jpg\n",
      "https://caelum-online-public.s3.amazonaws.com/1381-scraping/01/img-cars/aston-martin/aston-martin-2977916__340.jpg\n",
      "https://caelum-online-public.s3.amazonaws.com/1381-scraping/01/img-cars/tvr/tvr-2943925__340.jpg\n",
      "https://caelum-online-public.s3.amazonaws.com/1381-scraping/01/img-cars/excalibur/excalibur-2916730__340.jpg\n",
      "https://caelum-online-public.s3.amazonaws.com/1381-scraping/01/img-cars/mclaren/mclaren-2855240__340.jpg\n",
      "https://caelum-online-public.s3.amazonaws.com/1381-scraping/01/img-cars/toyota/toyota-3245397__340.jpg\n"
     ]
    }
   ],
   "source": [
    "for item in soup.findAll('img',alt='Foto'):\n",
    "    print(item['src'])\n",
    "    #print(item.get('src'))"
   ]
  },
  {
   "cell_type": "markdown",
   "metadata": {},
   "source": [
    "### Cuidado com o atributo \"class\""
   ]
  },
  {
   "cell_type": "code",
   "execution_count": 47,
   "metadata": {},
   "outputs": [
    {
     "data": {
      "text/plain": [
       "[<p class=\"txt-value\">R$ 338.000</p>,\n",
       " <p class=\"txt-value\">R$ 346.000</p>,\n",
       " <p class=\"txt-value\">R$ 480.000</p>,\n",
       " <p class=\"txt-value\">R$ 133.000</p>,\n",
       " <p class=\"txt-value\">R$ 175.000</p>,\n",
       " <p class=\"txt-value\">R$ 239.000</p>,\n",
       " <p class=\"txt-value\">R$ 115.000</p>,\n",
       " <p class=\"txt-value\">R$ 114.000</p>,\n",
       " <p class=\"txt-value\">R$ 75.000</p>,\n",
       " <p class=\"txt-value\">R$ 117.000</p>]"
      ]
     },
     "execution_count": 47,
     "metadata": {},
     "output_type": "execute_result"
    }
   ],
   "source": [
    "soup.findAll('p',class_='txt-value')"
   ]
  },
  {
   "cell_type": "markdown",
   "metadata": {},
   "source": [
    "### Obtendo todo o conteúdo de texto de uma página"
   ]
  },
  {
   "cell_type": "code",
   "execution_count": 48,
   "metadata": {},
   "outputs": [
    {
     "data": {
      "text/plain": [
       "['html',\n",
       " 'Alura Motors',\n",
       " \" /*Regra para a animacao*/ @keyframes spin { 0% { transform: rotate(0deg); } 100% { transform: rotate(360deg); } } /*Mudando o tamanho do icone de resposta*/ div.glyphicon { color:#6B8E23; font-size: 38px; } /*Classe que mostra a animacao 'spin'*/ .loader { border: 16px solid #f3f3f3; border-radius: 50%; border-top: 16px solid #3498db; width: 80px; height: 80px; -webkit-animation: spin 2s linear infinite; animation: spin 2s linear infinite; } \",\n",
       " ' requisitar(\"https://alura-scraping.herokuapp.com/produtos?_page=\"+1+\"&_limit=10\") ',\n",
       " 'You need to enable JavaScript to run this app.',\n",
       " 'Aguarde... ',\n",
       " 'Motors ',\n",
       " 'Hello World',\n",
       " 'Anúncios',\n",
       " 'Veículos de Luxo Novos e Usados - Todas as Marcas',\n",
       " '246 veículos encontrados',\n",
       " 'Página 1 de 25',\n",
       " 'LAMBORGHINI AVENTADOR',\n",
       " 'USADO',\n",
       " 'Motor 1.8 16v',\n",
       " 'Ano 1993 - 55.286 km',\n",
       " '► 4 X 4',\n",
       " '► Câmera de estacionamento',\n",
       " '► Controle de tração',\n",
       " '► Sensor de estacionamento',\n",
       " '...',\n",
       " 'Belo Horizonte - MG',\n",
       " 'R$ 338.000',\n",
       " 'BMW M2',\n",
       " 'USADO',\n",
       " 'Motor 3.0 32v',\n",
       " 'Ano 2018 - 83.447 km',\n",
       " '► Câmera de estacionamento',\n",
       " '► Controle de estabilidade',\n",
       " '► Travas elétricas',\n",
       " '► Freios ABS',\n",
       " '...',\n",
       " 'Belo Horizonte - MG',\n",
       " 'R$ 346.000',\n",
       " 'ALFA',\n",
       " 'USADO',\n",
       " 'Motor 1.8 16v',\n",
       " 'Ano 2004 - 19.722 km',\n",
       " '► Central multimídia',\n",
       " '► Bancos de couro',\n",
       " '► Rodas de liga',\n",
       " '► Câmera de estacionamento',\n",
       " '...',\n",
       " 'Rio de Janeiro - RJ',\n",
       " 'R$ 480.000',\n",
       " 'PUECH',\n",
       " 'USADO',\n",
       " 'Motor Diesel V8',\n",
       " 'Ano 1992 - 34.335 km',\n",
       " '► Bancos de couro',\n",
       " '► Freios ABS',\n",
       " '► Rodas de liga',\n",
       " '► Câmbio automático',\n",
       " '...',\n",
       " 'São Paulo - SP',\n",
       " 'R$ 133.000',\n",
       " 'LAMBORGHINI MURCIELAGO',\n",
       " 'USADO',\n",
       " 'Motor 1.0 8v',\n",
       " 'Ano 1991 - 464 km',\n",
       " '► Central multimídia',\n",
       " '► Teto panorâmico',\n",
       " '► Sensor crepuscular',\n",
       " '► Piloto automático',\n",
       " '...',\n",
       " 'Belo Horizonte - MG',\n",
       " 'R$ 175.000',\n",
       " 'ASTON MARTIN',\n",
       " 'USADO',\n",
       " 'OPORTUNIDADE',\n",
       " 'Motor Diesel V6',\n",
       " 'Ano 2004 - 50.189 km',\n",
       " '► Painel digital',\n",
       " '► Controle de tração',\n",
       " '► Teto panorâmico',\n",
       " '► Central multimídia',\n",
       " '...',\n",
       " 'Belo Horizonte - MG',\n",
       " 'R$ 239.000',\n",
       " 'TVR',\n",
       " 'USADO',\n",
       " 'Motor 4.0 Turbo',\n",
       " 'Ano 2014 - 17.778 km',\n",
       " '► 4 X 4',\n",
       " '► Teto panorâmico',\n",
       " '► Central multimídia',\n",
       " '► Controle de estabilidade',\n",
       " '...',\n",
       " 'Belo Horizonte - MG',\n",
       " 'R$ 115.000',\n",
       " 'EXCALIBUR',\n",
       " 'USADO',\n",
       " 'Motor 3.0 32v',\n",
       " 'Ano 2009 - 81.251 km',\n",
       " '► Painel digital',\n",
       " '► Câmbio automático',\n",
       " '► Sensor de chuva',\n",
       " '► Travas elétricas',\n",
       " '...',\n",
       " 'Rio de Janeiro - RJ',\n",
       " 'R$ 114.000',\n",
       " 'MCLAREN',\n",
       " 'NOVO',\n",
       " 'Motor Diesel',\n",
       " 'Ano 2019 - 0 km',\n",
       " '► Central multimídia',\n",
       " '► Câmera de estacionamento',\n",
       " '► Câmbio automático',\n",
       " '► Ar condicionado',\n",
       " '...',\n",
       " 'São Paulo - SP',\n",
       " 'R$ 75.000',\n",
       " 'TOYOTA',\n",
       " 'USADO',\n",
       " 'OPORTUNIDADE',\n",
       " 'Motor 4.0 Turbo',\n",
       " 'Ano 1999 - 12.536 km',\n",
       " '► Bancos de couro',\n",
       " '► Freios ABS',\n",
       " '► Piloto automático',\n",
       " '► Controle de estabilidade',\n",
       " '...',\n",
       " 'São Paulo - SP',\n",
       " 'R$ 117.000',\n",
       " '246 veículos encontrados',\n",
       " 'Página 1 de 25',\n",
       " 'Motors ',\n",
       " 'Aplicação para treinamento de web scraping']"
      ]
     },
     "execution_count": 48,
     "metadata": {},
     "output_type": "execute_result"
    }
   ],
   "source": [
    "soup.findAll(text=True)"
   ]
  },
  {
   "cell_type": "markdown",
   "metadata": {},
   "source": [
    "# 4.2. Outros métodos de pesquisa"
   ]
  },
  {
   "cell_type": "markdown",
   "metadata": {},
   "source": [
    "- ### *findParent(tag, attributes, text, **kwargs)*\n",
    "\n",
    "- ### *findParents(tag, attributes, text, limit, **kwargs)*\n",
    "\n",
    "#### https://www.crummy.com/software/BeautifulSoup/bs4/doc/#find-parents-and-find-parent\n",
    "\n",
    "> **Observação:**\n",
    "> - *findParent()* e *findParents()* também podem ser utilizados como *find_parent()* e *find_parents()*, respectivamente.\n",
    "---\n",
    "- ### *findNextSibling(tag, attributes, text, **kwargs)*\n",
    "\n",
    "- ### *findNextSiblings(tag, attributes, text, limit, **kwargs)*\n",
    "\n",
    "- ### *findPreviousSibling(tag, attributes, text, **kwargs)*\n",
    "\n",
    "- ### *findPreviousSiblings(tag, attributes, text, limit, **kwargs)*\n",
    "\n",
    "#### https://www.crummy.com/software/BeautifulSoup/bs4/doc/#find-next-siblings-and-find-next-sibling\n",
    "#### https://www.crummy.com/software/BeautifulSoup/bs4/doc/#find-previous-siblings-and-find-previous-sibling\n",
    "\n",
    "> **Observação:**\n",
    "> - *findNextSibling()*, *findNextSiblings()*, *findPreviousSibling()* e *findPreviousSiblings()* também podem ser utilizados como *find_next_sibling()*, *find_next_siblings()*, *find_previous_sibling()* e *find_previous_siblings()*, respectivamente.\n",
    "---\n",
    "- ### *findNext(tag, attributes, text, **kwargs)*\n",
    "\n",
    "- ### *findAllNext(tag, attributes, text, limit, **kwargs)*\n",
    "\n",
    "- ### *findPrevious(tag, attributes, text, **kwargs)*\n",
    "\n",
    "- ### *findAllPrevious(tag, attributes, text, limit, **kwargs)*\n",
    "\n",
    "#### https://www.crummy.com/software/BeautifulSoup/bs4/doc/#find-all-next-and-find-next\n",
    "#### https://www.crummy.com/software/BeautifulSoup/bs4/doc/#find-all-previous-and-find-previous\n",
    "\n",
    "> **Observação:**\n",
    "> - *findNext()*, *findAllNext()*, *findPrevious* e *findAllPrevious* também podem ser utilizados como *find_next()*, *find_all_next()*, *find_previous()* e *find_all_previous()*, respectivamente."
   ]
  },
  {
   "cell_type": "markdown",
   "metadata": {},
   "source": [
    "## HTML de exemplo para ilustrar a utilização dos métodos de pesquisa do BeautifulSoup"
   ]
  },
  {
   "cell_type": "markdown",
   "metadata": {},
   "source": [
    "<img src=\"https://caelum-online-public.s3.amazonaws.com/1381-scraping/01/BeautifulSoup-method.png\" width=80%>"
   ]
  },
  {
   "cell_type": "markdown",
   "metadata": {},
   "source": [
    "---\n",
    "## Resultado"
   ]
  },
  {
   "cell_type": "markdown",
   "metadata": {},
   "source": [
    "<html>\n",
    "    <body>\n",
    "        <div id=“container-a”>\n",
    "            <h1>Título A</h1>\n",
    "            <h2 class=\"ref-a\">Sub título A</h2>\n",
    "            <p>Texto de conteúdo A</p>\n",
    "        </div>\n",
    "        <div id=“container-b”>\n",
    "            <h1>Título B</h1>\n",
    "            <h2 class=\"ref-b\">Sub título B</h2>\n",
    "            <p>Texto de conteúdo B</p>\n",
    "        </div>\n",
    "    </body>\n",
    "</html>"
   ]
  },
  {
   "cell_type": "code",
   "execution_count": 49,
   "metadata": {},
   "outputs": [
    {
     "data": {
      "text/plain": [
       "'\\n\\'<html>\\n    <body>\\n        <div id=“container-a”>\\n            <h1>Título A</h1>\\n            <h2 class=\"ref-a\">Sub título A</h2>\\n            <p>Texto de conteúdo A</p>\\n        </div>\\n        <div id=“container-b”>\\n            <h1>Título B</h1>\\n            <h2 class=\"ref-b\">Sub título B</h2>\\n            <p>Texto de conteúdo B</p>\\n        </div>\\n    </body>\\n</html>\\'\\n'"
      ]
     },
     "execution_count": 49,
     "metadata": {},
     "output_type": "execute_result"
    }
   ],
   "source": [
    "html_teste = \"\"\"\n",
    "'<html>\n",
    "    <body>\n",
    "        <div id=“container-a”>\n",
    "            <h1>Título A</h1>\n",
    "            <h2 class=\"ref-a\">Sub título A</h2>\n",
    "            <p>Texto de conteúdo A</p>\n",
    "        </div>\n",
    "        <div id=“container-b”>\n",
    "            <h1>Título B</h1>\n",
    "            <h2 class=\"ref-b\">Sub título B</h2>\n",
    "            <p>Texto de conteúdo B</p>\n",
    "        </div>\n",
    "    </body>\n",
    "</html>'\n",
    "\"\"\"\n",
    "html_teste"
   ]
  },
  {
   "cell_type": "markdown",
   "metadata": {},
   "source": [
    "### Tratamentos para a string HTML"
   ]
  },
  {
   "cell_type": "code",
   "execution_count": 50,
   "metadata": {},
   "outputs": [
    {
     "data": {
      "text/plain": [
       "'\\'<html><body><div id=“container-a”><h1>Título A</h1><h2 class=\"ref-a\">Sub título A</h2><p>Texto de conteúdo A</p></div><div id=“container-b”><h1>Título B</h1><h2 class=\"ref-b\">Sub título B</h2><p>Texto de conteúdo B</p></div></body></html>\\''"
      ]
     },
     "execution_count": 50,
     "metadata": {},
     "output_type": "execute_result"
    }
   ],
   "source": [
    "html_teste = trata_html(html_teste)\n",
    "html_teste"
   ]
  },
  {
   "cell_type": "code",
   "execution_count": null,
   "metadata": {},
   "outputs": [],
   "source": []
  },
  {
   "cell_type": "markdown",
   "metadata": {},
   "source": [
    "### Criando o objeto BeautifulSoup"
   ]
  },
  {
   "cell_type": "code",
   "execution_count": 51,
   "metadata": {
    "scrolled": true
   },
   "outputs": [
    {
     "data": {
      "text/plain": [
       "'<html><body><div id=\"“container-a”\"><h1>Título A</h1><h2 class=\"ref-a\">Sub título A</h2><p>Texto de conteúdo A</p></div><div id=\"“container-b”\"><h1>Título B</h1><h2 class=\"ref-b\">Sub título B</h2><p>Texto de conteúdo B</p></div></body></html>'"
      ]
     },
     "execution_count": 51,
     "metadata": {},
     "output_type": "execute_result"
    }
   ],
   "source": [
    "soup = BeautifulSoup(html_teste, 'html.parser')\n",
    "soup"
   ]
  },
  {
   "cell_type": "markdown",
   "metadata": {},
   "source": [
    "### Parents"
   ]
  },
  {
   "cell_type": "code",
   "execution_count": 52,
   "metadata": {},
   "outputs": [
    {
     "data": {
      "text/plain": [
       "<h2 class=\"ref-a\">Sub título A</h2>"
      ]
     },
     "execution_count": 52,
     "metadata": {},
     "output_type": "execute_result"
    }
   ],
   "source": [
    "soup.find('h2')"
   ]
  },
  {
   "cell_type": "code",
   "execution_count": 53,
   "metadata": {},
   "outputs": [
    {
     "data": {
      "text/plain": [
       "<div id=\"“container-a”\"><h1>Título A</h1><h2 class=\"ref-a\">Sub título A</h2><p>Texto de conteúdo A</p></div>"
      ]
     },
     "execution_count": 53,
     "metadata": {},
     "output_type": "execute_result"
    }
   ],
   "source": [
    "soup.find('h2').find_parent('div')"
   ]
  },
  {
   "cell_type": "code",
   "execution_count": 54,
   "metadata": {},
   "outputs": [
    {
     "data": {
      "text/plain": [
       "[<div id=\"“container-a”\"><h1>Título A</h1><h2 class=\"ref-a\">Sub título A</h2><p>Texto de conteúdo A</p></div>,\n",
       " <body><div id=\"“container-a”\"><h1>Título A</h1><h2 class=\"ref-a\">Sub título A</h2><p>Texto de conteúdo A</p></div><div id=\"“container-b”\"><h1>Título B</h1><h2 class=\"ref-b\">Sub título B</h2><p>Texto de conteúdo B</p></div></body>,\n",
       " <html><body><div id=\"“container-a”\"><h1>Título A</h1><h2 class=\"ref-a\">Sub título A</h2><p>Texto de conteúdo A</p></div><div id=\"“container-b”\"><h1>Título B</h1><h2 class=\"ref-b\">Sub título B</h2><p>Texto de conteúdo B</p></div></body></html>,\n",
       " '<html><body><div id=\"“container-a”\"><h1>Título A</h1><h2 class=\"ref-a\">Sub título A</h2><p>Texto de conteúdo A</p></div><div id=\"“container-b”\"><h1>Título B</h1><h2 class=\"ref-b\">Sub título B</h2><p>Texto de conteúdo B</p></div></body></html>']"
      ]
     },
     "execution_count": 54,
     "metadata": {},
     "output_type": "execute_result"
    }
   ],
   "source": [
    "soup.find('h2').find_parents()"
   ]
  },
  {
   "cell_type": "code",
   "execution_count": 55,
   "metadata": {},
   "outputs": [
    {
     "data": {
      "text/plain": [
       "[<h2 class=\"ref-a\">Sub título A</h2>, <h2 class=\"ref-b\">Sub título B</h2>]"
      ]
     },
     "execution_count": 55,
     "metadata": {},
     "output_type": "execute_result"
    }
   ],
   "source": [
    "soup.findAll('h2')"
   ]
  },
  {
   "cell_type": "code",
   "execution_count": 56,
   "metadata": {},
   "outputs": [],
   "source": [
    "#ERRO -> soup.findAll('h2').find_parent('div')"
   ]
  },
  {
   "cell_type": "code",
   "execution_count": 57,
   "metadata": {},
   "outputs": [
    {
     "name": "stdout",
     "output_type": "stream",
     "text": [
      "<div id=\"“container-a”\"><h1>Título A</h1><h2 class=\"ref-a\">Sub título A</h2><p>Texto de conteúdo A</p></div>\n",
      "<div id=\"“container-b”\"><h1>Título B</h1><h2 class=\"ref-b\">Sub título B</h2><p>Texto de conteúdo B</p></div>\n"
     ]
    }
   ],
   "source": [
    "for item in soup.findAll('h2'):\n",
    "    print(item.find_parent('div'))"
   ]
  },
  {
   "cell_type": "markdown",
   "metadata": {},
   "source": [
    "## Siblings"
   ]
  },
  {
   "cell_type": "code",
   "execution_count": 58,
   "metadata": {},
   "outputs": [
    {
     "data": {
      "text/plain": [
       "<p>Texto de conteúdo A</p>"
      ]
     },
     "execution_count": 58,
     "metadata": {},
     "output_type": "execute_result"
    }
   ],
   "source": [
    "soup.find('h2').findNextSibling()"
   ]
  },
  {
   "cell_type": "code",
   "execution_count": 59,
   "metadata": {},
   "outputs": [
    {
     "data": {
      "text/plain": [
       "<h1>Título A</h1>"
      ]
     },
     "execution_count": 59,
     "metadata": {},
     "output_type": "execute_result"
    }
   ],
   "source": [
    "soup.find('h2').findPreviousSibling()"
   ]
  },
  {
   "cell_type": "code",
   "execution_count": 60,
   "metadata": {},
   "outputs": [
    {
     "data": {
      "text/plain": [
       "<h2 class=\"ref-a\">Sub título A</h2>"
      ]
     },
     "execution_count": 60,
     "metadata": {},
     "output_type": "execute_result"
    }
   ],
   "source": [
    "soup.find('p').findPreviousSibling()"
   ]
  },
  {
   "cell_type": "markdown",
   "metadata": {},
   "source": [
    "## Next e Previous"
   ]
  },
  {
   "cell_type": "code",
   "execution_count": 61,
   "metadata": {},
   "outputs": [
    {
     "data": {
      "text/plain": [
       "<p>Texto de conteúdo A</p>"
      ]
     },
     "execution_count": 61,
     "metadata": {},
     "output_type": "execute_result"
    }
   ],
   "source": [
    "soup.find('h2').findNext()"
   ]
  },
  {
   "cell_type": "code",
   "execution_count": 62,
   "metadata": {},
   "outputs": [
    {
     "data": {
      "text/plain": [
       "<h1>Título A</h1>"
      ]
     },
     "execution_count": 62,
     "metadata": {},
     "output_type": "execute_result"
    }
   ],
   "source": [
    "soup.find('h2').findPrevious()"
   ]
  },
  {
   "cell_type": "code",
   "execution_count": 63,
   "metadata": {},
   "outputs": [
    {
     "data": {
      "text/plain": [
       "[<p>Texto de conteúdo A</p>,\n",
       " <div id=\"“container-b”\"><h1>Título B</h1><h2 class=\"ref-b\">Sub título B</h2><p>Texto de conteúdo B</p></div>,\n",
       " <h1>Título B</h1>,\n",
       " <h2 class=\"ref-b\">Sub título B</h2>,\n",
       " <p>Texto de conteúdo B</p>]"
      ]
     },
     "execution_count": 63,
     "metadata": {},
     "output_type": "execute_result"
    }
   ],
   "source": [
    "soup.find('h2').findAllNext()"
   ]
  },
  {
   "cell_type": "markdown",
   "metadata": {},
   "source": [
    "# <font color=green>5. WEB SCRAPING DO SITE ALURA MOTORS - OBTENDO OS DADOS DE UM ANÚNCIO"
   ]
  },
  {
   "cell_type": "markdown",
   "metadata": {},
   "source": [
    "# 5.1. Identificando e selecionando os dados no HTML"
   ]
  },
  {
   "cell_type": "markdown",
   "metadata": {},
   "source": [
    "### Obtendo o HTML e criando o objeto BeautifulSoup"
   ]
  },
  {
   "cell_type": "code",
   "execution_count": 64,
   "metadata": {},
   "outputs": [
    {
     "data": {
      "text/plain": [
       "<!DOCTYPE html>\n",
       "\n",
       "<html lang=\"pt-br\">\n",
       "<head>\n",
       "<meta charset=\"utf-8\"/>\n",
       "<meta content=\"width=device-width, initial-scale=1, shrink-to-fit=no\" name=\"viewport\"/>\n",
       "<title>Alura Motors</title>\n",
       "<style>\n",
       "\t\t/*Regra para a animacao*/\n",
       "\t\t@keyframes spin {\n",
       "\t\t\t0% { transform: rotate(0deg); }\n",
       "\t\t\t100% { transform: rotate(360deg); }\n",
       "\t\t}\n",
       "\t\t/*Mudando o tamanho do icone de resposta*/\n",
       "\t\tdiv.glyphicon {\n",
       "\t\t\tcolor:#6B8E23;\n",
       "\t\t\tfont-size: 38px;\n",
       "\t\t}\n",
       "\t\t/*Classe que mostra a animacao 'spin'*/\n",
       "\t\t.loader {\n",
       "\t\t\tborder: 16px solid #f3f3f3;\n",
       "\t\t\tborder-radius: 50%;\n",
       "\t\t\tborder-top: 16px solid #3498db;\n",
       "\t\t\twidth: 80px;\n",
       "\t\t\theight: 80px;\n",
       "\t\t\t-webkit-animation: spin 2s linear infinite;\n",
       "\t\t\tanimation: spin 2s linear infinite;\n",
       "\t\t}\n",
       "\t</style>\n",
       "<link crossorigin=\"anonymous\" href=\"https://maxcdn.bootstrapcdn.com/bootstrap/3.3.7/css/bootstrap.min.css\" integrity=\"sha384-BVYiiSIFeK1dGmJRAkycuHAHRg32OmUcww7on3RYdg4Va+PmSTsz/K68vbdEjh4u\" rel=\"stylesheet\"/>\n",
       "<link href=\"css/styles.css\" media=\"all\" rel=\"stylesheet\"/>\n",
       "<script src=\"https://code.jquery.com/jquery-1.12.4.js\"></script>\n",
       "<script crossorigin=\"anonymous\" integrity=\"sha384-Tc5IQib027qvyjSMfHjOMaLkfuWVxZxUPnCJA7l2mCWNIpG9mGCD8wGNIcPD7Txa\" src=\"https://maxcdn.bootstrapcdn.com/bootstrap/3.3.7/js/bootstrap.min.js\"></script>\n",
       "<script src=\"js/index.js\" type=\"text/javascript\"></script>\n",
       "<script>\n",
       "\t\trequisitar(\"https://alura-scraping.herokuapp.com/produtos?_page=\"+1+\"&_limit=10\")\n",
       "\t</script>\n",
       "</head>\n",
       "<body cz-shortcut-listen=\"true\">\n",
       "<noscript>You need to enable JavaScript to run this app.</noscript>\n",
       "<div aria-labelledby=\"loadingModal_label\" class=\"modal fade\" data-backdrop=\"static\" id=\"loadingModal\" role=\"dialog\" tabindex=\"-1\">\n",
       "<div class=\"modal-dialog\" role=\"document\">\n",
       "<div class=\"modal-content\">\n",
       "<div class=\"modal-header\">\n",
       "<h5 class=\"modal-title\" id=\"loadingModal_label\">\n",
       "<span class=\"glyphicon glyphicon-refresh\"></span>Aguarde...\n",
       "\t\t\t\t\t</h5>\n",
       "</div>\n",
       "<div class=\"modal-body\">\n",
       "<div class=\"alert\" role=\"alert\">\n",
       "<center>\n",
       "<div class=\"loader\" id=\"loader\"></div><br/>\n",
       "<h4><b id=\"loadingModal_content\"></b></h4>\n",
       "</center>\n",
       "</div>\n",
       "</div>\n",
       "</div>\n",
       "</div>\n",
       "</div>\n",
       "<div id=\"root\">\n",
       "<header>\n",
       "<nav class=\"navbar navbar-inverse\" style=\"margin-bottom: 0;\">\n",
       "<div class=\"container\" style=\"margin-bottom: -20px;\">\n",
       "<div class=\"navbar\">\n",
       "<a class=\"navbar-brand\" href=\"./index.php\" title=\"Alura Motors\">\n",
       "<img alt=\"Alura\" class=\"d-inline-block align-top\" src=\"img/alura-logo.svg\"/>Motors\n",
       "\t\t\t\t\t\t</a>\n",
       "<ul class=\"nav navbar-nav\" style=\"margin-top: 35px;\">\n",
       "<li><a href=\"./hello-world.php\">Hello World</a></li>\n",
       "<li><a href=\"./index.php\">Anúncios</a></li>\n",
       "</ul>\n",
       "</div>\n",
       "</div>\n",
       "</nav>\n",
       "</header>\n",
       "<div class=\"container\">\n",
       "<h1 class=\"sub-header\">Veículos de Luxo Novos e Usados - Todas as Marcas</h1>\n",
       "<div class=\"row\">\n",
       "<div class=\"col-md-12\">\n",
       "<div class=\"container\" style=\"width: 100%\">\n",
       "<div class=\"type-select\">246 veículos encontrados</div>\n",
       "<div class=\"container-pagination\" style=\"float: right\">\n",
       "<span class=\"info-pages\">Página 1 de 25</span>\n",
       "</div>\n",
       "</div>\n",
       "<div id=\"container-cards\" style=\"height: 100%\">\n",
       "<div class=\"well card\">\n",
       "<div class=\"col-md-3 image-card\">\n",
       "<img alt=\"Foto\" height=\"155\" src=\"https://caelum-online-public.s3.amazonaws.com/1381-scraping/01/img-cars/lamborghini-aventador/lamborghini-aventador-2932196__340.jpg\" width=\"220\"/>\n",
       "</div>\n",
       "<div class=\"col-md-6 body-card\">\n",
       "<p class=\"txt-name inline\">LAMBORGHINI AVENTADOR</p>\n",
       "<p class=\"txt-category badge badge-secondary inline\">USADO</p>\n",
       "<p class=\"txt-motor\">Motor 1.8 16v</p>\n",
       "<p class=\"txt-description\">Ano 1993 - 55.286 km</p>\n",
       "<ul class=\"lst-items\">\n",
       "<li class=\"txt-items\">► 4 X 4</li>\n",
       "<li class=\"txt-items\">► Câmera de estacionamento</li>\n",
       "<li class=\"txt-items\">► Controle de tração</li>\n",
       "<li class=\"txt-items\">► Sensor de estacionamento</li>\n",
       "<li class=\"txt-items\">...</li>\n",
       "</ul>\n",
       "<p class=\"txt-location\">Belo Horizonte - MG</p>\n",
       "</div>\n",
       "<div class=\"col-md-3 value-card\">\n",
       "<div class=\"value\">\n",
       "<p class=\"txt-value\">R$ 338.000</p>\n",
       "</div>\n",
       "</div>\n",
       "</div>\n",
       "<div class=\"well card\">\n",
       "<div class=\"col-md-3 image-card\">\n",
       "<img alt=\"Foto\" height=\"155\" src=\"https://caelum-online-public.s3.amazonaws.com/1381-scraping/01/img-cars/bmw-m2/bmw-m2-2970882__340.jpg\" width=\"220\"/>\n",
       "</div>\n",
       "<div class=\"col-md-6 body-card\">\n",
       "<p class=\"txt-name inline\">BMW M2</p>\n",
       "<p class=\"txt-category badge badge-secondary inline\">USADO</p>\n",
       "<p class=\"txt-motor\">Motor 3.0 32v</p>\n",
       "<p class=\"txt-description\">Ano 2018 - 83.447 km</p>\n",
       "<ul class=\"lst-items\">\n",
       "<li class=\"txt-items\">► Câmera de estacionamento</li>\n",
       "<li class=\"txt-items\">► Controle de estabilidade</li>\n",
       "<li class=\"txt-items\">► Travas elétricas</li>\n",
       "<li class=\"txt-items\">► Freios ABS</li>\n",
       "<li class=\"txt-items\">...</li>\n",
       "</ul>\n",
       "<p class=\"txt-location\">Belo Horizonte - MG</p>\n",
       "</div>\n",
       "<div class=\"col-md-3 value-card\">\n",
       "<div class=\"value\">\n",
       "<p class=\"txt-value\">R$ 346.000</p>\n",
       "</div>\n",
       "</div>\n",
       "</div>\n",
       "<div class=\"well card\">\n",
       "<div class=\"col-md-3 image-card\">\n",
       "<img alt=\"Foto\" height=\"155\" src=\"https://caelum-online-public.s3.amazonaws.com/1381-scraping/01/img-cars/alfa/alfa-1823056__340.jpg\" width=\"220\"/>\n",
       "</div>\n",
       "<div class=\"col-md-6 body-card\">\n",
       "<p class=\"txt-name inline\">ALFA</p>\n",
       "<p class=\"txt-category badge badge-secondary inline\">USADO</p>\n",
       "<p class=\"txt-motor\">Motor 1.8 16v</p>\n",
       "<p class=\"txt-description\">Ano 2004 - 19.722 km</p>\n",
       "<ul class=\"lst-items\">\n",
       "<li class=\"txt-items\">► Central multimídia</li>\n",
       "<li class=\"txt-items\">► Bancos de couro</li>\n",
       "<li class=\"txt-items\">► Rodas de liga</li>\n",
       "<li class=\"txt-items\">► Câmera de estacionamento</li>\n",
       "<li class=\"txt-items\">...</li>\n",
       "</ul>\n",
       "<p class=\"txt-location\">Rio de Janeiro - RJ</p>\n",
       "</div>\n",
       "<div class=\"col-md-3 value-card\">\n",
       "<div class=\"value\">\n",
       "<p class=\"txt-value\">R$ 480.000</p>\n",
       "</div>\n",
       "</div>\n",
       "</div>\n",
       "<div class=\"well card\">\n",
       "<div class=\"col-md-3 image-card\">\n",
       "<img alt=\"Foto\" height=\"155\" src=\"https://caelum-online-public.s3.amazonaws.com/1381-scraping/01/img-cars/puech/puech-4055386__340.jpg\" width=\"220\"/>\n",
       "</div>\n",
       "<div class=\"col-md-6 body-card\">\n",
       "<p class=\"txt-name inline\">PUECH</p>\n",
       "<p class=\"txt-category badge badge-secondary inline\">USADO</p>\n",
       "<p class=\"txt-motor\">Motor Diesel V8</p>\n",
       "<p class=\"txt-description\">Ano 1992 - 34.335 km</p>\n",
       "<ul class=\"lst-items\">\n",
       "<li class=\"txt-items\">► Bancos de couro</li>\n",
       "<li class=\"txt-items\">► Freios ABS</li>\n",
       "<li class=\"txt-items\">► Rodas de liga</li>\n",
       "<li class=\"txt-items\">► Câmbio automático</li>\n",
       "<li class=\"txt-items\">...</li>\n",
       "</ul>\n",
       "<p class=\"txt-location\">São Paulo - SP</p>\n",
       "</div>\n",
       "<div class=\"col-md-3 value-card\">\n",
       "<div class=\"value\">\n",
       "<p class=\"txt-value\">R$ 133.000</p>\n",
       "</div>\n",
       "</div>\n",
       "</div>\n",
       "<div class=\"well card\">\n",
       "<div class=\"col-md-3 image-card\">\n",
       "<img alt=\"Foto\" height=\"155\" src=\"https://caelum-online-public.s3.amazonaws.com/1381-scraping/01/img-cars/lamborghini-murcielago/lamborghini-murcielago-2872974__340.jpg\" width=\"220\"/>\n",
       "</div>\n",
       "<div class=\"col-md-6 body-card\">\n",
       "<p class=\"txt-name inline\">LAMBORGHINI MURCIELAGO</p>\n",
       "<p class=\"txt-category badge badge-secondary inline\">USADO</p>\n",
       "<p class=\"txt-motor\">Motor 1.0 8v</p>\n",
       "<p class=\"txt-description\">Ano 1991 - 464 km</p>\n",
       "<ul class=\"lst-items\">\n",
       "<li class=\"txt-items\">► Central multimídia</li>\n",
       "<li class=\"txt-items\">► Teto panorâmico</li>\n",
       "<li class=\"txt-items\">► Sensor crepuscular</li>\n",
       "<li class=\"txt-items\">► Piloto automático</li>\n",
       "<li class=\"txt-items\">...</li>\n",
       "</ul>\n",
       "<p class=\"txt-location\">Belo Horizonte - MG</p>\n",
       "</div>\n",
       "<div class=\"col-md-3 value-card\">\n",
       "<div class=\"value\">\n",
       "<p class=\"txt-value\">R$ 175.000</p>\n",
       "</div>\n",
       "</div>\n",
       "</div>\n",
       "<div class=\"well card\">\n",
       "<div class=\"col-md-3 image-card\">\n",
       "<img alt=\"Foto\" height=\"155\" src=\"https://caelum-online-public.s3.amazonaws.com/1381-scraping/01/img-cars/aston-martin/aston-martin-2977916__340.jpg\" width=\"220\"/>\n",
       "</div>\n",
       "<div class=\"col-md-6 body-card\">\n",
       "<p class=\"txt-name inline\">ASTON MARTIN</p>\n",
       "<p class=\"txt-category badge badge-secondary inline\">USADO</p>\n",
       "<p class=\"txt-opportunity badge badge-danger inline\">OPORTUNIDADE</p>\n",
       "<p class=\"txt-motor\">Motor Diesel V6</p>\n",
       "<p class=\"txt-description\">Ano 2004 - 50.189 km</p>\n",
       "<ul class=\"lst-items\">\n",
       "<li class=\"txt-items\">► Painel digital</li>\n",
       "<li class=\"txt-items\">► Controle de tração</li>\n",
       "<li class=\"txt-items\">► Teto panorâmico</li>\n",
       "<li class=\"txt-items\">► Central multimídia</li>\n",
       "<li class=\"txt-items\">...</li>\n",
       "</ul>\n",
       "<p class=\"txt-location\">Belo Horizonte - MG</p>\n",
       "</div>\n",
       "<div class=\"col-md-3 value-card\">\n",
       "<div class=\"value\">\n",
       "<p class=\"txt-value\">R$ 239.000</p>\n",
       "</div>\n",
       "</div>\n",
       "</div>\n",
       "<div class=\"well card\">\n",
       "<div class=\"col-md-3 image-card\">\n",
       "<img alt=\"Foto\" height=\"155\" src=\"https://caelum-online-public.s3.amazonaws.com/1381-scraping/01/img-cars/tvr/tvr-2943925__340.jpg\" width=\"220\"/>\n",
       "</div>\n",
       "<div class=\"col-md-6 body-card\">\n",
       "<p class=\"txt-name inline\">TVR</p>\n",
       "<p class=\"txt-category badge badge-secondary inline\">USADO</p>\n",
       "<p class=\"txt-motor\">Motor 4.0 Turbo</p>\n",
       "<p class=\"txt-description\">Ano 2014 - 17.778 km</p>\n",
       "<ul class=\"lst-items\">\n",
       "<li class=\"txt-items\">► 4 X 4</li>\n",
       "<li class=\"txt-items\">► Teto panorâmico</li>\n",
       "<li class=\"txt-items\">► Central multimídia</li>\n",
       "<li class=\"txt-items\">► Controle de estabilidade</li>\n",
       "<li class=\"txt-items\">...</li>\n",
       "</ul>\n",
       "<p class=\"txt-location\">Belo Horizonte - MG</p>\n",
       "</div>\n",
       "<div class=\"col-md-3 value-card\">\n",
       "<div class=\"value\">\n",
       "<p class=\"txt-value\">R$ 115.000</p>\n",
       "</div>\n",
       "</div>\n",
       "</div>\n",
       "<div class=\"well card\">\n",
       "<div class=\"col-md-3 image-card\">\n",
       "<img alt=\"Foto\" height=\"155\" src=\"https://caelum-online-public.s3.amazonaws.com/1381-scraping/01/img-cars/excalibur/excalibur-2916730__340.jpg\" width=\"220\"/>\n",
       "</div>\n",
       "<div class=\"col-md-6 body-card\">\n",
       "<p class=\"txt-name inline\">EXCALIBUR</p>\n",
       "<p class=\"txt-category badge badge-secondary inline\">USADO</p>\n",
       "<p class=\"txt-motor\">Motor 3.0 32v</p>\n",
       "<p class=\"txt-description\">Ano 2009 - 81.251 km</p>\n",
       "<ul class=\"lst-items\">\n",
       "<li class=\"txt-items\">► Painel digital</li>\n",
       "<li class=\"txt-items\">► Câmbio automático</li>\n",
       "<li class=\"txt-items\">► Sensor de chuva</li>\n",
       "<li class=\"txt-items\">► Travas elétricas</li>\n",
       "<li class=\"txt-items\">...</li>\n",
       "</ul>\n",
       "<p class=\"txt-location\">Rio de Janeiro - RJ</p>\n",
       "</div>\n",
       "<div class=\"col-md-3 value-card\">\n",
       "<div class=\"value\">\n",
       "<p class=\"txt-value\">R$ 114.000</p>\n",
       "</div>\n",
       "</div>\n",
       "</div>\n",
       "<div class=\"well card\">\n",
       "<div class=\"col-md-3 image-card\">\n",
       "<img alt=\"Foto\" height=\"155\" src=\"https://caelum-online-public.s3.amazonaws.com/1381-scraping/01/img-cars/mclaren/mclaren-2855240__340.jpg\" width=\"220\"/>\n",
       "</div>\n",
       "<div class=\"col-md-6 body-card\">\n",
       "<p class=\"txt-name inline\">MCLAREN</p>\n",
       "<p class=\"txt-category badge badge-secondary inline\">NOVO</p>\n",
       "<p class=\"txt-motor\">Motor Diesel</p>\n",
       "<p class=\"txt-description\">Ano 2019 - 0 km</p>\n",
       "<ul class=\"lst-items\">\n",
       "<li class=\"txt-items\">► Central multimídia</li>\n",
       "<li class=\"txt-items\">► Câmera de estacionamento</li>\n",
       "<li class=\"txt-items\">► Câmbio automático</li>\n",
       "<li class=\"txt-items\">► Ar condicionado</li>\n",
       "<li class=\"txt-items\">...</li>\n",
       "</ul>\n",
       "<p class=\"txt-location\">São Paulo - SP</p>\n",
       "</div>\n",
       "<div class=\"col-md-3 value-card\">\n",
       "<div class=\"value\">\n",
       "<p class=\"txt-value\">R$ 75.000</p>\n",
       "</div>\n",
       "</div>\n",
       "</div>\n",
       "<div class=\"well card\">\n",
       "<div class=\"col-md-3 image-card\">\n",
       "<img alt=\"Foto\" height=\"155\" src=\"https://caelum-online-public.s3.amazonaws.com/1381-scraping/01/img-cars/toyota/toyota-3245397__340.jpg\" width=\"220\"/>\n",
       "</div>\n",
       "<div class=\"col-md-6 body-card\">\n",
       "<p class=\"txt-name inline\">TOYOTA</p>\n",
       "<p class=\"txt-category badge badge-secondary inline\">USADO</p>\n",
       "<p class=\"txt-opportunity badge badge-danger inline\">OPORTUNIDADE</p>\n",
       "<p class=\"txt-motor\">Motor 4.0 Turbo</p>\n",
       "<p class=\"txt-description\">Ano 1999 - 12.536 km</p>\n",
       "<ul class=\"lst-items\">\n",
       "<li class=\"txt-items\">► Bancos de couro</li>\n",
       "<li class=\"txt-items\">► Freios ABS</li>\n",
       "<li class=\"txt-items\">► Piloto automático</li>\n",
       "<li class=\"txt-items\">► Controle de estabilidade</li>\n",
       "<li class=\"txt-items\">...</li>\n",
       "</ul>\n",
       "<p class=\"txt-location\">São Paulo - SP</p>\n",
       "</div>\n",
       "<div class=\"col-md-3 value-card\">\n",
       "<div class=\"value\">\n",
       "<p class=\"txt-value\">R$ 117.000</p>\n",
       "</div>\n",
       "</div>\n",
       "</div> </div>\n",
       "<div class=\"type-select\">246 veículos encontrados</div>\n",
       "<div class=\"container-pagination\" style=\"float: right\">\n",
       "<span class=\"info-pages\">Página 1 de 25</span>\n",
       "</div>\n",
       "</div>\n",
       "</div>\n",
       "</div>\n",
       "</div>\n",
       "</body></html>\n",
       "<footer>\n",
       "<nav class=\"navbar navbar-inverse\">\n",
       "<div class=\"container\" style=\"margin-bottom: 10px;\">\n",
       "<div class=\"navbar\">\n",
       "<a class=\"navbar-brand\" href=\"./index.php\" title=\"Alura Motors\">\n",
       "<img alt=\"Alura\" class=\"d-inline-block align-top\" src=\"img/alura-logo.svg\"/>Motors\n",
       "\t\t\t\t\t\t</a>\n",
       "<p style=\"color: #fff; text-align: center; margin-top: 40px;\">Aplicação para treinamento de web scraping</p>\n",
       "</div>\n",
       "</div>\n",
       "</nav>\n",
       "</footer>\n",
       "\n",
       "\n"
      ]
     },
     "execution_count": 64,
     "metadata": {},
     "output_type": "execute_result"
    }
   ],
   "source": [
    "response = urlopen('https://alura-site-scraping.herokuapp.com/index.php')\n",
    "html = response.read().decode('utf-8')\n",
    "soup = BeautifulSoup(html, 'html.parser')\n",
    "soup"
   ]
  },
  {
   "cell_type": "markdown",
   "metadata": {},
   "source": [
    "### Criando variávels para armazenar informações"
   ]
  },
  {
   "cell_type": "code",
   "execution_count": 65,
   "metadata": {},
   "outputs": [],
   "source": [
    "cards = []\n",
    "card = {}"
   ]
  },
  {
   "cell_type": "markdown",
   "metadata": {},
   "source": [
    "### Obtendo os dados do primeiro CARD"
   ]
  },
  {
   "cell_type": "code",
   "execution_count": 66,
   "metadata": {
    "scrolled": false
   },
   "outputs": [
    {
     "data": {
      "text/plain": [
       "<div class=\"well card\">\n",
       "<div class=\"col-md-3 image-card\">\n",
       "<img alt=\"Foto\" height=\"155\" src=\"https://caelum-online-public.s3.amazonaws.com/1381-scraping/01/img-cars/lamborghini-aventador/lamborghini-aventador-2932196__340.jpg\" width=\"220\"/>\n",
       "</div>\n",
       "<div class=\"col-md-6 body-card\">\n",
       "<p class=\"txt-name inline\">LAMBORGHINI AVENTADOR</p>\n",
       "<p class=\"txt-category badge badge-secondary inline\">USADO</p>\n",
       "<p class=\"txt-motor\">Motor 1.8 16v</p>\n",
       "<p class=\"txt-description\">Ano 1993 - 55.286 km</p>\n",
       "<ul class=\"lst-items\">\n",
       "<li class=\"txt-items\">► 4 X 4</li>\n",
       "<li class=\"txt-items\">► Câmera de estacionamento</li>\n",
       "<li class=\"txt-items\">► Controle de tração</li>\n",
       "<li class=\"txt-items\">► Sensor de estacionamento</li>\n",
       "<li class=\"txt-items\">...</li>\n",
       "</ul>\n",
       "<p class=\"txt-location\">Belo Horizonte - MG</p>\n",
       "</div>\n",
       "<div class=\"col-md-3 value-card\">\n",
       "<div class=\"value\">\n",
       "<p class=\"txt-value\">R$ 338.000</p>\n",
       "</div>\n",
       "</div>\n",
       "</div>"
      ]
     },
     "execution_count": 66,
     "metadata": {},
     "output_type": "execute_result"
    }
   ],
   "source": [
    "anuncio = soup.find('div', {'class': 'well card'})\n",
    "anuncio"
   ]
  },
  {
   "cell_type": "markdown",
   "metadata": {},
   "source": [
    "# 5.2. Obtendo o VALOR do veículo anunciado"
   ]
  },
  {
   "cell_type": "code",
   "execution_count": 67,
   "metadata": {},
   "outputs": [
    {
     "data": {
      "text/plain": [
       "<div class=\"col-md-3 value-card\">\n",
       "<div class=\"value\">\n",
       "<p class=\"txt-value\">R$ 338.000</p>\n",
       "</div>\n",
       "</div>"
      ]
     },
     "execution_count": 67,
     "metadata": {},
     "output_type": "execute_result"
    }
   ],
   "source": [
    "anuncio.find('div',{'class':'value-card'})"
   ]
  },
  {
   "cell_type": "code",
   "execution_count": 68,
   "metadata": {},
   "outputs": [
    {
     "data": {
      "text/plain": [
       "'R$ 338.000'"
      ]
     },
     "execution_count": 68,
     "metadata": {},
     "output_type": "execute_result"
    }
   ],
   "source": [
    "anuncio.find('p',class_='txt-value').getText()"
   ]
  },
  {
   "cell_type": "code",
   "execution_count": 69,
   "metadata": {},
   "outputs": [],
   "source": [
    "card['value'] = anuncio.find('p',class_='txt-value').getText()"
   ]
  },
  {
   "cell_type": "code",
   "execution_count": 70,
   "metadata": {},
   "outputs": [
    {
     "data": {
      "text/plain": [
       "{'value': 'R$ 338.000'}"
      ]
     },
     "execution_count": 70,
     "metadata": {},
     "output_type": "execute_result"
    }
   ],
   "source": [
    "card"
   ]
  },
  {
   "cell_type": "code",
   "execution_count": null,
   "metadata": {},
   "outputs": [],
   "source": []
  },
  {
   "cell_type": "markdown",
   "metadata": {},
   "source": [
    "### <font color=red>Resumo"
   ]
  },
  {
   "cell_type": "code",
   "execution_count": 71,
   "metadata": {},
   "outputs": [],
   "source": [
    "# Valor\n",
    "card['value'] = anuncio.find('p',class_='txt-value').getText()"
   ]
  },
  {
   "cell_type": "markdown",
   "metadata": {},
   "source": [
    "# 5.3. Obtendo as INFORMAÇÕES sobre o veículo anunciado"
   ]
  },
  {
   "cell_type": "code",
   "execution_count": 72,
   "metadata": {},
   "outputs": [
    {
     "data": {
      "text/plain": [
       "[<p class=\"txt-name inline\">LAMBORGHINI AVENTADOR</p>,\n",
       " <p class=\"txt-category badge badge-secondary inline\">USADO</p>,\n",
       " <p class=\"txt-motor\">Motor 1.8 16v</p>,\n",
       " <p class=\"txt-description\">Ano 1993 - 55.286 km</p>,\n",
       " <p class=\"txt-location\">Belo Horizonte - MG</p>]"
      ]
     },
     "execution_count": 72,
     "metadata": {},
     "output_type": "execute_result"
    }
   ],
   "source": [
    "anuncio.find('div',{'class':'body-card'}).findAll('p')"
   ]
  },
  {
   "cell_type": "code",
   "execution_count": 73,
   "metadata": {},
   "outputs": [],
   "source": [
    "infos = anuncio.find('div',{'class':'body-card'}).findAll('p')"
   ]
  },
  {
   "cell_type": "code",
   "execution_count": 74,
   "metadata": {},
   "outputs": [
    {
     "name": "stdout",
     "output_type": "stream",
     "text": [
      "txt-name  -  LAMBORGHINI AVENTADOR\n",
      "txt-category  -  USADO\n",
      "txt-motor  -  Motor 1.8 16v\n",
      "txt-description  -  Ano 1993 - 55.286 km\n",
      "txt-location  -  Belo Horizonte - MG\n"
     ]
    }
   ],
   "source": [
    "for info in infos:\n",
    "    print(info.get('class')[0], ' - ', info.get_text())"
   ]
  },
  {
   "cell_type": "code",
   "execution_count": 75,
   "metadata": {},
   "outputs": [
    {
     "name": "stdout",
     "output_type": "stream",
     "text": [
      "name  -  LAMBORGHINI AVENTADOR\n",
      "category  -  USADO\n",
      "motor  -  Motor 1.8 16v\n",
      "description  -  Ano 1993 - 55.286 km\n",
      "location  -  Belo Horizonte - MG\n"
     ]
    }
   ],
   "source": [
    "for info in infos:\n",
    "    print(info.get('class')[0].split('-')[-1], ' - ', info.get_text())"
   ]
  },
  {
   "cell_type": "code",
   "execution_count": 76,
   "metadata": {},
   "outputs": [],
   "source": [
    "for info in infos:\n",
    "    card[info.get('class')[0].split('-')[-1]] = info.get_text()\n"
   ]
  },
  {
   "cell_type": "code",
   "execution_count": 77,
   "metadata": {},
   "outputs": [
    {
     "data": {
      "text/plain": [
       "{'value': 'R$ 338.000',\n",
       " 'name': 'LAMBORGHINI AVENTADOR',\n",
       " 'category': 'USADO',\n",
       " 'motor': 'Motor 1.8 16v',\n",
       " 'description': 'Ano 1993 - 55.286 km',\n",
       " 'location': 'Belo Horizonte - MG'}"
      ]
     },
     "execution_count": 77,
     "metadata": {},
     "output_type": "execute_result"
    }
   ],
   "source": [
    "card"
   ]
  },
  {
   "cell_type": "code",
   "execution_count": null,
   "metadata": {},
   "outputs": [],
   "source": []
  },
  {
   "cell_type": "code",
   "execution_count": null,
   "metadata": {},
   "outputs": [],
   "source": []
  },
  {
   "cell_type": "markdown",
   "metadata": {},
   "source": [
    "### <font color=red>Resumo"
   ]
  },
  {
   "cell_type": "code",
   "execution_count": 78,
   "metadata": {},
   "outputs": [],
   "source": [
    "# Informações\n",
    "infos = anuncio.find('div',{'class':'body-card'}).findAll('p')\n",
    "for info in infos:\n",
    "    card[info.get('class')[0].split('-')[-1]] = info.get_text()"
   ]
  },
  {
   "cell_type": "markdown",
   "metadata": {},
   "source": [
    "# 5.4. Obtendo os ACESSÓRIOS do veículo anunciado"
   ]
  },
  {
   "cell_type": "code",
   "execution_count": 79,
   "metadata": {},
   "outputs": [
    {
     "data": {
      "text/plain": [
       "<ul class=\"lst-items\">\n",
       "<li class=\"txt-items\">► 4 X 4</li>\n",
       "<li class=\"txt-items\">► Câmera de estacionamento</li>\n",
       "<li class=\"txt-items\">► Controle de tração</li>\n",
       "<li class=\"txt-items\">► Sensor de estacionamento</li>\n",
       "<li class=\"txt-items\">...</li>\n",
       "</ul>"
      ]
     },
     "execution_count": 79,
     "metadata": {},
     "output_type": "execute_result"
    }
   ],
   "source": [
    "anuncio.find('div',{'class':'body-card'}).find('ul')\n"
   ]
  },
  {
   "cell_type": "code",
   "execution_count": 80,
   "metadata": {},
   "outputs": [
    {
     "data": {
      "text/plain": [
       "[<li class=\"txt-items\">► 4 X 4</li>,\n",
       " <li class=\"txt-items\">► Câmera de estacionamento</li>,\n",
       " <li class=\"txt-items\">► Controle de tração</li>,\n",
       " <li class=\"txt-items\">► Sensor de estacionamento</li>,\n",
       " <li class=\"txt-items\">...</li>]"
      ]
     },
     "execution_count": 80,
     "metadata": {},
     "output_type": "execute_result"
    }
   ],
   "source": [
    "anuncio.find('div',{'class':'body-card'}).find('ul').findAll('li')"
   ]
  },
  {
   "cell_type": "code",
   "execution_count": 81,
   "metadata": {},
   "outputs": [
    {
     "data": {
      "text/plain": [
       "[<li class=\"txt-items\">► 4 X 4</li>,\n",
       " <li class=\"txt-items\">► Câmera de estacionamento</li>,\n",
       " <li class=\"txt-items\">► Controle de tração</li>,\n",
       " <li class=\"txt-items\">► Sensor de estacionamento</li>,\n",
       " <li class=\"txt-items\">...</li>]"
      ]
     },
     "execution_count": 81,
     "metadata": {},
     "output_type": "execute_result"
    }
   ],
   "source": [
    "items = anuncio.find('div',{'class':'body-card'}).find('ul').findAll('li')\n",
    "items"
   ]
  },
  {
   "cell_type": "code",
   "execution_count": 82,
   "metadata": {},
   "outputs": [
    {
     "data": {
      "text/plain": [
       "[<li class=\"txt-items\">► 4 X 4</li>,\n",
       " <li class=\"txt-items\">► Câmera de estacionamento</li>,\n",
       " <li class=\"txt-items\">► Controle de tração</li>,\n",
       " <li class=\"txt-items\">► Sensor de estacionamento</li>]"
      ]
     },
     "execution_count": 82,
     "metadata": {},
     "output_type": "execute_result"
    }
   ],
   "source": [
    "items.pop()\n",
    "items"
   ]
  },
  {
   "cell_type": "code",
   "execution_count": 83,
   "metadata": {},
   "outputs": [
    {
     "name": "stdout",
     "output_type": "stream",
     "text": [
      " 4 X 4\n",
      " Câmera de estacionamento\n",
      " Controle de tração\n",
      " Sensor de estacionamento\n"
     ]
    }
   ],
   "source": [
    "for item in items:\n",
    "    print(item.getText().replace('►',''))"
   ]
  },
  {
   "cell_type": "code",
   "execution_count": 84,
   "metadata": {},
   "outputs": [
    {
     "data": {
      "text/plain": [
       "[' 4 X 4',\n",
       " ' Câmera de estacionamento',\n",
       " ' Controle de tração',\n",
       " ' Sensor de estacionamento']"
      ]
     },
     "execution_count": 84,
     "metadata": {},
     "output_type": "execute_result"
    }
   ],
   "source": [
    "acessorios = []\n",
    "\n",
    "for item in items:\n",
    "    acessorios.append(item.getText().replace('►',''))\n",
    "\n",
    "acessorios"
   ]
  },
  {
   "cell_type": "code",
   "execution_count": 85,
   "metadata": {},
   "outputs": [],
   "source": [
    "card['items'] = acessorios"
   ]
  },
  {
   "cell_type": "code",
   "execution_count": 86,
   "metadata": {},
   "outputs": [
    {
     "data": {
      "text/plain": [
       "{'value': 'R$ 338.000',\n",
       " 'name': 'LAMBORGHINI AVENTADOR',\n",
       " 'category': 'USADO',\n",
       " 'motor': 'Motor 1.8 16v',\n",
       " 'description': 'Ano 1993 - 55.286 km',\n",
       " 'location': 'Belo Horizonte - MG',\n",
       " 'items': [' 4 X 4',\n",
       "  ' Câmera de estacionamento',\n",
       "  ' Controle de tração',\n",
       "  ' Sensor de estacionamento']}"
      ]
     },
     "execution_count": 86,
     "metadata": {},
     "output_type": "execute_result"
    }
   ],
   "source": [
    "card"
   ]
  },
  {
   "cell_type": "markdown",
   "metadata": {},
   "source": [
    "### <font color=red>Resumo"
   ]
  },
  {
   "cell_type": "code",
   "execution_count": 87,
   "metadata": {},
   "outputs": [],
   "source": [
    "# Acessórios\n",
    "items = anuncio.find('div',{'class':'body-card'}).find('ul').findAll('li')\n",
    "items.pop()\n",
    "\n",
    "acessorios = []\n",
    "for item in items:\n",
    "    acessorios.append(item.getText().replace('►',''))\n",
    "\n",
    "card['items'] = acessorios"
   ]
  },
  {
   "cell_type": "markdown",
   "metadata": {},
   "source": [
    "# 5.5 Criando um DataFrame com os dados coletados do Alura Motors"
   ]
  },
  {
   "cell_type": "code",
   "execution_count": 88,
   "metadata": {},
   "outputs": [
    {
     "data": {
      "text/plain": [
       "{'value': 'R$ 338.000',\n",
       " 'name': 'LAMBORGHINI AVENTADOR',\n",
       " 'category': 'USADO',\n",
       " 'motor': 'Motor 1.8 16v',\n",
       " 'description': 'Ano 1993 - 55.286 km',\n",
       " 'location': 'Belo Horizonte - MG',\n",
       " 'items': [' 4 X 4',\n",
       "  ' Câmera de estacionamento',\n",
       "  ' Controle de tração',\n",
       "  ' Sensor de estacionamento']}"
      ]
     },
     "execution_count": 88,
     "metadata": {},
     "output_type": "execute_result"
    }
   ],
   "source": [
    "card"
   ]
  },
  {
   "cell_type": "code",
   "execution_count": 89,
   "metadata": {},
   "outputs": [],
   "source": [
    "import pandas as pd"
   ]
  },
  {
   "cell_type": "code",
   "execution_count": 90,
   "metadata": {},
   "outputs": [],
   "source": [
    "dataset = pd.DataFrame(card)"
   ]
  },
  {
   "cell_type": "code",
   "execution_count": 91,
   "metadata": {},
   "outputs": [
    {
     "data": {
      "text/html": [
       "<div>\n",
       "<style scoped>\n",
       "    .dataframe tbody tr th:only-of-type {\n",
       "        vertical-align: middle;\n",
       "    }\n",
       "\n",
       "    .dataframe tbody tr th {\n",
       "        vertical-align: top;\n",
       "    }\n",
       "\n",
       "    .dataframe thead th {\n",
       "        text-align: right;\n",
       "    }\n",
       "</style>\n",
       "<table border=\"1\" class=\"dataframe\">\n",
       "  <thead>\n",
       "    <tr style=\"text-align: right;\">\n",
       "      <th></th>\n",
       "      <th>value</th>\n",
       "      <th>name</th>\n",
       "      <th>category</th>\n",
       "      <th>motor</th>\n",
       "      <th>description</th>\n",
       "      <th>location</th>\n",
       "      <th>items</th>\n",
       "    </tr>\n",
       "  </thead>\n",
       "  <tbody>\n",
       "    <tr>\n",
       "      <th>0</th>\n",
       "      <td>R$ 338.000</td>\n",
       "      <td>LAMBORGHINI AVENTADOR</td>\n",
       "      <td>USADO</td>\n",
       "      <td>Motor 1.8 16v</td>\n",
       "      <td>Ano 1993 - 55.286 km</td>\n",
       "      <td>Belo Horizonte - MG</td>\n",
       "      <td>4 X 4</td>\n",
       "    </tr>\n",
       "    <tr>\n",
       "      <th>1</th>\n",
       "      <td>R$ 338.000</td>\n",
       "      <td>LAMBORGHINI AVENTADOR</td>\n",
       "      <td>USADO</td>\n",
       "      <td>Motor 1.8 16v</td>\n",
       "      <td>Ano 1993 - 55.286 km</td>\n",
       "      <td>Belo Horizonte - MG</td>\n",
       "      <td>Câmera de estacionamento</td>\n",
       "    </tr>\n",
       "    <tr>\n",
       "      <th>2</th>\n",
       "      <td>R$ 338.000</td>\n",
       "      <td>LAMBORGHINI AVENTADOR</td>\n",
       "      <td>USADO</td>\n",
       "      <td>Motor 1.8 16v</td>\n",
       "      <td>Ano 1993 - 55.286 km</td>\n",
       "      <td>Belo Horizonte - MG</td>\n",
       "      <td>Controle de tração</td>\n",
       "    </tr>\n",
       "    <tr>\n",
       "      <th>3</th>\n",
       "      <td>R$ 338.000</td>\n",
       "      <td>LAMBORGHINI AVENTADOR</td>\n",
       "      <td>USADO</td>\n",
       "      <td>Motor 1.8 16v</td>\n",
       "      <td>Ano 1993 - 55.286 km</td>\n",
       "      <td>Belo Horizonte - MG</td>\n",
       "      <td>Sensor de estacionamento</td>\n",
       "    </tr>\n",
       "  </tbody>\n",
       "</table>\n",
       "</div>"
      ],
      "text/plain": [
       "        value                   name category          motor  \\\n",
       "0  R$ 338.000  LAMBORGHINI AVENTADOR    USADO  Motor 1.8 16v   \n",
       "1  R$ 338.000  LAMBORGHINI AVENTADOR    USADO  Motor 1.8 16v   \n",
       "2  R$ 338.000  LAMBORGHINI AVENTADOR    USADO  Motor 1.8 16v   \n",
       "3  R$ 338.000  LAMBORGHINI AVENTADOR    USADO  Motor 1.8 16v   \n",
       "\n",
       "            description             location                      items  \n",
       "0  Ano 1993 - 55.286 km  Belo Horizonte - MG                      4 X 4  \n",
       "1  Ano 1993 - 55.286 km  Belo Horizonte - MG   Câmera de estacionamento  \n",
       "2  Ano 1993 - 55.286 km  Belo Horizonte - MG         Controle de tração  \n",
       "3  Ano 1993 - 55.286 km  Belo Horizonte - MG   Sensor de estacionamento  "
      ]
     },
     "execution_count": 91,
     "metadata": {},
     "output_type": "execute_result"
    }
   ],
   "source": [
    "dataset"
   ]
  },
  {
   "cell_type": "code",
   "execution_count": 92,
   "metadata": {},
   "outputs": [
    {
     "data": {
      "text/html": [
       "<div>\n",
       "<style scoped>\n",
       "    .dataframe tbody tr th:only-of-type {\n",
       "        vertical-align: middle;\n",
       "    }\n",
       "\n",
       "    .dataframe tbody tr th {\n",
       "        vertical-align: top;\n",
       "    }\n",
       "\n",
       "    .dataframe thead th {\n",
       "        text-align: right;\n",
       "    }\n",
       "</style>\n",
       "<table border=\"1\" class=\"dataframe\">\n",
       "  <thead>\n",
       "    <tr style=\"text-align: right;\">\n",
       "      <th></th>\n",
       "      <th>0</th>\n",
       "    </tr>\n",
       "  </thead>\n",
       "  <tbody>\n",
       "    <tr>\n",
       "      <th>value</th>\n",
       "      <td>R$ 338.000</td>\n",
       "    </tr>\n",
       "    <tr>\n",
       "      <th>name</th>\n",
       "      <td>LAMBORGHINI AVENTADOR</td>\n",
       "    </tr>\n",
       "    <tr>\n",
       "      <th>category</th>\n",
       "      <td>USADO</td>\n",
       "    </tr>\n",
       "    <tr>\n",
       "      <th>motor</th>\n",
       "      <td>Motor 1.8 16v</td>\n",
       "    </tr>\n",
       "    <tr>\n",
       "      <th>description</th>\n",
       "      <td>Ano 1993 - 55.286 km</td>\n",
       "    </tr>\n",
       "    <tr>\n",
       "      <th>location</th>\n",
       "      <td>Belo Horizonte - MG</td>\n",
       "    </tr>\n",
       "    <tr>\n",
       "      <th>items</th>\n",
       "      <td>[ 4 X 4,  Câmera de estacionamento,  Controle ...</td>\n",
       "    </tr>\n",
       "  </tbody>\n",
       "</table>\n",
       "</div>"
      ],
      "text/plain": [
       "                                                             0\n",
       "value                                               R$ 338.000\n",
       "name                                     LAMBORGHINI AVENTADOR\n",
       "category                                                 USADO\n",
       "motor                                            Motor 1.8 16v\n",
       "description                               Ano 1993 - 55.286 km\n",
       "location                                   Belo Horizonte - MG\n",
       "items        [ 4 X 4,  Câmera de estacionamento,  Controle ..."
      ]
     },
     "execution_count": 92,
     "metadata": {},
     "output_type": "execute_result"
    }
   ],
   "source": [
    "dataset = pd.DataFrame.from_dict(card, orient='index')\n",
    "dataset"
   ]
  },
  {
   "cell_type": "code",
   "execution_count": 93,
   "metadata": {},
   "outputs": [
    {
     "data": {
      "text/html": [
       "<div>\n",
       "<style scoped>\n",
       "    .dataframe tbody tr th:only-of-type {\n",
       "        vertical-align: middle;\n",
       "    }\n",
       "\n",
       "    .dataframe tbody tr th {\n",
       "        vertical-align: top;\n",
       "    }\n",
       "\n",
       "    .dataframe thead th {\n",
       "        text-align: right;\n",
       "    }\n",
       "</style>\n",
       "<table border=\"1\" class=\"dataframe\">\n",
       "  <thead>\n",
       "    <tr style=\"text-align: right;\">\n",
       "      <th></th>\n",
       "      <th>value</th>\n",
       "      <th>name</th>\n",
       "      <th>category</th>\n",
       "      <th>motor</th>\n",
       "      <th>description</th>\n",
       "      <th>location</th>\n",
       "      <th>items</th>\n",
       "    </tr>\n",
       "  </thead>\n",
       "  <tbody>\n",
       "    <tr>\n",
       "      <th>0</th>\n",
       "      <td>R$ 338.000</td>\n",
       "      <td>LAMBORGHINI AVENTADOR</td>\n",
       "      <td>USADO</td>\n",
       "      <td>Motor 1.8 16v</td>\n",
       "      <td>Ano 1993 - 55.286 km</td>\n",
       "      <td>Belo Horizonte - MG</td>\n",
       "      <td>[ 4 X 4,  Câmera de estacionamento,  Controle ...</td>\n",
       "    </tr>\n",
       "  </tbody>\n",
       "</table>\n",
       "</div>"
      ],
      "text/plain": [
       "        value                   name category          motor  \\\n",
       "0  R$ 338.000  LAMBORGHINI AVENTADOR    USADO  Motor 1.8 16v   \n",
       "\n",
       "            description             location  \\\n",
       "0  Ano 1993 - 55.286 km  Belo Horizonte - MG   \n",
       "\n",
       "                                               items  \n",
       "0  [ 4 X 4,  Câmera de estacionamento,  Controle ...  "
      ]
     },
     "execution_count": 93,
     "metadata": {},
     "output_type": "execute_result"
    }
   ],
   "source": [
    "dataset = pd.DataFrame.from_dict(card, orient='index').T\n",
    "dataset"
   ]
  },
  {
   "cell_type": "code",
   "execution_count": 94,
   "metadata": {},
   "outputs": [],
   "source": [
    "dataset.to_csv('output/data/dataset.csv',sep=';',index=False,encoding='utf-8-sig')"
   ]
  },
  {
   "cell_type": "code",
   "execution_count": null,
   "metadata": {},
   "outputs": [],
   "source": []
  },
  {
   "cell_type": "markdown",
   "metadata": {},
   "source": [
    "# 5.6. Obtendo a FOTO do anúncio"
   ]
  },
  {
   "cell_type": "code",
   "execution_count": 95,
   "metadata": {},
   "outputs": [
    {
     "data": {
      "text/plain": [
       "<img alt=\"Foto\" height=\"155\" src=\"https://caelum-online-public.s3.amazonaws.com/1381-scraping/01/img-cars/lamborghini-aventador/lamborghini-aventador-2932196__340.jpg\" width=\"220\"/>"
      ]
     },
     "execution_count": 95,
     "metadata": {},
     "output_type": "execute_result"
    }
   ],
   "source": [
    "image = anuncio.find('div',{'class':'image-card'}).img\n",
    "image"
   ]
  },
  {
   "cell_type": "code",
   "execution_count": 96,
   "metadata": {},
   "outputs": [
    {
     "data": {
      "text/plain": [
       "'https://caelum-online-public.s3.amazonaws.com/1381-scraping/01/img-cars/lamborghini-aventador/lamborghini-aventador-2932196__340.jpg'"
      ]
     },
     "execution_count": 96,
     "metadata": {},
     "output_type": "execute_result"
    }
   ],
   "source": [
    "image.get('src')"
   ]
  },
  {
   "cell_type": "code",
   "execution_count": 97,
   "metadata": {},
   "outputs": [
    {
     "name": "stdout",
     "output_type": "stream",
     "text": [
      "https://caelum-online-public.s3.amazonaws.com/1381-scraping/01/img-cars/lamborghini-aventador/lamborghini-aventador-2932196__340.jpg\n"
     ]
    }
   ],
   "source": [
    "print(image['src'])"
   ]
  },
  {
   "cell_type": "markdown",
   "metadata": {},
   "source": [
    "### Visualizando a FOTO no notebook (extra)"
   ]
  },
  {
   "cell_type": "code",
   "execution_count": 98,
   "metadata": {},
   "outputs": [
    {
     "name": "stderr",
     "output_type": "stream",
     "text": [
      "/tmp/ipykernel_454/4248746626.py:1: DeprecationWarning: Importing display from IPython.core.display is deprecated since IPython 7.14, please import from IPython display\n",
      "  from IPython.core.display import display, HTML\n"
     ]
    },
    {
     "data": {
      "text/html": [
       "<img alt=\"Foto\" height=\"155\" src=\"https://caelum-online-public.s3.amazonaws.com/1381-scraping/01/img-cars/lamborghini-aventador/lamborghini-aventador-2932196__340.jpg\" width=\"220\"/>"
      ],
      "text/plain": [
       "<IPython.core.display.HTML object>"
      ]
     },
     "metadata": {},
     "output_type": "display_data"
    }
   ],
   "source": [
    "from IPython.core.display import display, HTML\n",
    "\n",
    "display(HTML(str(anuncio.find('div', {'class': 'image-card'}).img)))"
   ]
  },
  {
   "cell_type": "code",
   "execution_count": 99,
   "metadata": {},
   "outputs": [
    {
     "data": {
      "text/html": [
       "<img src=https://caelum-online-public.s3.amazonaws.com/1381-scraping/01/img-cars/lamborghini-aventador/lamborghini-aventador-2932196__340.jpg>"
      ],
      "text/plain": [
       "<IPython.core.display.HTML object>"
      ]
     },
     "metadata": {},
     "output_type": "display_data"
    }
   ],
   "source": [
    "display(HTML(\"<img src=\" + anuncio.find('div', {'class': 'image-card'}).img.get('src') + \">\"))"
   ]
  },
  {
   "cell_type": "markdown",
   "metadata": {},
   "source": [
    "### Rotina para acessar e salvar a FOTO do anúncio"
   ]
  },
  {
   "cell_type": "markdown",
   "metadata": {},
   "source": [
    "## https://docs.python.org/3/library/urllib.request.html#urllib.request.urlretrieve"
   ]
  },
  {
   "cell_type": "code",
   "execution_count": 100,
   "metadata": {},
   "outputs": [
    {
     "data": {
      "text/plain": [
       "'lamborghini-aventador-2932196__340.jpg'"
      ]
     },
     "execution_count": 100,
     "metadata": {},
     "output_type": "execute_result"
    }
   ],
   "source": [
    "image.get('src').split('/')[-1]"
   ]
  },
  {
   "cell_type": "code",
   "execution_count": 101,
   "metadata": {},
   "outputs": [
    {
     "data": {
      "text/plain": [
       "('output/img/lamborghini-aventador-2932196__340.jpg',\n",
       " <http.client.HTTPMessage at 0x7f7aa8331e20>)"
      ]
     },
     "execution_count": 101,
     "metadata": {},
     "output_type": "execute_result"
    }
   ],
   "source": [
    "from urllib.request import urlretrieve\n",
    "\n",
    "urlretrieve(image.get('src'), 'output/img/' + image.get('src').split('/')[-1])"
   ]
  },
  {
   "cell_type": "markdown",
   "metadata": {},
   "source": [
    "### <font color=red>Resumo"
   ]
  },
  {
   "cell_type": "code",
   "execution_count": 102,
   "metadata": {},
   "outputs": [
    {
     "data": {
      "text/plain": [
       "('output/img/lamborghini-aventador-2932196__340.jpg',\n",
       " <http.client.HTTPMessage at 0x7f7aa82c6670>)"
      ]
     },
     "execution_count": 102,
     "metadata": {},
     "output_type": "execute_result"
    }
   ],
   "source": [
    "# Imagens\n",
    "image = anuncio.find('div',{'class':'image-card'}).img\n",
    "urlretrieve(image.get('src'), 'output/img/' + image.get('src').split('/')[-1])"
   ]
  },
  {
   "cell_type": "markdown",
   "metadata": {},
   "source": [
    "# <font color=green>6. WEB SCRAPING DO SITE ALURA MOTORS - OBTENDO OS DADOS DE TODOS OS ANÚNCIOS DE UMA PÁGINA"
   ]
  },
  {
   "cell_type": "markdown",
   "metadata": {},
   "source": [
    "# 6.1. Identificando as informações no HTML"
   ]
  },
  {
   "cell_type": "code",
   "execution_count": 105,
   "metadata": {
    "scrolled": true
   },
   "outputs": [
    {
     "data": {
      "text/plain": [
       "10"
      ]
     },
     "execution_count": 105,
     "metadata": {},
     "output_type": "execute_result"
    }
   ],
   "source": [
    "len(soup.find('div', {'id':'container-cards'}).findAll('div', class_='card'))"
   ]
  },
  {
   "cell_type": "code",
   "execution_count": 106,
   "metadata": {
    "scrolled": true
   },
   "outputs": [],
   "source": [
    "anuncios = soup.find('div', {\"id\": \"container-cards\"}).findAll('div', class_=\"card\")"
   ]
  },
  {
   "cell_type": "code",
   "execution_count": 107,
   "metadata": {
    "scrolled": true
   },
   "outputs": [
    {
     "name": "stdout",
     "output_type": "stream",
     "text": [
      "<div class=\"well card\">\n",
      "<div class=\"col-md-3 image-card\">\n",
      "<img alt=\"Foto\" height=\"155\" src=\"https://caelum-online-public.s3.amazonaws.com/1381-scraping/01/img-cars/lamborghini-aventador/lamborghini-aventador-2932196__340.jpg\" width=\"220\"/>\n",
      "</div>\n",
      "<div class=\"col-md-6 body-card\">\n",
      "<p class=\"txt-name inline\">LAMBORGHINI AVENTADOR</p>\n",
      "<p class=\"txt-category badge badge-secondary inline\">USADO</p>\n",
      "<p class=\"txt-motor\">Motor 1.8 16v</p>\n",
      "<p class=\"txt-description\">Ano 1993 - 55.286 km</p>\n",
      "<ul class=\"lst-items\">\n",
      "<li class=\"txt-items\">► 4 X 4</li>\n",
      "<li class=\"txt-items\">► Câmera de estacionamento</li>\n",
      "<li class=\"txt-items\">► Controle de tração</li>\n",
      "<li class=\"txt-items\">► Sensor de estacionamento</li>\n",
      "<li class=\"txt-items\">...</li>\n",
      "</ul>\n",
      "<p class=\"txt-location\">Belo Horizonte - MG</p>\n",
      "</div>\n",
      "<div class=\"col-md-3 value-card\">\n",
      "<div class=\"value\">\n",
      "<p class=\"txt-value\">R$ 338.000</p>\n",
      "</div>\n",
      "</div>\n",
      "</div>\n",
      "\n",
      "\n",
      "<div class=\"well card\">\n",
      "<div class=\"col-md-3 image-card\">\n",
      "<img alt=\"Foto\" height=\"155\" src=\"https://caelum-online-public.s3.amazonaws.com/1381-scraping/01/img-cars/bmw-m2/bmw-m2-2970882__340.jpg\" width=\"220\"/>\n",
      "</div>\n",
      "<div class=\"col-md-6 body-card\">\n",
      "<p class=\"txt-name inline\">BMW M2</p>\n",
      "<p class=\"txt-category badge badge-secondary inline\">USADO</p>\n",
      "<p class=\"txt-motor\">Motor 3.0 32v</p>\n",
      "<p class=\"txt-description\">Ano 2018 - 83.447 km</p>\n",
      "<ul class=\"lst-items\">\n",
      "<li class=\"txt-items\">► Câmera de estacionamento</li>\n",
      "<li class=\"txt-items\">► Controle de estabilidade</li>\n",
      "<li class=\"txt-items\">► Travas elétricas</li>\n",
      "<li class=\"txt-items\">► Freios ABS</li>\n",
      "<li class=\"txt-items\">...</li>\n",
      "</ul>\n",
      "<p class=\"txt-location\">Belo Horizonte - MG</p>\n",
      "</div>\n",
      "<div class=\"col-md-3 value-card\">\n",
      "<div class=\"value\">\n",
      "<p class=\"txt-value\">R$ 346.000</p>\n",
      "</div>\n",
      "</div>\n",
      "</div>\n",
      "\n",
      "\n",
      "<div class=\"well card\">\n",
      "<div class=\"col-md-3 image-card\">\n",
      "<img alt=\"Foto\" height=\"155\" src=\"https://caelum-online-public.s3.amazonaws.com/1381-scraping/01/img-cars/alfa/alfa-1823056__340.jpg\" width=\"220\"/>\n",
      "</div>\n",
      "<div class=\"col-md-6 body-card\">\n",
      "<p class=\"txt-name inline\">ALFA</p>\n",
      "<p class=\"txt-category badge badge-secondary inline\">USADO</p>\n",
      "<p class=\"txt-motor\">Motor 1.8 16v</p>\n",
      "<p class=\"txt-description\">Ano 2004 - 19.722 km</p>\n",
      "<ul class=\"lst-items\">\n",
      "<li class=\"txt-items\">► Central multimídia</li>\n",
      "<li class=\"txt-items\">► Bancos de couro</li>\n",
      "<li class=\"txt-items\">► Rodas de liga</li>\n",
      "<li class=\"txt-items\">► Câmera de estacionamento</li>\n",
      "<li class=\"txt-items\">...</li>\n",
      "</ul>\n",
      "<p class=\"txt-location\">Rio de Janeiro - RJ</p>\n",
      "</div>\n",
      "<div class=\"col-md-3 value-card\">\n",
      "<div class=\"value\">\n",
      "<p class=\"txt-value\">R$ 480.000</p>\n",
      "</div>\n",
      "</div>\n",
      "</div>\n",
      "\n",
      "\n",
      "<div class=\"well card\">\n",
      "<div class=\"col-md-3 image-card\">\n",
      "<img alt=\"Foto\" height=\"155\" src=\"https://caelum-online-public.s3.amazonaws.com/1381-scraping/01/img-cars/puech/puech-4055386__340.jpg\" width=\"220\"/>\n",
      "</div>\n",
      "<div class=\"col-md-6 body-card\">\n",
      "<p class=\"txt-name inline\">PUECH</p>\n",
      "<p class=\"txt-category badge badge-secondary inline\">USADO</p>\n",
      "<p class=\"txt-motor\">Motor Diesel V8</p>\n",
      "<p class=\"txt-description\">Ano 1992 - 34.335 km</p>\n",
      "<ul class=\"lst-items\">\n",
      "<li class=\"txt-items\">► Bancos de couro</li>\n",
      "<li class=\"txt-items\">► Freios ABS</li>\n",
      "<li class=\"txt-items\">► Rodas de liga</li>\n",
      "<li class=\"txt-items\">► Câmbio automático</li>\n",
      "<li class=\"txt-items\">...</li>\n",
      "</ul>\n",
      "<p class=\"txt-location\">São Paulo - SP</p>\n",
      "</div>\n",
      "<div class=\"col-md-3 value-card\">\n",
      "<div class=\"value\">\n",
      "<p class=\"txt-value\">R$ 133.000</p>\n",
      "</div>\n",
      "</div>\n",
      "</div>\n",
      "\n",
      "\n",
      "<div class=\"well card\">\n",
      "<div class=\"col-md-3 image-card\">\n",
      "<img alt=\"Foto\" height=\"155\" src=\"https://caelum-online-public.s3.amazonaws.com/1381-scraping/01/img-cars/lamborghini-murcielago/lamborghini-murcielago-2872974__340.jpg\" width=\"220\"/>\n",
      "</div>\n",
      "<div class=\"col-md-6 body-card\">\n",
      "<p class=\"txt-name inline\">LAMBORGHINI MURCIELAGO</p>\n",
      "<p class=\"txt-category badge badge-secondary inline\">USADO</p>\n",
      "<p class=\"txt-motor\">Motor 1.0 8v</p>\n",
      "<p class=\"txt-description\">Ano 1991 - 464 km</p>\n",
      "<ul class=\"lst-items\">\n",
      "<li class=\"txt-items\">► Central multimídia</li>\n",
      "<li class=\"txt-items\">► Teto panorâmico</li>\n",
      "<li class=\"txt-items\">► Sensor crepuscular</li>\n",
      "<li class=\"txt-items\">► Piloto automático</li>\n",
      "<li class=\"txt-items\">...</li>\n",
      "</ul>\n",
      "<p class=\"txt-location\">Belo Horizonte - MG</p>\n",
      "</div>\n",
      "<div class=\"col-md-3 value-card\">\n",
      "<div class=\"value\">\n",
      "<p class=\"txt-value\">R$ 175.000</p>\n",
      "</div>\n",
      "</div>\n",
      "</div>\n",
      "\n",
      "\n",
      "<div class=\"well card\">\n",
      "<div class=\"col-md-3 image-card\">\n",
      "<img alt=\"Foto\" height=\"155\" src=\"https://caelum-online-public.s3.amazonaws.com/1381-scraping/01/img-cars/aston-martin/aston-martin-2977916__340.jpg\" width=\"220\"/>\n",
      "</div>\n",
      "<div class=\"col-md-6 body-card\">\n",
      "<p class=\"txt-name inline\">ASTON MARTIN</p>\n",
      "<p class=\"txt-category badge badge-secondary inline\">USADO</p>\n",
      "<p class=\"txt-opportunity badge badge-danger inline\">OPORTUNIDADE</p>\n",
      "<p class=\"txt-motor\">Motor Diesel V6</p>\n",
      "<p class=\"txt-description\">Ano 2004 - 50.189 km</p>\n",
      "<ul class=\"lst-items\">\n",
      "<li class=\"txt-items\">► Painel digital</li>\n",
      "<li class=\"txt-items\">► Controle de tração</li>\n",
      "<li class=\"txt-items\">► Teto panorâmico</li>\n",
      "<li class=\"txt-items\">► Central multimídia</li>\n",
      "<li class=\"txt-items\">...</li>\n",
      "</ul>\n",
      "<p class=\"txt-location\">Belo Horizonte - MG</p>\n",
      "</div>\n",
      "<div class=\"col-md-3 value-card\">\n",
      "<div class=\"value\">\n",
      "<p class=\"txt-value\">R$ 239.000</p>\n",
      "</div>\n",
      "</div>\n",
      "</div>\n",
      "\n",
      "\n",
      "<div class=\"well card\">\n",
      "<div class=\"col-md-3 image-card\">\n",
      "<img alt=\"Foto\" height=\"155\" src=\"https://caelum-online-public.s3.amazonaws.com/1381-scraping/01/img-cars/tvr/tvr-2943925__340.jpg\" width=\"220\"/>\n",
      "</div>\n",
      "<div class=\"col-md-6 body-card\">\n",
      "<p class=\"txt-name inline\">TVR</p>\n",
      "<p class=\"txt-category badge badge-secondary inline\">USADO</p>\n",
      "<p class=\"txt-motor\">Motor 4.0 Turbo</p>\n",
      "<p class=\"txt-description\">Ano 2014 - 17.778 km</p>\n",
      "<ul class=\"lst-items\">\n",
      "<li class=\"txt-items\">► 4 X 4</li>\n",
      "<li class=\"txt-items\">► Teto panorâmico</li>\n",
      "<li class=\"txt-items\">► Central multimídia</li>\n",
      "<li class=\"txt-items\">► Controle de estabilidade</li>\n",
      "<li class=\"txt-items\">...</li>\n",
      "</ul>\n",
      "<p class=\"txt-location\">Belo Horizonte - MG</p>\n",
      "</div>\n",
      "<div class=\"col-md-3 value-card\">\n",
      "<div class=\"value\">\n",
      "<p class=\"txt-value\">R$ 115.000</p>\n",
      "</div>\n",
      "</div>\n",
      "</div>\n",
      "\n",
      "\n",
      "<div class=\"well card\">\n",
      "<div class=\"col-md-3 image-card\">\n",
      "<img alt=\"Foto\" height=\"155\" src=\"https://caelum-online-public.s3.amazonaws.com/1381-scraping/01/img-cars/excalibur/excalibur-2916730__340.jpg\" width=\"220\"/>\n",
      "</div>\n",
      "<div class=\"col-md-6 body-card\">\n",
      "<p class=\"txt-name inline\">EXCALIBUR</p>\n",
      "<p class=\"txt-category badge badge-secondary inline\">USADO</p>\n",
      "<p class=\"txt-motor\">Motor 3.0 32v</p>\n",
      "<p class=\"txt-description\">Ano 2009 - 81.251 km</p>\n",
      "<ul class=\"lst-items\">\n",
      "<li class=\"txt-items\">► Painel digital</li>\n",
      "<li class=\"txt-items\">► Câmbio automático</li>\n",
      "<li class=\"txt-items\">► Sensor de chuva</li>\n",
      "<li class=\"txt-items\">► Travas elétricas</li>\n",
      "<li class=\"txt-items\">...</li>\n",
      "</ul>\n",
      "<p class=\"txt-location\">Rio de Janeiro - RJ</p>\n",
      "</div>\n",
      "<div class=\"col-md-3 value-card\">\n",
      "<div class=\"value\">\n",
      "<p class=\"txt-value\">R$ 114.000</p>\n",
      "</div>\n",
      "</div>\n",
      "</div>\n",
      "\n",
      "\n",
      "<div class=\"well card\">\n",
      "<div class=\"col-md-3 image-card\">\n",
      "<img alt=\"Foto\" height=\"155\" src=\"https://caelum-online-public.s3.amazonaws.com/1381-scraping/01/img-cars/mclaren/mclaren-2855240__340.jpg\" width=\"220\"/>\n",
      "</div>\n",
      "<div class=\"col-md-6 body-card\">\n",
      "<p class=\"txt-name inline\">MCLAREN</p>\n",
      "<p class=\"txt-category badge badge-secondary inline\">NOVO</p>\n",
      "<p class=\"txt-motor\">Motor Diesel</p>\n",
      "<p class=\"txt-description\">Ano 2019 - 0 km</p>\n",
      "<ul class=\"lst-items\">\n",
      "<li class=\"txt-items\">► Central multimídia</li>\n",
      "<li class=\"txt-items\">► Câmera de estacionamento</li>\n",
      "<li class=\"txt-items\">► Câmbio automático</li>\n",
      "<li class=\"txt-items\">► Ar condicionado</li>\n",
      "<li class=\"txt-items\">...</li>\n",
      "</ul>\n",
      "<p class=\"txt-location\">São Paulo - SP</p>\n",
      "</div>\n",
      "<div class=\"col-md-3 value-card\">\n",
      "<div class=\"value\">\n",
      "<p class=\"txt-value\">R$ 75.000</p>\n",
      "</div>\n",
      "</div>\n",
      "</div>\n",
      "\n",
      "\n",
      "<div class=\"well card\">\n",
      "<div class=\"col-md-3 image-card\">\n",
      "<img alt=\"Foto\" height=\"155\" src=\"https://caelum-online-public.s3.amazonaws.com/1381-scraping/01/img-cars/toyota/toyota-3245397__340.jpg\" width=\"220\"/>\n",
      "</div>\n",
      "<div class=\"col-md-6 body-card\">\n",
      "<p class=\"txt-name inline\">TOYOTA</p>\n",
      "<p class=\"txt-category badge badge-secondary inline\">USADO</p>\n",
      "<p class=\"txt-opportunity badge badge-danger inline\">OPORTUNIDADE</p>\n",
      "<p class=\"txt-motor\">Motor 4.0 Turbo</p>\n",
      "<p class=\"txt-description\">Ano 1999 - 12.536 km</p>\n",
      "<ul class=\"lst-items\">\n",
      "<li class=\"txt-items\">► Bancos de couro</li>\n",
      "<li class=\"txt-items\">► Freios ABS</li>\n",
      "<li class=\"txt-items\">► Piloto automático</li>\n",
      "<li class=\"txt-items\">► Controle de estabilidade</li>\n",
      "<li class=\"txt-items\">...</li>\n",
      "</ul>\n",
      "<p class=\"txt-location\">São Paulo - SP</p>\n",
      "</div>\n",
      "<div class=\"col-md-3 value-card\">\n",
      "<div class=\"value\">\n",
      "<p class=\"txt-value\">R$ 117.000</p>\n",
      "</div>\n",
      "</div>\n",
      "</div>\n",
      "\n",
      "\n"
     ]
    }
   ],
   "source": [
    "for anuncio in anuncios:\n",
    "    print(str(anuncio) + \"\\n\\n\")"
   ]
  },
  {
   "cell_type": "markdown",
   "metadata": {},
   "source": [
    "# 6.2. Criando uma rotina de scraping"
   ]
  },
  {
   "cell_type": "code",
   "execution_count": 109,
   "metadata": {},
   "outputs": [
    {
     "data": {
      "text/html": [
       "<div>\n",
       "<style scoped>\n",
       "    .dataframe tbody tr th:only-of-type {\n",
       "        vertical-align: middle;\n",
       "    }\n",
       "\n",
       "    .dataframe tbody tr th {\n",
       "        vertical-align: top;\n",
       "    }\n",
       "\n",
       "    .dataframe thead th {\n",
       "        text-align: right;\n",
       "    }\n",
       "</style>\n",
       "<table border=\"1\" class=\"dataframe\">\n",
       "  <thead>\n",
       "    <tr style=\"text-align: right;\">\n",
       "      <th></th>\n",
       "      <th>value</th>\n",
       "      <th>name</th>\n",
       "      <th>category</th>\n",
       "      <th>motor</th>\n",
       "      <th>description</th>\n",
       "      <th>location</th>\n",
       "      <th>items</th>\n",
       "      <th>opportunity</th>\n",
       "    </tr>\n",
       "  </thead>\n",
       "  <tbody>\n",
       "    <tr>\n",
       "      <th>0</th>\n",
       "      <td>R$ 338.000</td>\n",
       "      <td>LAMBORGHINI AVENTADOR</td>\n",
       "      <td>USADO</td>\n",
       "      <td>Motor 1.8 16v</td>\n",
       "      <td>Ano 1993 - 55.286 km</td>\n",
       "      <td>Belo Horizonte - MG</td>\n",
       "      <td>[4 X 4, Câmera de estacionamento, Controle de ...</td>\n",
       "      <td>NaN</td>\n",
       "    </tr>\n",
       "    <tr>\n",
       "      <th>1</th>\n",
       "      <td>R$ 346.000</td>\n",
       "      <td>BMW M2</td>\n",
       "      <td>USADO</td>\n",
       "      <td>Motor 3.0 32v</td>\n",
       "      <td>Ano 2018 - 83.447 km</td>\n",
       "      <td>Belo Horizonte - MG</td>\n",
       "      <td>[Câmera de estacionamento, Controle de estabil...</td>\n",
       "      <td>NaN</td>\n",
       "    </tr>\n",
       "    <tr>\n",
       "      <th>2</th>\n",
       "      <td>R$ 480.000</td>\n",
       "      <td>ALFA</td>\n",
       "      <td>USADO</td>\n",
       "      <td>Motor 1.8 16v</td>\n",
       "      <td>Ano 2004 - 19.722 km</td>\n",
       "      <td>Rio de Janeiro - RJ</td>\n",
       "      <td>[Central multimídia, Bancos de couro, Rodas de...</td>\n",
       "      <td>NaN</td>\n",
       "    </tr>\n",
       "    <tr>\n",
       "      <th>3</th>\n",
       "      <td>R$ 133.000</td>\n",
       "      <td>PUECH</td>\n",
       "      <td>USADO</td>\n",
       "      <td>Motor Diesel V8</td>\n",
       "      <td>Ano 1992 - 34.335 km</td>\n",
       "      <td>São Paulo - SP</td>\n",
       "      <td>[Bancos de couro, Freios ABS, Rodas de liga, C...</td>\n",
       "      <td>NaN</td>\n",
       "    </tr>\n",
       "    <tr>\n",
       "      <th>4</th>\n",
       "      <td>R$ 175.000</td>\n",
       "      <td>LAMBORGHINI MURCIELAGO</td>\n",
       "      <td>USADO</td>\n",
       "      <td>Motor 1.0 8v</td>\n",
       "      <td>Ano 1991 - 464 km</td>\n",
       "      <td>Belo Horizonte - MG</td>\n",
       "      <td>[Central multimídia, Teto panorâmico, Sensor c...</td>\n",
       "      <td>NaN</td>\n",
       "    </tr>\n",
       "    <tr>\n",
       "      <th>5</th>\n",
       "      <td>R$ 239.000</td>\n",
       "      <td>ASTON MARTIN</td>\n",
       "      <td>USADO</td>\n",
       "      <td>Motor Diesel V6</td>\n",
       "      <td>Ano 2004 - 50.189 km</td>\n",
       "      <td>Belo Horizonte - MG</td>\n",
       "      <td>[Painel digital, Controle de tração, Teto pano...</td>\n",
       "      <td>OPORTUNIDADE</td>\n",
       "    </tr>\n",
       "    <tr>\n",
       "      <th>6</th>\n",
       "      <td>R$ 115.000</td>\n",
       "      <td>TVR</td>\n",
       "      <td>USADO</td>\n",
       "      <td>Motor 4.0 Turbo</td>\n",
       "      <td>Ano 2014 - 17.778 km</td>\n",
       "      <td>Belo Horizonte - MG</td>\n",
       "      <td>[4 X 4, Teto panorâmico, Central multimídia, C...</td>\n",
       "      <td>NaN</td>\n",
       "    </tr>\n",
       "    <tr>\n",
       "      <th>7</th>\n",
       "      <td>R$ 114.000</td>\n",
       "      <td>EXCALIBUR</td>\n",
       "      <td>USADO</td>\n",
       "      <td>Motor 3.0 32v</td>\n",
       "      <td>Ano 2009 - 81.251 km</td>\n",
       "      <td>Rio de Janeiro - RJ</td>\n",
       "      <td>[Painel digital, Câmbio automático, Sensor de ...</td>\n",
       "      <td>NaN</td>\n",
       "    </tr>\n",
       "    <tr>\n",
       "      <th>8</th>\n",
       "      <td>R$ 75.000</td>\n",
       "      <td>MCLAREN</td>\n",
       "      <td>NOVO</td>\n",
       "      <td>Motor Diesel</td>\n",
       "      <td>Ano 2019 - 0 km</td>\n",
       "      <td>São Paulo - SP</td>\n",
       "      <td>[Central multimídia, Câmera de estacionamento,...</td>\n",
       "      <td>NaN</td>\n",
       "    </tr>\n",
       "    <tr>\n",
       "      <th>9</th>\n",
       "      <td>R$ 117.000</td>\n",
       "      <td>TOYOTA</td>\n",
       "      <td>USADO</td>\n",
       "      <td>Motor 4.0 Turbo</td>\n",
       "      <td>Ano 1999 - 12.536 km</td>\n",
       "      <td>São Paulo - SP</td>\n",
       "      <td>[Bancos de couro, Freios ABS, Piloto automátic...</td>\n",
       "      <td>OPORTUNIDADE</td>\n",
       "    </tr>\n",
       "  </tbody>\n",
       "</table>\n",
       "</div>"
      ],
      "text/plain": [
       "        value                    name category            motor  \\\n",
       "0  R$ 338.000   LAMBORGHINI AVENTADOR    USADO    Motor 1.8 16v   \n",
       "1  R$ 346.000                  BMW M2    USADO    Motor 3.0 32v   \n",
       "2  R$ 480.000                    ALFA    USADO    Motor 1.8 16v   \n",
       "3  R$ 133.000                   PUECH    USADO  Motor Diesel V8   \n",
       "4  R$ 175.000  LAMBORGHINI MURCIELAGO    USADO     Motor 1.0 8v   \n",
       "5  R$ 239.000            ASTON MARTIN    USADO  Motor Diesel V6   \n",
       "6  R$ 115.000                     TVR    USADO  Motor 4.0 Turbo   \n",
       "7  R$ 114.000               EXCALIBUR    USADO    Motor 3.0 32v   \n",
       "8   R$ 75.000                 MCLAREN     NOVO     Motor Diesel   \n",
       "9  R$ 117.000                  TOYOTA    USADO  Motor 4.0 Turbo   \n",
       "\n",
       "            description             location  \\\n",
       "0  Ano 1993 - 55.286 km  Belo Horizonte - MG   \n",
       "1  Ano 2018 - 83.447 km  Belo Horizonte - MG   \n",
       "2  Ano 2004 - 19.722 km  Rio de Janeiro - RJ   \n",
       "3  Ano 1992 - 34.335 km       São Paulo - SP   \n",
       "4     Ano 1991 - 464 km  Belo Horizonte - MG   \n",
       "5  Ano 2004 - 50.189 km  Belo Horizonte - MG   \n",
       "6  Ano 2014 - 17.778 km  Belo Horizonte - MG   \n",
       "7  Ano 2009 - 81.251 km  Rio de Janeiro - RJ   \n",
       "8       Ano 2019 - 0 km       São Paulo - SP   \n",
       "9  Ano 1999 - 12.536 km       São Paulo - SP   \n",
       "\n",
       "                                               items   opportunity  \n",
       "0  [4 X 4, Câmera de estacionamento, Controle de ...           NaN  \n",
       "1  [Câmera de estacionamento, Controle de estabil...           NaN  \n",
       "2  [Central multimídia, Bancos de couro, Rodas de...           NaN  \n",
       "3  [Bancos de couro, Freios ABS, Rodas de liga, C...           NaN  \n",
       "4  [Central multimídia, Teto panorâmico, Sensor c...           NaN  \n",
       "5  [Painel digital, Controle de tração, Teto pano...  OPORTUNIDADE  \n",
       "6  [4 X 4, Teto panorâmico, Central multimídia, C...           NaN  \n",
       "7  [Painel digital, Câmbio automático, Sensor de ...           NaN  \n",
       "8  [Central multimídia, Câmera de estacionamento,...           NaN  \n",
       "9  [Bancos de couro, Freios ABS, Piloto automátic...  OPORTUNIDADE  "
      ]
     },
     "execution_count": 109,
     "metadata": {},
     "output_type": "execute_result"
    }
   ],
   "source": [
    "# Importando bibliotecas\n",
    "from urllib.request import urlopen, urlretrieve\n",
    "from bs4 import BeautifulSoup\n",
    "import pandas as pd\n",
    "\n",
    "# Declarando variável cards\n",
    "cards = []\n",
    "\n",
    "# Obtendo o HTML\n",
    "response = urlopen('https://alura-site-scraping.herokuapp.com/index.php')\n",
    "html = response.read().decode('utf-8')\n",
    "soup = BeautifulSoup(html, 'html.parser')\n",
    "\n",
    "# Obtendo as TAGs de interesse\n",
    "anuncios = soup.find('div', {\"id\": \"container-cards\"}\n",
    "                     ).findAll('div', class_=\"card\")\n",
    "\n",
    "# Coletando as informações dos cards\n",
    "for anuncio in anuncios:\n",
    "    card = {}\n",
    "    # Valor\n",
    "    card['value'] = anuncio.find('p', {'class': 'txt-value'}).getText()\n",
    "\n",
    "    # Informações\n",
    "    infos = anuncio.find('div', {'class': 'body-card'}).findAll('p')\n",
    "    for info in infos:\n",
    "        card[info.get('class')[0].split('-')[-1]] = info.get_text()\n",
    "\n",
    "    # Acessórios\n",
    "    items = anuncio.find('div', {'class': 'body-card'}).ul.findAll('li')\n",
    "    items.pop()\n",
    "    acessorios = []\n",
    "    for item in items:\n",
    "        acessorios.append(item.get_text().replace('► ', ''))\n",
    "    card['items'] = acessorios\n",
    "\n",
    "    # Adicionando resultado à lista cards\n",
    "    cards.append(card)\n",
    "\n",
    "    # Imagens\n",
    "    image = anuncio.find('div', {'class': 'image-card'}).img\n",
    "    urlretrieve(image.get('src'), './output/img/' +\n",
    "                image.get('src').split('/')[-1])\n",
    "\n",
    "\n",
    "# Criando um DataFrame com os resultados\n",
    "dataset = pd.DataFrame(cards)\n",
    "\n",
    "dataset.to_csv('./output/data/dataset.csv', sep=';',\n",
    "               index=False, encoding='utf-8-sig')\n",
    "dataset"
   ]
  },
  {
   "cell_type": "code",
   "execution_count": 110,
   "metadata": {},
   "outputs": [
    {
     "data": {
      "text/plain": [
       "[{'value': 'R$ 338.000',\n",
       "  'name': 'LAMBORGHINI AVENTADOR',\n",
       "  'category': 'USADO',\n",
       "  'motor': 'Motor 1.8 16v',\n",
       "  'description': 'Ano 1993 - 55.286 km',\n",
       "  'location': 'Belo Horizonte - MG',\n",
       "  'items': ['4 X 4',\n",
       "   'Câmera de estacionamento',\n",
       "   'Controle de tração',\n",
       "   'Sensor de estacionamento']},\n",
       " {'value': 'R$ 346.000',\n",
       "  'name': 'BMW M2',\n",
       "  'category': 'USADO',\n",
       "  'motor': 'Motor 3.0 32v',\n",
       "  'description': 'Ano 2018 - 83.447 km',\n",
       "  'location': 'Belo Horizonte - MG',\n",
       "  'items': ['Câmera de estacionamento',\n",
       "   'Controle de estabilidade',\n",
       "   'Travas elétricas',\n",
       "   'Freios ABS']},\n",
       " {'value': 'R$ 480.000',\n",
       "  'name': 'ALFA',\n",
       "  'category': 'USADO',\n",
       "  'motor': 'Motor 1.8 16v',\n",
       "  'description': 'Ano 2004 - 19.722 km',\n",
       "  'location': 'Rio de Janeiro - RJ',\n",
       "  'items': ['Central multimídia',\n",
       "   'Bancos de couro',\n",
       "   'Rodas de liga',\n",
       "   'Câmera de estacionamento']},\n",
       " {'value': 'R$ 133.000',\n",
       "  'name': 'PUECH',\n",
       "  'category': 'USADO',\n",
       "  'motor': 'Motor Diesel V8',\n",
       "  'description': 'Ano 1992 - 34.335 km',\n",
       "  'location': 'São Paulo - SP',\n",
       "  'items': ['Bancos de couro',\n",
       "   'Freios ABS',\n",
       "   'Rodas de liga',\n",
       "   'Câmbio automático']},\n",
       " {'value': 'R$ 175.000',\n",
       "  'name': 'LAMBORGHINI MURCIELAGO',\n",
       "  'category': 'USADO',\n",
       "  'motor': 'Motor 1.0 8v',\n",
       "  'description': 'Ano 1991 - 464 km',\n",
       "  'location': 'Belo Horizonte - MG',\n",
       "  'items': ['Central multimídia',\n",
       "   'Teto panorâmico',\n",
       "   'Sensor crepuscular',\n",
       "   'Piloto automático']},\n",
       " {'value': 'R$ 239.000',\n",
       "  'name': 'ASTON MARTIN',\n",
       "  'category': 'USADO',\n",
       "  'opportunity': 'OPORTUNIDADE',\n",
       "  'motor': 'Motor Diesel V6',\n",
       "  'description': 'Ano 2004 - 50.189 km',\n",
       "  'location': 'Belo Horizonte - MG',\n",
       "  'items': ['Painel digital',\n",
       "   'Controle de tração',\n",
       "   'Teto panorâmico',\n",
       "   'Central multimídia']},\n",
       " {'value': 'R$ 115.000',\n",
       "  'name': 'TVR',\n",
       "  'category': 'USADO',\n",
       "  'motor': 'Motor 4.0 Turbo',\n",
       "  'description': 'Ano 2014 - 17.778 km',\n",
       "  'location': 'Belo Horizonte - MG',\n",
       "  'items': ['4 X 4',\n",
       "   'Teto panorâmico',\n",
       "   'Central multimídia',\n",
       "   'Controle de estabilidade']},\n",
       " {'value': 'R$ 114.000',\n",
       "  'name': 'EXCALIBUR',\n",
       "  'category': 'USADO',\n",
       "  'motor': 'Motor 3.0 32v',\n",
       "  'description': 'Ano 2009 - 81.251 km',\n",
       "  'location': 'Rio de Janeiro - RJ',\n",
       "  'items': ['Painel digital',\n",
       "   'Câmbio automático',\n",
       "   'Sensor de chuva',\n",
       "   'Travas elétricas']},\n",
       " {'value': 'R$ 75.000',\n",
       "  'name': 'MCLAREN',\n",
       "  'category': 'NOVO',\n",
       "  'motor': 'Motor Diesel',\n",
       "  'description': 'Ano 2019 - 0 km',\n",
       "  'location': 'São Paulo - SP',\n",
       "  'items': ['Central multimídia',\n",
       "   'Câmera de estacionamento',\n",
       "   'Câmbio automático',\n",
       "   'Ar condicionado']},\n",
       " {'value': 'R$ 117.000',\n",
       "  'name': 'TOYOTA',\n",
       "  'category': 'USADO',\n",
       "  'opportunity': 'OPORTUNIDADE',\n",
       "  'motor': 'Motor 4.0 Turbo',\n",
       "  'description': 'Ano 1999 - 12.536 km',\n",
       "  'location': 'São Paulo - SP',\n",
       "  'items': ['Bancos de couro',\n",
       "   'Freios ABS',\n",
       "   'Piloto automático',\n",
       "   'Controle de estabilidade']}]"
      ]
     },
     "execution_count": 110,
     "metadata": {},
     "output_type": "execute_result"
    }
   ],
   "source": [
    "cards"
   ]
  },
  {
   "cell_type": "markdown",
   "metadata": {},
   "source": [
    "# <font color=green>7. WEB SCRAPING DO SITE ALURA MOTORS - OBTENDO OS DADOS DE TODOS OS ANÚNCIOS DO SITE"
   ]
  },
  {
   "cell_type": "markdown",
   "metadata": {},
   "source": [
    "# 7.1. Identificando as informações no HTML"
   ]
  },
  {
   "cell_type": "code",
   "execution_count": 111,
   "metadata": {},
   "outputs": [
    {
     "data": {
      "text/plain": [
       "<span class=\"info-pages\">Página 1 de 25</span>"
      ]
     },
     "execution_count": 111,
     "metadata": {},
     "output_type": "execute_result"
    }
   ],
   "source": [
    "soup.find('span',class_='info-pages')"
   ]
  },
  {
   "cell_type": "code",
   "execution_count": 112,
   "metadata": {
    "scrolled": true
   },
   "outputs": [
    {
     "data": {
      "text/plain": [
       "'Página 1 de 25'"
      ]
     },
     "execution_count": 112,
     "metadata": {},
     "output_type": "execute_result"
    }
   ],
   "source": [
    "soup.find('span',class_='info-pages').getText()"
   ]
  },
  {
   "cell_type": "code",
   "execution_count": 113,
   "metadata": {},
   "outputs": [
    {
     "data": {
      "text/plain": [
       "['Página', '1', 'de', '25']"
      ]
     },
     "execution_count": 113,
     "metadata": {},
     "output_type": "execute_result"
    }
   ],
   "source": [
    "soup.find('span',class_='info-pages').getText().split(' ')"
   ]
  },
  {
   "cell_type": "code",
   "execution_count": 114,
   "metadata": {},
   "outputs": [
    {
     "data": {
      "text/plain": [
       "'25'"
      ]
     },
     "execution_count": 114,
     "metadata": {},
     "output_type": "execute_result"
    }
   ],
   "source": [
    "soup.find('span',class_='info-pages').getText().split(' ')[-1]"
   ]
  },
  {
   "cell_type": "code",
   "execution_count": 115,
   "metadata": {},
   "outputs": [
    {
     "data": {
      "text/plain": [
       "25"
      ]
     },
     "execution_count": 115,
     "metadata": {},
     "output_type": "execute_result"
    }
   ],
   "source": [
    "int(soup.find('span',class_='info-pages').getText().split(' ')[-1])"
   ]
  },
  {
   "cell_type": "markdown",
   "metadata": {},
   "source": [
    "# 7.2. Criando uma rotina de scraping"
   ]
  },
  {
   "cell_type": "code",
   "execution_count": 116,
   "metadata": {
    "scrolled": true
   },
   "outputs": [
    {
     "data": {
      "text/html": [
       "<div>\n",
       "<style scoped>\n",
       "    .dataframe tbody tr th:only-of-type {\n",
       "        vertical-align: middle;\n",
       "    }\n",
       "\n",
       "    .dataframe tbody tr th {\n",
       "        vertical-align: top;\n",
       "    }\n",
       "\n",
       "    .dataframe thead th {\n",
       "        text-align: right;\n",
       "    }\n",
       "</style>\n",
       "<table border=\"1\" class=\"dataframe\">\n",
       "  <thead>\n",
       "    <tr style=\"text-align: right;\">\n",
       "      <th></th>\n",
       "      <th>value</th>\n",
       "      <th>name</th>\n",
       "      <th>category</th>\n",
       "      <th>motor</th>\n",
       "      <th>description</th>\n",
       "      <th>location</th>\n",
       "      <th>items</th>\n",
       "      <th>opportunity</th>\n",
       "    </tr>\n",
       "  </thead>\n",
       "  <tbody>\n",
       "    <tr>\n",
       "      <th>0</th>\n",
       "      <td>R$ 338.000</td>\n",
       "      <td>LAMBORGHINI AVENTADOR</td>\n",
       "      <td>USADO</td>\n",
       "      <td>Motor 1.8 16v</td>\n",
       "      <td>Ano 1993 - 55.286 km</td>\n",
       "      <td>Belo Horizonte - MG</td>\n",
       "      <td>[4 X 4, Câmera de estacionamento, Controle de ...</td>\n",
       "      <td>NaN</td>\n",
       "    </tr>\n",
       "    <tr>\n",
       "      <th>1</th>\n",
       "      <td>R$ 346.000</td>\n",
       "      <td>BMW M2</td>\n",
       "      <td>USADO</td>\n",
       "      <td>Motor 3.0 32v</td>\n",
       "      <td>Ano 2018 - 83.447 km</td>\n",
       "      <td>Belo Horizonte - MG</td>\n",
       "      <td>[Câmera de estacionamento, Controle de estabil...</td>\n",
       "      <td>NaN</td>\n",
       "    </tr>\n",
       "    <tr>\n",
       "      <th>2</th>\n",
       "      <td>R$ 480.000</td>\n",
       "      <td>ALFA</td>\n",
       "      <td>USADO</td>\n",
       "      <td>Motor 1.8 16v</td>\n",
       "      <td>Ano 2004 - 19.722 km</td>\n",
       "      <td>Rio de Janeiro - RJ</td>\n",
       "      <td>[Central multimídia, Bancos de couro, Rodas de...</td>\n",
       "      <td>NaN</td>\n",
       "    </tr>\n",
       "    <tr>\n",
       "      <th>3</th>\n",
       "      <td>R$ 133.000</td>\n",
       "      <td>PUECH</td>\n",
       "      <td>USADO</td>\n",
       "      <td>Motor Diesel V8</td>\n",
       "      <td>Ano 1992 - 34.335 km</td>\n",
       "      <td>São Paulo - SP</td>\n",
       "      <td>[Bancos de couro, Freios ABS, Rodas de liga, C...</td>\n",
       "      <td>NaN</td>\n",
       "    </tr>\n",
       "    <tr>\n",
       "      <th>4</th>\n",
       "      <td>R$ 175.000</td>\n",
       "      <td>LAMBORGHINI MURCIELAGO</td>\n",
       "      <td>USADO</td>\n",
       "      <td>Motor 1.0 8v</td>\n",
       "      <td>Ano 1991 - 464 km</td>\n",
       "      <td>Belo Horizonte - MG</td>\n",
       "      <td>[Central multimídia, Teto panorâmico, Sensor c...</td>\n",
       "      <td>NaN</td>\n",
       "    </tr>\n",
       "    <tr>\n",
       "      <th>...</th>\n",
       "      <td>...</td>\n",
       "      <td>...</td>\n",
       "      <td>...</td>\n",
       "      <td>...</td>\n",
       "      <td>...</td>\n",
       "      <td>...</td>\n",
       "      <td>...</td>\n",
       "      <td>...</td>\n",
       "    </tr>\n",
       "    <tr>\n",
       "      <th>241</th>\n",
       "      <td>R$ 489.000</td>\n",
       "      <td>SUV REAR TIRE</td>\n",
       "      <td>USADO</td>\n",
       "      <td>Motor 3.0 32v</td>\n",
       "      <td>Ano 1998 - 74.292 km</td>\n",
       "      <td>São Paulo - SP</td>\n",
       "      <td>[Câmera de estacionamento, Rodas de liga, Sens...</td>\n",
       "      <td>NaN</td>\n",
       "    </tr>\n",
       "    <tr>\n",
       "      <th>242</th>\n",
       "      <td>R$ 427.000</td>\n",
       "      <td>ANTIQUE</td>\n",
       "      <td>NOVO</td>\n",
       "      <td>Motor 2.0 16v</td>\n",
       "      <td>Ano 2019 - 0 km</td>\n",
       "      <td>Belo Horizonte - MG</td>\n",
       "      <td>[Bancos de couro, Freios ABS, Sensor de estaci...</td>\n",
       "      <td>NaN</td>\n",
       "    </tr>\n",
       "    <tr>\n",
       "      <th>243</th>\n",
       "      <td>R$ 203.000</td>\n",
       "      <td>SPORT</td>\n",
       "      <td>USADO</td>\n",
       "      <td>Motor 2.0 16v</td>\n",
       "      <td>Ano 2001 - 102.776 km</td>\n",
       "      <td>Belo Horizonte - MG</td>\n",
       "      <td>[Sensor crepuscular, Sensor de chuva, Vidros e...</td>\n",
       "      <td>NaN</td>\n",
       "    </tr>\n",
       "    <tr>\n",
       "      <th>244</th>\n",
       "      <td>R$ 474.000</td>\n",
       "      <td>IMPERIAL</td>\n",
       "      <td>USADO</td>\n",
       "      <td>Motor 1.8 16v</td>\n",
       "      <td>Ano 2011 - 101.787 km</td>\n",
       "      <td>Belo Horizonte - MG</td>\n",
       "      <td>[Painel digital, Travas elétricas, Sensor de c...</td>\n",
       "      <td>OPORTUNIDADE</td>\n",
       "    </tr>\n",
       "    <tr>\n",
       "      <th>245</th>\n",
       "      <td>R$ 366.000</td>\n",
       "      <td>KIA SPORTS CAR</td>\n",
       "      <td>USADO</td>\n",
       "      <td>Motor 3.0 32v</td>\n",
       "      <td>Ano 2001 - 88.564 km</td>\n",
       "      <td>Belo Horizonte - MG</td>\n",
       "      <td>[Sensor crepuscular, Bancos de couro, Sensor d...</td>\n",
       "      <td>NaN</td>\n",
       "    </tr>\n",
       "  </tbody>\n",
       "</table>\n",
       "<p>246 rows × 8 columns</p>\n",
       "</div>"
      ],
      "text/plain": [
       "          value                    name category            motor  \\\n",
       "0    R$ 338.000   LAMBORGHINI AVENTADOR    USADO    Motor 1.8 16v   \n",
       "1    R$ 346.000                  BMW M2    USADO    Motor 3.0 32v   \n",
       "2    R$ 480.000                    ALFA    USADO    Motor 1.8 16v   \n",
       "3    R$ 133.000                   PUECH    USADO  Motor Diesel V8   \n",
       "4    R$ 175.000  LAMBORGHINI MURCIELAGO    USADO     Motor 1.0 8v   \n",
       "..          ...                     ...      ...              ...   \n",
       "241  R$ 489.000           SUV REAR TIRE    USADO    Motor 3.0 32v   \n",
       "242  R$ 427.000                 ANTIQUE     NOVO    Motor 2.0 16v   \n",
       "243  R$ 203.000                   SPORT    USADO    Motor 2.0 16v   \n",
       "244  R$ 474.000                IMPERIAL    USADO    Motor 1.8 16v   \n",
       "245  R$ 366.000          KIA SPORTS CAR    USADO    Motor 3.0 32v   \n",
       "\n",
       "               description             location  \\\n",
       "0     Ano 1993 - 55.286 km  Belo Horizonte - MG   \n",
       "1     Ano 2018 - 83.447 km  Belo Horizonte - MG   \n",
       "2     Ano 2004 - 19.722 km  Rio de Janeiro - RJ   \n",
       "3     Ano 1992 - 34.335 km       São Paulo - SP   \n",
       "4        Ano 1991 - 464 km  Belo Horizonte - MG   \n",
       "..                     ...                  ...   \n",
       "241   Ano 1998 - 74.292 km       São Paulo - SP   \n",
       "242        Ano 2019 - 0 km  Belo Horizonte - MG   \n",
       "243  Ano 2001 - 102.776 km  Belo Horizonte - MG   \n",
       "244  Ano 2011 - 101.787 km  Belo Horizonte - MG   \n",
       "245   Ano 2001 - 88.564 km  Belo Horizonte - MG   \n",
       "\n",
       "                                                 items   opportunity  \n",
       "0    [4 X 4, Câmera de estacionamento, Controle de ...           NaN  \n",
       "1    [Câmera de estacionamento, Controle de estabil...           NaN  \n",
       "2    [Central multimídia, Bancos de couro, Rodas de...           NaN  \n",
       "3    [Bancos de couro, Freios ABS, Rodas de liga, C...           NaN  \n",
       "4    [Central multimídia, Teto panorâmico, Sensor c...           NaN  \n",
       "..                                                 ...           ...  \n",
       "241  [Câmera de estacionamento, Rodas de liga, Sens...           NaN  \n",
       "242  [Bancos de couro, Freios ABS, Sensor de estaci...           NaN  \n",
       "243  [Sensor crepuscular, Sensor de chuva, Vidros e...           NaN  \n",
       "244  [Painel digital, Travas elétricas, Sensor de c...  OPORTUNIDADE  \n",
       "245  [Sensor crepuscular, Bancos de couro, Sensor d...           NaN  \n",
       "\n",
       "[246 rows x 8 columns]"
      ]
     },
     "execution_count": 116,
     "metadata": {},
     "output_type": "execute_result"
    }
   ],
   "source": [
    "# Importando bibliotecas\n",
    "from urllib.request import urlopen, urlretrieve\n",
    "from bs4 import BeautifulSoup\n",
    "import pandas as pd\n",
    "\n",
    "# Declarando variável cards\n",
    "cards = []\n",
    "\n",
    "# Obtendo o HTML\n",
    "response = urlopen('https://alura-site-scraping.herokuapp.com/index.php')\n",
    "html = response.read().decode('utf-8')\n",
    "soup = BeautifulSoup(html, 'html.parser')\n",
    "pages = int(soup.find('span', class_='info-pages').getText().split(' ')[-1])\n",
    "\n",
    "# Iterando por todas as páginas do site\n",
    "for i in range(pages):\n",
    "    # Obtendo o HTML\n",
    "    response = urlopen(\n",
    "        'https://alura-site-scraping.herokuapp.com/index.php?page='+str(i+1))\n",
    "    html = response.read().decode('utf-8')\n",
    "    soup = BeautifulSoup(html, 'html.parser')\n",
    "\n",
    "    # Obtendo as TAGs de interesse\n",
    "    anuncios = soup.find('div', {\"id\": \"container-cards\"}\n",
    "                         ).findAll('div', class_=\"card\")\n",
    "\n",
    "    # Coletando as informações dos cards\n",
    "    for anuncio in anuncios:\n",
    "        card = {}\n",
    "        # Valor\n",
    "        card['value'] = anuncio.find('p', {'class': 'txt-value'}).getText()\n",
    "\n",
    "        # Informações\n",
    "        infos = anuncio.find('div', {'class': 'body-card'}).findAll('p')\n",
    "        for info in infos:\n",
    "            card[info.get('class')[0].split('-')[-1]] = info.get_text()\n",
    "\n",
    "        # Acessórios\n",
    "        items = anuncio.find('div', {'class': 'body-card'}).ul.findAll('li')\n",
    "        items.pop()\n",
    "        acessorios = []\n",
    "        for item in items:\n",
    "            acessorios.append(item.get_text().replace('► ', ''))\n",
    "        card['items'] = acessorios\n",
    "\n",
    "        # Adicionando resultado à lista cards\n",
    "        cards.append(card)\n",
    "\n",
    "        # Imagens\n",
    "        image = anuncio.find('div', {'class': 'image-card'}).img\n",
    "        urlretrieve(image.get('src'), './output/img/' +\n",
    "                    image.get('src').split('/')[-1])\n",
    "\n",
    "\n",
    "# Criando um DataFrame com os resultados\n",
    "dataset = pd.DataFrame(cards)\n",
    "dataset.to_csv('./output/data/dataset.csv', sep=';',\n",
    "               index=False, encoding='utf-8-sig')\n",
    "dataset"
   ]
  },
  {
   "cell_type": "code",
   "execution_count": 117,
   "metadata": {},
   "outputs": [
    {
     "data": {
      "text/plain": [
       "[{'value': 'R$ 338.000',\n",
       "  'name': 'LAMBORGHINI AVENTADOR',\n",
       "  'category': 'USADO',\n",
       "  'motor': 'Motor 1.8 16v',\n",
       "  'description': 'Ano 1993 - 55.286 km',\n",
       "  'location': 'Belo Horizonte - MG',\n",
       "  'items': ['4 X 4',\n",
       "   'Câmera de estacionamento',\n",
       "   'Controle de tração',\n",
       "   'Sensor de estacionamento']},\n",
       " {'value': 'R$ 346.000',\n",
       "  'name': 'BMW M2',\n",
       "  'category': 'USADO',\n",
       "  'motor': 'Motor 3.0 32v',\n",
       "  'description': 'Ano 2018 - 83.447 km',\n",
       "  'location': 'Belo Horizonte - MG',\n",
       "  'items': ['Câmera de estacionamento',\n",
       "   'Controle de estabilidade',\n",
       "   'Travas elétricas',\n",
       "   'Freios ABS']},\n",
       " {'value': 'R$ 480.000',\n",
       "  'name': 'ALFA',\n",
       "  'category': 'USADO',\n",
       "  'motor': 'Motor 1.8 16v',\n",
       "  'description': 'Ano 2004 - 19.722 km',\n",
       "  'location': 'Rio de Janeiro - RJ',\n",
       "  'items': ['Central multimídia',\n",
       "   'Bancos de couro',\n",
       "   'Rodas de liga',\n",
       "   'Câmera de estacionamento']},\n",
       " {'value': 'R$ 133.000',\n",
       "  'name': 'PUECH',\n",
       "  'category': 'USADO',\n",
       "  'motor': 'Motor Diesel V8',\n",
       "  'description': 'Ano 1992 - 34.335 km',\n",
       "  'location': 'São Paulo - SP',\n",
       "  'items': ['Bancos de couro',\n",
       "   'Freios ABS',\n",
       "   'Rodas de liga',\n",
       "   'Câmbio automático']},\n",
       " {'value': 'R$ 175.000',\n",
       "  'name': 'LAMBORGHINI MURCIELAGO',\n",
       "  'category': 'USADO',\n",
       "  'motor': 'Motor 1.0 8v',\n",
       "  'description': 'Ano 1991 - 464 km',\n",
       "  'location': 'Belo Horizonte - MG',\n",
       "  'items': ['Central multimídia',\n",
       "   'Teto panorâmico',\n",
       "   'Sensor crepuscular',\n",
       "   'Piloto automático']},\n",
       " {'value': 'R$ 239.000',\n",
       "  'name': 'ASTON MARTIN',\n",
       "  'category': 'USADO',\n",
       "  'opportunity': 'OPORTUNIDADE',\n",
       "  'motor': 'Motor Diesel V6',\n",
       "  'description': 'Ano 2004 - 50.189 km',\n",
       "  'location': 'Belo Horizonte - MG',\n",
       "  'items': ['Painel digital',\n",
       "   'Controle de tração',\n",
       "   'Teto panorâmico',\n",
       "   'Central multimídia']},\n",
       " {'value': 'R$ 115.000',\n",
       "  'name': 'TVR',\n",
       "  'category': 'USADO',\n",
       "  'motor': 'Motor 4.0 Turbo',\n",
       "  'description': 'Ano 2014 - 17.778 km',\n",
       "  'location': 'Belo Horizonte - MG',\n",
       "  'items': ['4 X 4',\n",
       "   'Teto panorâmico',\n",
       "   'Central multimídia',\n",
       "   'Controle de estabilidade']},\n",
       " {'value': 'R$ 114.000',\n",
       "  'name': 'EXCALIBUR',\n",
       "  'category': 'USADO',\n",
       "  'motor': 'Motor 3.0 32v',\n",
       "  'description': 'Ano 2009 - 81.251 km',\n",
       "  'location': 'Rio de Janeiro - RJ',\n",
       "  'items': ['Painel digital',\n",
       "   'Câmbio automático',\n",
       "   'Sensor de chuva',\n",
       "   'Travas elétricas']},\n",
       " {'value': 'R$ 75.000',\n",
       "  'name': 'MCLAREN',\n",
       "  'category': 'NOVO',\n",
       "  'motor': 'Motor Diesel',\n",
       "  'description': 'Ano 2019 - 0 km',\n",
       "  'location': 'São Paulo - SP',\n",
       "  'items': ['Central multimídia',\n",
       "   'Câmera de estacionamento',\n",
       "   'Câmbio automático',\n",
       "   'Ar condicionado']},\n",
       " {'value': 'R$ 117.000',\n",
       "  'name': 'TOYOTA',\n",
       "  'category': 'USADO',\n",
       "  'opportunity': 'OPORTUNIDADE',\n",
       "  'motor': 'Motor 4.0 Turbo',\n",
       "  'description': 'Ano 1999 - 12.536 km',\n",
       "  'location': 'São Paulo - SP',\n",
       "  'items': ['Bancos de couro',\n",
       "   'Freios ABS',\n",
       "   'Piloto automático',\n",
       "   'Controle de estabilidade']},\n",
       " {'value': 'R$ 177.000',\n",
       "  'name': 'VOLKSWAGEN BEETLE',\n",
       "  'category': 'NOVO',\n",
       "  'motor': 'Motor 1.0 8v',\n",
       "  'description': 'Ano 2019 - 0 km',\n",
       "  'location': 'Rio de Janeiro - RJ',\n",
       "  'items': ['Teto panorâmico',\n",
       "   'Controle de tração',\n",
       "   'Sensor crepuscular',\n",
       "   '4 X 4']},\n",
       " {'value': 'R$ 322.000',\n",
       "  'name': 'SPIRIT OF ECSTASY',\n",
       "  'category': 'USADO',\n",
       "  'motor': 'Motor 3.0 32v',\n",
       "  'description': 'Ano 2011 - 107.484 km',\n",
       "  'location': 'Belo Horizonte - MG',\n",
       "  'items': ['Ar condicionado',\n",
       "   'Travas elétricas',\n",
       "   'Rodas de liga',\n",
       "   'Bancos de couro']},\n",
       " {'value': 'R$ 194.000',\n",
       "  'name': 'PORSCHE 911 GT2RS',\n",
       "  'category': 'USADO',\n",
       "  'motor': 'Motor 3.0 32v',\n",
       "  'description': 'Ano 1992 - 908 km',\n",
       "  'location': 'Rio de Janeiro - RJ',\n",
       "  'items': ['Piloto automático',\n",
       "   'Painel digital',\n",
       "   'Ar condicionado',\n",
       "   'Vidros elétricos']},\n",
       " {'value': 'R$ 469.000',\n",
       "  'name': 'KOENIGSEGG',\n",
       "  'category': 'USADO',\n",
       "  'motor': 'Motor 2.4 Turbo',\n",
       "  'description': 'Ano 2015 - 22.485 km',\n",
       "  'location': 'São Paulo - SP',\n",
       "  'items': ['Sensor crepuscular',\n",
       "   'Painel digital',\n",
       "   'Teto panorâmico',\n",
       "   'Vidros elétricos']},\n",
       " {'value': 'R$ 424.000',\n",
       "  'name': 'LIMOUSINE',\n",
       "  'category': 'USADO',\n",
       "  'opportunity': 'OPORTUNIDADE',\n",
       "  'motor': 'Motor Diesel V6',\n",
       "  'description': 'Ano 1996 - 23.007 km',\n",
       "  'location': 'Belo Horizonte - MG',\n",
       "  'items': ['4 X 4',\n",
       "   'Câmera de estacionamento',\n",
       "   'Painel digital',\n",
       "   'Controle de tração']},\n",
       " {'value': 'R$ 291.000',\n",
       "  'name': 'FERRARI FF',\n",
       "  'category': 'USADO',\n",
       "  'motor': 'Motor 4.0 Turbo',\n",
       "  'description': 'Ano 2002 - 106.389 km',\n",
       "  'location': 'Belo Horizonte - MG',\n",
       "  'items': ['Rodas de liga',\n",
       "   'Bancos de couro',\n",
       "   'Freios ABS',\n",
       "   'Travas elétricas']},\n",
       " {'value': 'R$ 96.000',\n",
       "  'name': 'OFFENBURG',\n",
       "  'category': 'USADO',\n",
       "  'motor': 'Motor 5.0 V8 Bi-Turbo',\n",
       "  'description': 'Ano 1990 - 78.181 km',\n",
       "  'location': 'Rio de Janeiro - RJ',\n",
       "  'items': ['Freios ABS',\n",
       "   'Piloto automático',\n",
       "   'Controle de estabilidade',\n",
       "   'Vidros elétricos']},\n",
       " {'value': 'R$ 271.000',\n",
       "  'name': 'MUSTANG',\n",
       "  'category': 'USADO',\n",
       "  'motor': 'Motor Diesel V8',\n",
       "  'description': 'Ano 1998 - 86.001 km',\n",
       "  'location': 'São Paulo - SP',\n",
       "  'items': ['Sensor de estacionamento',\n",
       "   'Ar condicionado',\n",
       "   'Central multimídia',\n",
       "   'Travas elétricas']},\n",
       " {'value': 'R$ 387.000',\n",
       "  'name': 'LUXURY',\n",
       "  'category': 'NOVO',\n",
       "  'motor': 'Motor 2.4 Turbo',\n",
       "  'description': 'Ano 2019 - 0 km',\n",
       "  'location': 'Rio de Janeiro - RJ',\n",
       "  'items': ['Rodas de liga',\n",
       "   'Controle de tração',\n",
       "   'Freios ABS',\n",
       "   'Sensor de estacionamento']},\n",
       " {'value': 'R$ 483.000',\n",
       "  'name': 'BMW M5',\n",
       "  'category': 'USADO',\n",
       "  'motor': 'Motor 3.0 32v',\n",
       "  'description': 'Ano 2017 - 10.747 km',\n",
       "  'location': 'Rio de Janeiro - RJ',\n",
       "  'items': ['Painel digital',\n",
       "   'Central multimídia',\n",
       "   'Vidros elétricos',\n",
       "   'Ar condicionado']},\n",
       " {'value': 'R$ 285.000',\n",
       "  'name': 'PORSCHE 911 GT3RS',\n",
       "  'category': 'USADO',\n",
       "  'motor': 'Motor Diesel',\n",
       "  'description': 'Ano 1991 - 28.617 km',\n",
       "  'location': 'Belo Horizonte - MG',\n",
       "  'items': ['Painel digital',\n",
       "   'Controle de estabilidade',\n",
       "   '4 X 4',\n",
       "   'Sensor de chuva']},\n",
       " {'value': 'R$ 357.000',\n",
       "  'name': 'GOLD',\n",
       "  'category': 'NOVO',\n",
       "  'motor': 'Motor V8',\n",
       "  'description': 'Ano 2019 - 0 km',\n",
       "  'location': 'Belo Horizonte - MG',\n",
       "  'items': ['Ar condicionado',\n",
       "   'Travas elétricas',\n",
       "   'Sensor de chuva',\n",
       "   'Bancos de couro']},\n",
       " {'value': 'R$ 106.000',\n",
       "  'name': 'CABRIOLET',\n",
       "  'category': 'NOVO',\n",
       "  'opportunity': 'OPORTUNIDADE',\n",
       "  'motor': 'Motor Diesel V6',\n",
       "  'description': 'Ano 2019 - 0 km',\n",
       "  'location': 'Belo Horizonte - MG',\n",
       "  'items': ['Sensor de estacionamento',\n",
       "   'Teto panorâmico',\n",
       "   'Sensor crepuscular',\n",
       "   'Ar condicionado']},\n",
       " {'value': 'R$ 439.000',\n",
       "  'name': 'CHRYSLER 300',\n",
       "  'category': 'USADO',\n",
       "  'motor': 'Motor 2.0 16v',\n",
       "  'description': 'Ano 2009 - 67.480 km',\n",
       "  'location': 'Rio de Janeiro - RJ',\n",
       "  'items': ['Rodas de liga',\n",
       "   'Câmera de estacionamento',\n",
       "   'Sensor crepuscular',\n",
       "   'Travas elétricas']},\n",
       " {'value': 'R$ 143.000',\n",
       "  'name': 'CLASSIC',\n",
       "  'category': 'NOVO',\n",
       "  'motor': 'Motor 4.0 Turbo',\n",
       "  'description': 'Ano 2019 - 0 km',\n",
       "  'location': 'Rio de Janeiro - RJ',\n",
       "  'items': ['Painel digital',\n",
       "   'Teto panorâmico',\n",
       "   'Travas elétricas',\n",
       "   'Sensor de estacionamento']},\n",
       " {'value': 'R$ 155.000',\n",
       "  'name': 'DODGE',\n",
       "  'category': 'USADO',\n",
       "  'motor': 'Motor 2.0 16v',\n",
       "  'description': 'Ano 1999 - 85.451 km',\n",
       "  'location': 'Belo Horizonte - MG',\n",
       "  'items': ['Freios ABS', '4 X 4', 'Sensor de chuva', 'Rodas de liga']},\n",
       " {'value': 'R$ 337.000',\n",
       "  'name': 'VINTAGE AUTOMOBILE',\n",
       "  'category': 'NOVO',\n",
       "  'motor': 'Motor 5.0 V8 Bi-Turbo',\n",
       "  'description': 'Ano 2019 - 0 km',\n",
       "  'location': 'São Paulo - SP',\n",
       "  'items': ['Travas elétricas',\n",
       "   'Câmbio automático',\n",
       "   'Bancos de couro',\n",
       "   'Teto panorâmico']},\n",
       " {'value': 'R$ 89.000',\n",
       "  'name': 'CORVETTE',\n",
       "  'category': 'USADO',\n",
       "  'motor': 'Motor 1.8 16v',\n",
       "  'description': 'Ano 1996 - 107.305 km',\n",
       "  'location': 'Belo Horizonte - MG',\n",
       "  'items': ['Piloto automático',\n",
       "   'Controle de estabilidade',\n",
       "   'Freios ABS',\n",
       "   'Ar condicionado']},\n",
       " {'value': 'R$ 193.000',\n",
       "  'name': 'OPEL',\n",
       "  'category': 'USADO',\n",
       "  'motor': 'Motor 4.0 Turbo',\n",
       "  'description': 'Ano 1997 - 119.942 km',\n",
       "  'location': 'Rio de Janeiro - RJ',\n",
       "  'items': ['Central multimídia',\n",
       "   'Piloto automático',\n",
       "   'Sensor de estacionamento',\n",
       "   'Ar condicionado']},\n",
       " {'value': 'R$ 356.000',\n",
       "  'name': 'AUDI R8',\n",
       "  'category': 'USADO',\n",
       "  'motor': 'Motor 1.8 16v',\n",
       "  'description': 'Ano 1993 - 86.338 km',\n",
       "  'location': 'Belo Horizonte - MG',\n",
       "  'items': ['Painel digital',\n",
       "   'Travas elétricas',\n",
       "   'Vidros elétricos',\n",
       "   '4 X 4']},\n",
       " {'value': 'R$ 141.000',\n",
       "  'name': 'ASTON MARTIN VULCAN',\n",
       "  'category': 'NOVO',\n",
       "  'motor': 'Motor Diesel',\n",
       "  'description': 'Ano 2019 - 0 km',\n",
       "  'location': 'Rio de Janeiro - RJ',\n",
       "  'items': ['Câmbio automático',\n",
       "   'Sensor de chuva',\n",
       "   'Controle de tração',\n",
       "   'Teto panorâmico']},\n",
       " {'value': 'R$ 176.000',\n",
       "  'name': 'TRIUMPH MOTOR COMPANY',\n",
       "  'category': 'NOVO',\n",
       "  'opportunity': 'OPORTUNIDADE',\n",
       "  'motor': 'Motor V6',\n",
       "  'description': 'Ano 2019 - 0 km',\n",
       "  'location': 'Rio de Janeiro - RJ',\n",
       "  'items': ['Central multimídia',\n",
       "   'Ar condicionado',\n",
       "   'Bancos de couro',\n",
       "   'Câmera de estacionamento']},\n",
       " {'value': 'R$ 65.000',\n",
       "  'name': 'VINTAGE CAR',\n",
       "  'category': 'USADO',\n",
       "  'motor': 'Motor V8',\n",
       "  'description': 'Ano 2003 - 59.288 km',\n",
       "  'location': 'Rio de Janeiro - RJ',\n",
       "  'items': ['Freios ABS',\n",
       "   'Piloto automático',\n",
       "   'Sensor de chuva',\n",
       "   'Vidros elétricos']},\n",
       " {'value': 'R$ 449.000',\n",
       "  'name': 'ACURA HEADLAMP',\n",
       "  'category': 'NOVO',\n",
       "  'motor': 'Motor V6',\n",
       "  'description': 'Ano 2019 - 0 km',\n",
       "  'location': 'Belo Horizonte - MG',\n",
       "  'items': ['Câmera de estacionamento',\n",
       "   'Câmbio automático',\n",
       "   'Piloto automático',\n",
       "   'Central multimídia']},\n",
       " {'value': 'R$ 379.000',\n",
       "  'name': 'LUXURY CARS',\n",
       "  'category': 'USADO',\n",
       "  'opportunity': 'OPORTUNIDADE',\n",
       "  'motor': 'Motor Diesel V8',\n",
       "  'description': 'Ano 2014 - 37.738 km',\n",
       "  'location': 'Rio de Janeiro - RJ',\n",
       "  'items': ['Rodas de liga',\n",
       "   'Painel digital',\n",
       "   'Sensor de estacionamento',\n",
       "   'Teto panorâmico']},\n",
       " {'value': 'R$ 262.000',\n",
       "  'name': 'FERRARI 458 SPIDER',\n",
       "  'category': 'USADO',\n",
       "  'motor': 'Motor V6',\n",
       "  'description': 'Ano 1993 - 24.316 km',\n",
       "  'location': 'Belo Horizonte - MG',\n",
       "  'items': ['Central multimídia',\n",
       "   'Controle de estabilidade',\n",
       "   'Piloto automático',\n",
       "   'Sensor de chuva']},\n",
       " {'value': 'R$ 356.000',\n",
       "  'name': 'CLASSIC AUTOMOBILE',\n",
       "  'category': 'USADO',\n",
       "  'motor': 'Motor 3.0 32v',\n",
       "  'description': 'Ano 2016 - 35.762 km',\n",
       "  'location': 'Rio de Janeiro - RJ',\n",
       "  'items': ['Câmbio automático',\n",
       "   'Sensor de estacionamento',\n",
       "   'Bancos de couro',\n",
       "   'Câmera de estacionamento']},\n",
       " {'value': 'R$ 459.000',\n",
       "  'name': 'INFINITY',\n",
       "  'category': 'USADO',\n",
       "  'motor': 'Motor 2.4 Turbo',\n",
       "  'description': 'Ano 1990 - 51.693 km',\n",
       "  'location': 'Rio de Janeiro - RJ',\n",
       "  'items': ['Câmera de estacionamento',\n",
       "   'Piloto automático',\n",
       "   'Ar condicionado',\n",
       "   'Painel digital']},\n",
       " {'value': 'R$ 183.000',\n",
       "  'name': 'ASTON MARTIN VANQUISH',\n",
       "  'category': 'NOVO',\n",
       "  'opportunity': 'OPORTUNIDADE',\n",
       "  'motor': 'Motor 4.0 Turbo',\n",
       "  'description': 'Ano 2019 - 0 km',\n",
       "  'location': 'São Paulo - SP',\n",
       "  'items': ['Painel digital',\n",
       "   'Piloto automático',\n",
       "   'Sensor de estacionamento',\n",
       "   'Sensor crepuscular']},\n",
       " {'value': 'R$ 61.000',\n",
       "  'name': 'MERCEDES BENZ 190 SL',\n",
       "  'category': 'USADO',\n",
       "  'opportunity': 'OPORTUNIDADE',\n",
       "  'motor': 'Motor 3.0 32v',\n",
       "  'description': 'Ano 1994 - 111.906 km',\n",
       "  'location': 'Belo Horizonte - MG',\n",
       "  'items': ['Câmbio automático',\n",
       "   'Freios ABS',\n",
       "   'Sensor crepuscular',\n",
       "   'Controle de estabilidade']},\n",
       " {'value': 'R$ 225.000',\n",
       "  'name': 'AUDI TT',\n",
       "  'category': 'USADO',\n",
       "  'motor': 'Motor Diesel V6',\n",
       "  'description': 'Ano 2008 - 82.711 km',\n",
       "  'location': 'São Paulo - SP',\n",
       "  'items': ['Sensor de chuva',\n",
       "   'Rodas de liga',\n",
       "   'Câmera de estacionamento',\n",
       "   'Travas elétricas']},\n",
       " {'value': 'R$ 181.000',\n",
       "  'name': 'DISTRICT',\n",
       "  'category': 'USADO',\n",
       "  'motor': 'Motor Diesel V6',\n",
       "  'description': 'Ano 1995 - 36.215 km',\n",
       "  'location': 'São Paulo - SP',\n",
       "  'items': ['Sensor de chuva', 'Rodas de liga', 'Piloto automático', '4 X 4']},\n",
       " {'value': 'R$ 460.000',\n",
       "  'name': 'VINTAGE',\n",
       "  'category': 'USADO',\n",
       "  'motor': 'Motor 4.0 Turbo',\n",
       "  'description': 'Ano 2005 - 63.879 km',\n",
       "  'location': 'Rio de Janeiro - RJ',\n",
       "  'items': ['4 X 4',\n",
       "   'Ar condicionado',\n",
       "   'Câmbio automático',\n",
       "   'Controle de estabilidade']},\n",
       " {'value': 'R$ 161.000',\n",
       "  'name': 'AUDI',\n",
       "  'category': 'NOVO',\n",
       "  'motor': 'Motor Diesel V6',\n",
       "  'description': 'Ano 2019 - 0 km',\n",
       "  'location': 'São Paulo - SP',\n",
       "  'items': ['Piloto automático',\n",
       "   'Bancos de couro',\n",
       "   'Painel digital',\n",
       "   'Controle de tração']},\n",
       " {'value': 'R$ 188.000',\n",
       "  'name': 'AUDI RS6',\n",
       "  'category': 'USADO',\n",
       "  'opportunity': 'OPORTUNIDADE',\n",
       "  'motor': 'Motor Diesel V6',\n",
       "  'description': 'Ano 1999 - 26.215 km',\n",
       "  'location': 'Belo Horizonte - MG',\n",
       "  'items': ['Travas elétricas',\n",
       "   'Central multimídia',\n",
       "   'Vidros elétricos',\n",
       "   'Ar condicionado']},\n",
       " {'value': 'R$ 97.000',\n",
       "  'name': 'FERRARI 458 SPECIALE',\n",
       "  'category': 'USADO',\n",
       "  'motor': 'Motor Diesel V6',\n",
       "  'description': 'Ano 2018 - 1 km',\n",
       "  'location': 'São Paulo - SP',\n",
       "  'items': ['Freios ABS',\n",
       "   'Controle de estabilidade',\n",
       "   'Painel digital',\n",
       "   'Ar condicionado']},\n",
       " {'value': 'R$ 415.000',\n",
       "  'name': 'TRUCK',\n",
       "  'category': 'USADO',\n",
       "  'motor': 'Motor 4.0 Turbo',\n",
       "  'description': 'Ano 2001 - 68.038 km',\n",
       "  'location': 'Belo Horizonte - MG',\n",
       "  'items': ['Rodas de liga',\n",
       "   'Sensor de estacionamento',\n",
       "   'Vidros elétricos',\n",
       "   'Câmbio automático']},\n",
       " {'value': 'R$ 172.000',\n",
       "  'name': 'CORVETTE STINGRAY',\n",
       "  'category': 'USADO',\n",
       "  'motor': 'Motor 1.8 16v',\n",
       "  'description': 'Ano 1996 - 86.477 km',\n",
       "  'location': 'São Paulo - SP',\n",
       "  'items': ['Câmbio automático',\n",
       "   'Controle de estabilidade',\n",
       "   'Sensor de estacionamento',\n",
       "   'Ar condicionado']},\n",
       " {'value': 'R$ 281.000',\n",
       "  'name': 'LAMBORGHINI',\n",
       "  'category': 'USADO',\n",
       "  'motor': 'Motor 3.0 32v',\n",
       "  'description': 'Ano 2004 - 103.570 km',\n",
       "  'location': 'Rio de Janeiro - RJ',\n",
       "  'items': ['Vidros elétricos',\n",
       "   'Câmbio automático',\n",
       "   'Piloto automático',\n",
       "   'Teto panorâmico']},\n",
       " {'value': 'R$ 396.000',\n",
       "  'name': 'CHRYSLER',\n",
       "  'category': 'NOVO',\n",
       "  'motor': 'Motor 3.0 32v',\n",
       "  'description': 'Ano 2019 - 0 km',\n",
       "  'location': 'São Paulo - SP',\n",
       "  'items': ['4 X 4',\n",
       "   'Ar condicionado',\n",
       "   'Câmera de estacionamento',\n",
       "   'Sensor de estacionamento']},\n",
       " {'value': 'R$ 450.000',\n",
       "  'name': 'RANGE ROVER',\n",
       "  'category': 'USADO',\n",
       "  'motor': 'Motor V6',\n",
       "  'description': 'Ano 2014 - 85.686 km',\n",
       "  'location': 'São Paulo - SP',\n",
       "  'items': ['Sensor de chuva',\n",
       "   'Ar condicionado',\n",
       "   'Painel digital',\n",
       "   'Teto panorâmico']},\n",
       " {'value': 'R$ 470.000',\n",
       "  'name': 'HAMMER',\n",
       "  'category': 'NOVO',\n",
       "  'motor': 'Motor Diesel V8',\n",
       "  'description': 'Ano 2019 - 0 km',\n",
       "  'location': 'Belo Horizonte - MG',\n",
       "  'items': ['Bancos de couro',\n",
       "   'Travas elétricas',\n",
       "   'Sensor de estacionamento',\n",
       "   'Controle de tração']},\n",
       " {'value': 'R$ 64.000',\n",
       "  'name': 'FELICIA',\n",
       "  'category': 'USADO',\n",
       "  'motor': 'Motor 2.0 16v',\n",
       "  'description': 'Ano 1990 - 68.513 km',\n",
       "  'location': 'Belo Horizonte - MG',\n",
       "  'items': ['Central multimídia',\n",
       "   'Painel digital',\n",
       "   'Ar condicionado',\n",
       "   '4 X 4']},\n",
       " {'value': 'R$ 343.000',\n",
       "  'name': 'MASERATI GRANTURISMO',\n",
       "  'category': 'USADO',\n",
       "  'motor': 'Motor 5.0 V8 Bi-Turbo',\n",
       "  'description': 'Ano 2011 - 71.783 km',\n",
       "  'location': 'São Paulo - SP',\n",
       "  'items': ['Piloto automático',\n",
       "   'Bancos de couro',\n",
       "   '4 X 4',\n",
       "   'Sensor crepuscular']},\n",
       " {'value': 'R$ 106.000',\n",
       "  'name': 'LAMBORGHINI AVENTADOR S',\n",
       "  'category': 'USADO',\n",
       "  'motor': 'Motor Diesel V8',\n",
       "  'description': 'Ano 2017 - 115.844 km',\n",
       "  'location': 'São Paulo - SP',\n",
       "  'items': ['Câmera de estacionamento',\n",
       "   'Sensor de estacionamento',\n",
       "   'Central multimídia',\n",
       "   'Teto panorâmico']},\n",
       " {'value': 'R$ 493.000',\n",
       "  'name': 'BENTLEY',\n",
       "  'category': 'USADO',\n",
       "  'motor': 'Motor V6',\n",
       "  'description': 'Ano 1994 - 46.442 km',\n",
       "  'location': 'Belo Horizonte - MG',\n",
       "  'items': ['Vidros elétricos',\n",
       "   'Piloto automático',\n",
       "   'Sensor crepuscular',\n",
       "   '4 X 4']},\n",
       " {'value': 'R$ 370.000',\n",
       "  'name': 'ASTON',\n",
       "  'category': 'NOVO',\n",
       "  'motor': 'Motor 2.4 Turbo',\n",
       "  'description': 'Ano 2019 - 0 km',\n",
       "  'location': 'São Paulo - SP',\n",
       "  'items': ['Painel digital',\n",
       "   'Piloto automático',\n",
       "   'Freios ABS',\n",
       "   'Controle de estabilidade']},\n",
       " {'value': 'R$ 474.000',\n",
       "  'name': 'LAMBORGHINI GALLARDO',\n",
       "  'category': 'USADO',\n",
       "  'motor': 'Motor 5.0 V8 Bi-Turbo',\n",
       "  'description': 'Ano 1993 - 77.846 km',\n",
       "  'location': 'São Paulo - SP',\n",
       "  'items': ['4 X 4',\n",
       "   'Painel digital',\n",
       "   'Travas elétricas',\n",
       "   'Sensor crepuscular']},\n",
       " {'value': 'R$ 420.000',\n",
       "  'name': 'BMW 1M',\n",
       "  'category': 'USADO',\n",
       "  'motor': 'Motor 1.0 8v',\n",
       "  'description': 'Ano 2014 - 28.833 km',\n",
       "  'location': 'Belo Horizonte - MG',\n",
       "  'items': ['Sensor crepuscular',\n",
       "   'Sensor de chuva',\n",
       "   'Piloto automático',\n",
       "   'Câmera de estacionamento']},\n",
       " {'value': 'R$ 215.000',\n",
       "  'name': 'MERCEDES S CLASS',\n",
       "  'category': 'NOVO',\n",
       "  'motor': 'Motor 2.4 Turbo',\n",
       "  'description': 'Ano 2019 - 0 km',\n",
       "  'location': 'São Paulo - SP',\n",
       "  'items': ['Central multimídia',\n",
       "   'Câmera de estacionamento',\n",
       "   'Sensor de estacionamento',\n",
       "   'Painel digital']},\n",
       " {'value': 'R$ 236.000',\n",
       "  'name': 'VINTAGE AUTO',\n",
       "  'category': 'USADO',\n",
       "  'motor': 'Motor 5.0 V8 Bi-Turbo',\n",
       "  'description': 'Ano 2014 - 59.723 km',\n",
       "  'location': 'Belo Horizonte - MG',\n",
       "  'items': ['Freios ABS',\n",
       "   'Piloto automático',\n",
       "   'Controle de estabilidade',\n",
       "   'Sensor crepuscular']},\n",
       " {'value': 'R$ 124.000',\n",
       "  'name': 'LEATHER STEERING WHEEL',\n",
       "  'category': 'USADO',\n",
       "  'opportunity': 'OPORTUNIDADE',\n",
       "  'motor': 'Motor V6',\n",
       "  'description': 'Ano 2001 - 74.365 km',\n",
       "  'location': 'Rio de Janeiro - RJ',\n",
       "  'items': ['Controle de tração',\n",
       "   '4 X 4',\n",
       "   'Câmera de estacionamento',\n",
       "   'Controle de estabilidade']},\n",
       " {'value': 'R$ 125.000',\n",
       "  'name': 'DKW',\n",
       "  'category': 'USADO',\n",
       "  'motor': 'Motor 2.0 16v',\n",
       "  'description': 'Ano 1994 - 112.727 km',\n",
       "  'location': 'São Paulo - SP',\n",
       "  'items': ['Controle de tração',\n",
       "   'Travas elétricas',\n",
       "   'Controle de estabilidade',\n",
       "   'Sensor crepuscular']},\n",
       " {'value': 'R$ 151.000',\n",
       "  'name': 'FERRARI',\n",
       "  'category': 'USADO',\n",
       "  'motor': 'Motor 1.8 16v',\n",
       "  'description': 'Ano 2011 - 111.255 km',\n",
       "  'location': 'Rio de Janeiro - RJ',\n",
       "  'items': ['4 X 4',\n",
       "   'Controle de tração',\n",
       "   'Travas elétricas',\n",
       "   'Teto panorâmico']},\n",
       " {'value': 'R$ 351.000',\n",
       "  'name': 'BMW M3',\n",
       "  'category': 'USADO',\n",
       "  'motor': 'Motor Diesel V8',\n",
       "  'description': 'Ano 2000 - 21.968 km',\n",
       "  'location': 'Rio de Janeiro - RJ',\n",
       "  'items': ['Teto panorâmico',\n",
       "   'Sensor de chuva',\n",
       "   'Ar condicionado',\n",
       "   'Câmera de estacionamento']},\n",
       " {'value': 'R$ 223.000',\n",
       "  'name': 'TUNING',\n",
       "  'category': 'NOVO',\n",
       "  'motor': 'Motor Diesel V6',\n",
       "  'description': 'Ano 2019 - 0 km',\n",
       "  'location': 'São Paulo - SP',\n",
       "  'items': ['Câmbio automático',\n",
       "   'Ar condicionado',\n",
       "   'Bancos de couro',\n",
       "   'Controle de tração']},\n",
       " {'value': 'R$ 79.000',\n",
       "  'name': 'LINCOLN MKZ',\n",
       "  'category': 'NOVO',\n",
       "  'motor': 'Motor Diesel V6',\n",
       "  'description': 'Ano 2019 - 0 km',\n",
       "  'location': 'São Paulo - SP',\n",
       "  'items': ['Bancos de couro',\n",
       "   'Sensor de chuva',\n",
       "   'Sensor de estacionamento',\n",
       "   'Freios ABS']},\n",
       " {'value': 'R$ 252.000',\n",
       "  'name': 'MASERATI LEVANTE',\n",
       "  'category': 'NOVO',\n",
       "  'motor': 'Motor V8',\n",
       "  'description': 'Ano 2019 - 0 km',\n",
       "  'location': 'São Paulo - SP',\n",
       "  'items': ['Controle de tração',\n",
       "   'Sensor de estacionamento',\n",
       "   'Freios ABS',\n",
       "   'Painel digital']},\n",
       " {'value': 'R$ 357.000',\n",
       "  'name': 'ROLLSROYCE',\n",
       "  'category': 'USADO',\n",
       "  'motor': 'Motor 4.0 Turbo',\n",
       "  'description': 'Ano 1991 - 5.947 km',\n",
       "  'location': 'Belo Horizonte - MG',\n",
       "  'items': ['Central multimídia',\n",
       "   'Piloto automático',\n",
       "   'Controle de estabilidade',\n",
       "   'Câmbio automático']},\n",
       " {'value': 'R$ 396.000',\n",
       "  'name': 'MERCEDES BENZ',\n",
       "  'category': 'NOVO',\n",
       "  'motor': 'Motor Diesel V6',\n",
       "  'description': 'Ano 2019 - 0 km',\n",
       "  'location': 'São Paulo - SP',\n",
       "  'items': ['Vidros elétricos',\n",
       "   'Controle de tração',\n",
       "   'Painel digital',\n",
       "   'Rodas de liga']},\n",
       " {'value': 'R$ 460.000',\n",
       "  'name': 'MORGAN ROADSTER',\n",
       "  'category': 'USADO',\n",
       "  'motor': 'Motor 2.0 16v',\n",
       "  'description': 'Ano 1999 - 102.662 km',\n",
       "  'location': 'São Paulo - SP',\n",
       "  'items': ['Ar condicionado',\n",
       "   'Travas elétricas',\n",
       "   'Controle de tração',\n",
       "   'Freios ABS']},\n",
       " {'value': 'R$ 72.000',\n",
       "  'name': 'TOYOTA LAND CRUISER',\n",
       "  'category': 'USADO',\n",
       "  'motor': 'Motor 2.0 16v',\n",
       "  'description': 'Ano 1990 - 46.571 km',\n",
       "  'location': 'São Paulo - SP',\n",
       "  'items': ['Rodas de liga',\n",
       "   '4 X 4',\n",
       "   'Travas elétricas',\n",
       "   'Câmera de estacionamento']},\n",
       " {'value': 'R$ 422.000',\n",
       "  'name': 'MERCEDES BENZ 300 SL',\n",
       "  'category': 'NOVO',\n",
       "  'motor': 'Motor V8',\n",
       "  'description': 'Ano 2019 - 0 km',\n",
       "  'location': 'Rio de Janeiro - RJ',\n",
       "  'items': ['Painel digital',\n",
       "   'Vidros elétricos',\n",
       "   'Teto panorâmico',\n",
       "   'Sensor crepuscular']},\n",
       " {'value': 'R$ 399.000',\n",
       "  'name': 'CASABLANCA',\n",
       "  'category': 'USADO',\n",
       "  'motor': 'Motor 5.0 V8 Bi-Turbo',\n",
       "  'description': 'Ano 2003 - 9.912 km',\n",
       "  'location': 'Belo Horizonte - MG',\n",
       "  'items': ['Ar condicionado',\n",
       "   'Freios ABS',\n",
       "   'Câmera de estacionamento',\n",
       "   'Vidros elétricos']},\n",
       " {'value': 'R$ 455.000',\n",
       "  'name': 'BUGATTI',\n",
       "  'category': 'USADO',\n",
       "  'motor': 'Motor 1.0 8v',\n",
       "  'description': 'Ano 1993 - 81.154 km',\n",
       "  'location': 'Rio de Janeiro - RJ',\n",
       "  'items': ['Freios ABS',\n",
       "   'Painel digital',\n",
       "   'Controle de estabilidade',\n",
       "   'Controle de tração']},\n",
       " {'value': 'R$ 173.000',\n",
       "  'name': 'PORSCHE CARRERA GT',\n",
       "  'category': 'NOVO',\n",
       "  'motor': 'Motor 3.0 32v',\n",
       "  'description': 'Ano 2019 - 0 km',\n",
       "  'location': 'Belo Horizonte - MG',\n",
       "  'items': ['Sensor de estacionamento',\n",
       "   'Vidros elétricos',\n",
       "   'Piloto automático',\n",
       "   'Painel digital']},\n",
       " {'value': 'R$ 340.000',\n",
       "  'name': 'BLACK AND WHITE',\n",
       "  'category': 'USADO',\n",
       "  'motor': 'Motor 2.0 16v',\n",
       "  'description': 'Ano 2005 - 86.899 km',\n",
       "  'location': 'Belo Horizonte - MG',\n",
       "  'items': ['Painel digital',\n",
       "   'Teto panorâmico',\n",
       "   'Sensor crepuscular',\n",
       "   'Rodas de liga']},\n",
       " {'value': 'R$ 443.000',\n",
       "  'name': 'BMW I8',\n",
       "  'category': 'USADO',\n",
       "  'motor': 'Motor 3.0 32v',\n",
       "  'description': 'Ano 1994 - 112.579 km',\n",
       "  'location': 'Rio de Janeiro - RJ',\n",
       "  'items': ['Freios ABS', 'Ar condicionado', '4 X 4', 'Teto panorâmico']},\n",
       " {'value': 'R$ 383.000',\n",
       "  'name': 'SUBARU',\n",
       "  'category': 'USADO',\n",
       "  'motor': 'Motor Diesel',\n",
       "  'description': 'Ano 1995 - 48.416 km',\n",
       "  'location': 'São Paulo - SP',\n",
       "  'items': ['Sensor de chuva', 'Freios ABS', '4 X 4', 'Teto panorâmico']},\n",
       " {'value': 'R$ 287.000',\n",
       "  'name': 'AMAZING',\n",
       "  'category': 'USADO',\n",
       "  'motor': 'Motor 4.0 Turbo',\n",
       "  'description': 'Ano 2015 - 111.613 km',\n",
       "  'location': 'Rio de Janeiro - RJ',\n",
       "  'items': ['Controle de estabilidade',\n",
       "   'Central multimídia',\n",
       "   'Câmera de estacionamento',\n",
       "   'Câmbio automático']},\n",
       " {'value': 'R$ 350.000',\n",
       "  'name': 'AUSTIN HEALEY',\n",
       "  'category': 'USADO',\n",
       "  'opportunity': 'OPORTUNIDADE',\n",
       "  'motor': 'Motor Diesel',\n",
       "  'description': 'Ano 2003 - 15.810 km',\n",
       "  'location': 'Belo Horizonte - MG',\n",
       "  'items': ['Sensor de estacionamento',\n",
       "   'Teto panorâmico',\n",
       "   'Controle de estabilidade',\n",
       "   'Câmbio automático']},\n",
       " {'value': 'R$ 276.000',\n",
       "  'name': 'FORD',\n",
       "  'category': 'USADO',\n",
       "  'motor': 'Motor V8',\n",
       "  'description': 'Ano 1995 - 115.874 km',\n",
       "  'location': 'São Paulo - SP',\n",
       "  'items': ['Travas elétricas',\n",
       "   'Câmbio automático',\n",
       "   'Central multimídia',\n",
       "   '4 X 4']},\n",
       " {'value': 'R$ 163.000',\n",
       "  'name': 'ROLLS ROYCE WRAITH',\n",
       "  'category': 'USADO',\n",
       "  'motor': 'Motor Diesel',\n",
       "  'description': 'Ano 2010 - 99.918 km',\n",
       "  'location': 'São Paulo - SP',\n",
       "  'items': ['Freios ABS',\n",
       "   'Controle de estabilidade',\n",
       "   'Painel digital',\n",
       "   'Câmbio automático']},\n",
       " {'value': 'R$ 107.000',\n",
       "  'name': 'MERCEDES E63',\n",
       "  'category': 'NOVO',\n",
       "  'opportunity': 'OPORTUNIDADE',\n",
       "  'motor': 'Motor 5.0 V8 Bi-Turbo',\n",
       "  'description': 'Ano 2019 - 0 km',\n",
       "  'location': 'Rio de Janeiro - RJ',\n",
       "  'items': ['Sensor de chuva',\n",
       "   'Central multimídia',\n",
       "   'Ar condicionado',\n",
       "   'Controle de estabilidade']},\n",
       " {'value': 'R$ 173.000',\n",
       "  'name': 'MCLAREN MP4 12C',\n",
       "  'category': 'NOVO',\n",
       "  'opportunity': 'OPORTUNIDADE',\n",
       "  'motor': 'Motor Diesel V6',\n",
       "  'description': 'Ano 2019 - 0 km',\n",
       "  'location': 'Belo Horizonte - MG',\n",
       "  'items': ['Sensor de estacionamento',\n",
       "   'Central multimídia',\n",
       "   'Sensor crepuscular',\n",
       "   'Piloto automático']},\n",
       " {'value': 'R$ 150.000',\n",
       "  'name': 'VWBEETLE',\n",
       "  'category': 'USADO',\n",
       "  'motor': 'Motor Diesel V8',\n",
       "  'description': 'Ano 1992 - 108.055 km',\n",
       "  'location': 'Rio de Janeiro - RJ',\n",
       "  'items': ['4 X 4',\n",
       "   'Teto panorâmico',\n",
       "   'Travas elétricas',\n",
       "   'Câmbio automático']},\n",
       " {'value': 'R$ 305.000',\n",
       "  'name': 'FERRARI 360',\n",
       "  'category': 'USADO',\n",
       "  'motor': 'Motor 5.0 V8 Bi-Turbo',\n",
       "  'description': 'Ano 1991 - 106.251 km',\n",
       "  'location': 'Belo Horizonte - MG',\n",
       "  'items': ['Vidros elétricos',\n",
       "   'Rodas de liga',\n",
       "   'Travas elétricas',\n",
       "   'Sensor de chuva']},\n",
       " {'value': 'R$ 220.000',\n",
       "  'name': 'CITROEN',\n",
       "  'category': 'USADO',\n",
       "  'motor': 'Motor 1.8 16v',\n",
       "  'description': 'Ano 1995 - 13.433 km',\n",
       "  'location': 'São Paulo - SP',\n",
       "  'items': ['Piloto automático',\n",
       "   'Central multimídia',\n",
       "   'Câmera de estacionamento',\n",
       "   'Travas elétricas']},\n",
       " {'value': 'R$ 176.000',\n",
       "  'name': 'FERRARI 458',\n",
       "  'category': 'USADO',\n",
       "  'motor': 'Motor 3.0 32v',\n",
       "  'description': 'Ano 2000 - 75.458 km',\n",
       "  'location': 'Belo Horizonte - MG',\n",
       "  'items': ['Controle de estabilidade',\n",
       "   'Câmbio automático',\n",
       "   'Painel digital',\n",
       "   'Bancos de couro']},\n",
       " {'value': 'R$ 201.000',\n",
       "  'name': 'OLDTIMERS',\n",
       "  'category': 'USADO',\n",
       "  'motor': 'Motor Diesel',\n",
       "  'description': 'Ano 2015 - 41.735 km',\n",
       "  'location': 'Belo Horizonte - MG',\n",
       "  'items': ['Vidros elétricos',\n",
       "   'Ar condicionado',\n",
       "   'Controle de estabilidade',\n",
       "   'Sensor crepuscular']},\n",
       " {'value': 'R$ 384.000',\n",
       "  'name': 'CAR PARTS WHITE',\n",
       "  'category': 'USADO',\n",
       "  'motor': 'Motor 1.8 16v',\n",
       "  'description': 'Ano 2003 - 51.348 km',\n",
       "  'location': 'Rio de Janeiro - RJ',\n",
       "  'items': ['Controle de estabilidade',\n",
       "   'Câmera de estacionamento',\n",
       "   'Câmbio automático',\n",
       "   'Ar condicionado']},\n",
       " {'value': 'R$ 111.000',\n",
       "  'name': 'GOODYEAR',\n",
       "  'category': 'NOVO',\n",
       "  'motor': 'Motor 5.0 V8 Bi-Turbo',\n",
       "  'description': 'Ano 2019 - 0 km',\n",
       "  'location': 'Rio de Janeiro - RJ',\n",
       "  'items': ['Freios ABS',\n",
       "   'Controle de tração',\n",
       "   'Teto panorâmico',\n",
       "   'Controle de estabilidade']},\n",
       " {'value': 'R$ 146.000',\n",
       "  'name': 'AFTERFX CUSTOM JEEP',\n",
       "  'category': 'USADO',\n",
       "  'motor': 'Motor Diesel',\n",
       "  'description': 'Ano 2017 - 68.014 km',\n",
       "  'location': 'São Paulo - SP',\n",
       "  'items': ['Controle de tração',\n",
       "   'Travas elétricas',\n",
       "   '4 X 4',\n",
       "   'Vidros elétricos']},\n",
       " {'value': 'R$ 319.000',\n",
       "  'name': 'WHITE LUXURY CAR',\n",
       "  'category': 'USADO',\n",
       "  'motor': 'Motor 2.4 Turbo',\n",
       "  'description': 'Ano 1993 - 52.282 km',\n",
       "  'location': 'Rio de Janeiro - RJ',\n",
       "  'items': ['Controle de tração',\n",
       "   'Ar condicionado',\n",
       "   'Freios ABS',\n",
       "   'Câmbio automático']},\n",
       " {'value': 'R$ 86.000',\n",
       "  'name': 'LEXUS BREAK LIGHT',\n",
       "  'category': 'USADO',\n",
       "  'motor': 'Motor 2.4 Turbo',\n",
       "  'description': 'Ano 2016 - 100.617 km',\n",
       "  'location': 'São Paulo - SP',\n",
       "  'items': ['Rodas de liga',\n",
       "   'Freios ABS',\n",
       "   'Câmera de estacionamento',\n",
       "   '4 X 4']},\n",
       " {'value': 'R$ 188.000',\n",
       "  'name': 'FERRARI CALIFORNIA',\n",
       "  'category': 'NOVO',\n",
       "  'motor': 'Motor V6',\n",
       "  'description': 'Ano 2019 - 0 km',\n",
       "  'location': 'Rio de Janeiro - RJ',\n",
       "  'items': ['Câmera de estacionamento',\n",
       "   'Rodas de liga',\n",
       "   'Controle de estabilidade',\n",
       "   'Sensor de estacionamento']},\n",
       " {'value': 'R$ 467.000',\n",
       "  'name': 'MERC',\n",
       "  'category': 'NOVO',\n",
       "  'motor': 'Motor V6',\n",
       "  'description': 'Ano 2019 - 0 km',\n",
       "  'location': 'Rio de Janeiro - RJ',\n",
       "  'items': ['Ar condicionado',\n",
       "   '4 X 4',\n",
       "   'Painel digital',\n",
       "   'Piloto automático']},\n",
       " {'value': 'R$ 69.000',\n",
       "  'name': 'LEXUS IS F',\n",
       "  'category': 'USADO',\n",
       "  'opportunity': 'OPORTUNIDADE',\n",
       "  'motor': 'Motor V8',\n",
       "  'description': 'Ano 2013 - 79.881 km',\n",
       "  'location': 'São Paulo - SP',\n",
       "  'items': ['Teto panorâmico',\n",
       "   '4 X 4',\n",
       "   'Travas elétricas',\n",
       "   'Sensor de chuva']},\n",
       " {'value': 'R$ 230.000',\n",
       "  'name': 'FORD MUSTANG',\n",
       "  'category': 'NOVO',\n",
       "  'opportunity': 'OPORTUNIDADE',\n",
       "  'motor': 'Motor 1.0 8v',\n",
       "  'description': 'Ano 2019 - 0 km',\n",
       "  'location': 'Rio de Janeiro - RJ',\n",
       "  'items': ['Controle de tração',\n",
       "   '4 X 4',\n",
       "   'Vidros elétricos',\n",
       "   'Ar condicionado']},\n",
       " {'value': 'R$ 463.000',\n",
       "  'name': 'PAGANI HUAYRA',\n",
       "  'category': 'NOVO',\n",
       "  'motor': 'Motor Diesel V8',\n",
       "  'description': 'Ano 2019 - 0 km',\n",
       "  'location': 'São Paulo - SP',\n",
       "  'items': ['Câmbio automático',\n",
       "   'Freios ABS',\n",
       "   'Sensor de chuva',\n",
       "   'Sensor crepuscular']},\n",
       " {'value': 'R$ 440.000',\n",
       "  'name': 'FIAT',\n",
       "  'category': 'USADO',\n",
       "  'motor': 'Motor V6',\n",
       "  'description': 'Ano 2003 - 90.354 km',\n",
       "  'location': 'São Paulo - SP',\n",
       "  'items': ['Sensor crepuscular',\n",
       "   'Piloto automático',\n",
       "   'Câmera de estacionamento',\n",
       "   'Painel digital']},\n",
       " {'value': 'R$ 58.000',\n",
       "  'name': 'HOUSTON',\n",
       "  'category': 'USADO',\n",
       "  'motor': 'Motor V8',\n",
       "  'description': 'Ano 1995 - 48.876 km',\n",
       "  'location': 'Rio de Janeiro - RJ',\n",
       "  'items': ['4 X 4',\n",
       "   'Rodas de liga',\n",
       "   'Teto panorâmico',\n",
       "   'Controle de tração']},\n",
       " {'value': 'R$ 475.000',\n",
       "  'name': 'LEXUS',\n",
       "  'category': 'USADO',\n",
       "  'opportunity': 'OPORTUNIDADE',\n",
       "  'motor': 'Motor Diesel V6',\n",
       "  'description': 'Ano 2006 - 43.186 km',\n",
       "  'location': 'Belo Horizonte - MG',\n",
       "  'items': ['Sensor crepuscular',\n",
       "   'Bancos de couro',\n",
       "   'Piloto automático',\n",
       "   'Freios ABS']},\n",
       " {'value': 'R$ 133.000',\n",
       "  'name': 'SPAIN',\n",
       "  'category': 'USADO',\n",
       "  'opportunity': 'OPORTUNIDADE',\n",
       "  'motor': 'Motor 1.0 8v',\n",
       "  'description': 'Ano 2007 - 66.296 km',\n",
       "  'location': 'São Paulo - SP',\n",
       "  'items': ['Central multimídia',\n",
       "   'Freios ABS',\n",
       "   'Sensor de chuva',\n",
       "   'Controle de estabilidade']},\n",
       " {'value': 'R$ 322.000',\n",
       "  'name': 'BORGWARD',\n",
       "  'category': 'NOVO',\n",
       "  'motor': 'Motor 5.0 V8 Bi-Turbo',\n",
       "  'description': 'Ano 2019 - 0 km',\n",
       "  'location': 'São Paulo - SP',\n",
       "  'items': ['Vidros elétricos',\n",
       "   'Controle de estabilidade',\n",
       "   'Piloto automático',\n",
       "   'Sensor crepuscular']},\n",
       " {'value': 'R$ 138.000',\n",
       "  'name': 'SPOKES',\n",
       "  'category': 'USADO',\n",
       "  'motor': 'Motor 4.0 Turbo',\n",
       "  'description': 'Ano 2016 - 72.469 km',\n",
       "  'location': 'Belo Horizonte - MG',\n",
       "  'items': ['Câmbio automático',\n",
       "   'Freios ABS',\n",
       "   'Travas elétricas',\n",
       "   'Controle de tração']},\n",
       " {'value': 'R$ 413.000',\n",
       "  'name': 'MUSCLE CAR',\n",
       "  'category': 'USADO',\n",
       "  'motor': 'Motor Diesel V8',\n",
       "  'description': 'Ano 1991 - 107.498 km',\n",
       "  'location': 'São Paulo - SP',\n",
       "  'items': ['Sensor de chuva',\n",
       "   'Teto panorâmico',\n",
       "   'Freios ABS',\n",
       "   'Controle de estabilidade']},\n",
       " {'value': 'R$ 483.000',\n",
       "  'name': 'MCLAREN 650S',\n",
       "  'category': 'USADO',\n",
       "  'motor': 'Motor 4.0 Turbo',\n",
       "  'description': 'Ano 1996 - 76.244 km',\n",
       "  'location': 'Rio de Janeiro - RJ',\n",
       "  'items': ['Rodas de liga',\n",
       "   'Freios ABS',\n",
       "   'Controle de tração',\n",
       "   'Sensor de estacionamento']},\n",
       " {'value': 'R$ 223.000',\n",
       "  'name': 'SPYKER C8',\n",
       "  'category': 'USADO',\n",
       "  'motor': 'Motor 2.4 Turbo',\n",
       "  'description': 'Ano 2001 - 22.527 km',\n",
       "  'location': 'São Paulo - SP',\n",
       "  'items': ['Bancos de couro',\n",
       "   'Câmbio automático',\n",
       "   'Travas elétricas',\n",
       "   'Teto panorâmico']},\n",
       " {'value': 'R$ 126.000',\n",
       "  'name': 'BOXSTER',\n",
       "  'category': 'USADO',\n",
       "  'motor': 'Motor Diesel V6',\n",
       "  'description': 'Ano 2005 - 66.836 km',\n",
       "  'location': 'São Paulo - SP',\n",
       "  'items': ['4 X 4',\n",
       "   'Câmbio automático',\n",
       "   'Painel digital',\n",
       "   'Piloto automático']},\n",
       " {'value': 'R$ 354.000',\n",
       "  'name': 'ASTON MARTIN SHOOTING BRAKE ZAGATO',\n",
       "  'category': 'USADO',\n",
       "  'motor': 'Motor Diesel V8',\n",
       "  'description': 'Ano 2007 - 22.225 km',\n",
       "  'location': 'Belo Horizonte - MG',\n",
       "  'items': ['Teto panorâmico',\n",
       "   'Controle de estabilidade',\n",
       "   'Sensor de chuva',\n",
       "   'Sensor crepuscular']},\n",
       " {'value': 'R$ 132.000',\n",
       "  'name': 'PORSCHE 911',\n",
       "  'category': 'USADO',\n",
       "  'motor': 'Motor V8',\n",
       "  'description': 'Ano 2007 - 97.778 km',\n",
       "  'location': 'Rio de Janeiro - RJ',\n",
       "  'items': ['Central multimídia',\n",
       "   '4 X 4',\n",
       "   'Bancos de couro',\n",
       "   'Controle de estabilidade']},\n",
       " {'value': 'R$ 201.000',\n",
       "  'name': 'ASTON MARTIN DB11',\n",
       "  'category': 'USADO',\n",
       "  'motor': 'Motor 1.0 8v',\n",
       "  'description': 'Ano 1995 - 95.124 km',\n",
       "  'location': 'São Paulo - SP',\n",
       "  'items': ['Central multimídia',\n",
       "   'Bancos de couro',\n",
       "   'Sensor crepuscular',\n",
       "   'Sensor de estacionamento']},\n",
       " {'value': 'R$ 58.000',\n",
       "  'name': 'KAHULUI',\n",
       "  'category': 'NOVO',\n",
       "  'motor': 'Motor V8',\n",
       "  'description': 'Ano 2019 - 0 km',\n",
       "  'location': 'São Paulo - SP',\n",
       "  'items': ['Rodas de liga',\n",
       "   'Teto panorâmico',\n",
       "   'Sensor de chuva',\n",
       "   'Painel digital']},\n",
       " {'value': 'R$ 159.000',\n",
       "  'name': 'DAIMLER',\n",
       "  'category': 'USADO',\n",
       "  'motor': 'Motor Diesel',\n",
       "  'description': 'Ano 1997 - 76.354 km',\n",
       "  'location': 'Belo Horizonte - MG',\n",
       "  'items': ['Piloto automático',\n",
       "   'Câmera de estacionamento',\n",
       "   'Câmbio automático',\n",
       "   'Sensor crepuscular']},\n",
       " {'value': 'R$ 167.000',\n",
       "  'name': 'RED CAR',\n",
       "  'category': 'USADO',\n",
       "  'motor': 'Motor 1.0 8v',\n",
       "  'description': 'Ano 1993 - 11.015 km',\n",
       "  'location': 'Rio de Janeiro - RJ',\n",
       "  'items': ['Sensor de estacionamento',\n",
       "   'Bancos de couro',\n",
       "   'Sensor de chuva',\n",
       "   'Teto panorâmico']},\n",
       " {'value': 'R$ 249.000',\n",
       "  'name': 'PORSCHE',\n",
       "  'category': 'USADO',\n",
       "  'motor': 'Motor 3.0 32v',\n",
       "  'description': 'Ano 1990 - 9.856 km',\n",
       "  'location': 'Belo Horizonte - MG',\n",
       "  'items': ['Controle de estabilidade',\n",
       "   'Teto panorâmico',\n",
       "   'Freios ABS',\n",
       "   '4 X 4']},\n",
       " {'value': 'R$ 402.000',\n",
       "  'name': 'ASPHALT',\n",
       "  'category': 'NOVO',\n",
       "  'motor': 'Motor 2.0 16v',\n",
       "  'description': 'Ano 2019 - 0 km',\n",
       "  'location': 'Rio de Janeiro - RJ',\n",
       "  'items': ['Rodas de liga',\n",
       "   'Freios ABS',\n",
       "   'Controle de tração',\n",
       "   'Bancos de couro']},\n",
       " {'value': 'R$ 393.000',\n",
       "  'name': 'ASTON MARTIN VANTAGE',\n",
       "  'category': 'USADO',\n",
       "  'opportunity': 'OPORTUNIDADE',\n",
       "  'motor': 'Motor 1.8 16v',\n",
       "  'description': 'Ano 2018 - 76.558 km',\n",
       "  'location': 'Rio de Janeiro - RJ',\n",
       "  'items': ['Painel digital',\n",
       "   'Freios ABS',\n",
       "   'Controle de estabilidade',\n",
       "   'Sensor de chuva']},\n",
       " {'value': 'R$ 332.000',\n",
       "  'name': 'PORSCHE TURBO',\n",
       "  'category': 'USADO',\n",
       "  'motor': 'Motor 1.0 8v',\n",
       "  'description': 'Ano 1993 - 23.418 km',\n",
       "  'location': 'Rio de Janeiro - RJ',\n",
       "  'items': ['Travas elétricas',\n",
       "   'Sensor de chuva',\n",
       "   'Piloto automático',\n",
       "   '4 X 4']},\n",
       " {'value': 'R$ 472.000',\n",
       "  'name': 'REO',\n",
       "  'category': 'NOVO',\n",
       "  'motor': 'Motor 1.8 16v',\n",
       "  'description': 'Ano 2019 - 0 km',\n",
       "  'location': 'Belo Horizonte - MG',\n",
       "  'items': ['Sensor de estacionamento',\n",
       "   'Painel digital',\n",
       "   'Bancos de couro',\n",
       "   'Sensor de chuva']},\n",
       " {'value': 'R$ 442.000',\n",
       "  'name': 'COBRA',\n",
       "  'category': 'NOVO',\n",
       "  'motor': 'Motor 2.4 Turbo',\n",
       "  'description': 'Ano 2019 - 0 km',\n",
       "  'location': 'São Paulo - SP',\n",
       "  'items': ['Teto panorâmico',\n",
       "   'Sensor de chuva',\n",
       "   'Câmbio automático',\n",
       "   'Piloto automático']},\n",
       " {'value': 'R$ 108.000',\n",
       "  'name': 'SUV',\n",
       "  'category': 'NOVO',\n",
       "  'motor': 'Motor 1.0 8v',\n",
       "  'description': 'Ano 2019 - 0 km',\n",
       "  'location': 'Belo Horizonte - MG',\n",
       "  'items': ['Freios ABS',\n",
       "   'Bancos de couro',\n",
       "   'Sensor de estacionamento',\n",
       "   'Controle de tração']},\n",
       " {'value': 'R$ 471.000',\n",
       "  'name': 'JEEP',\n",
       "  'category': 'USADO',\n",
       "  'motor': 'Motor 2.4 Turbo',\n",
       "  'description': 'Ano 1990 - 68.534 km',\n",
       "  'location': 'Rio de Janeiro - RJ',\n",
       "  'items': ['Controle de estabilidade',\n",
       "   '4 X 4',\n",
       "   'Central multimídia',\n",
       "   'Controle de tração']},\n",
       " {'value': 'R$ 210.000',\n",
       "  'name': 'CLASSIC CAR',\n",
       "  'category': 'NOVO',\n",
       "  'motor': 'Motor Diesel V8',\n",
       "  'description': 'Ano 2019 - 0 km',\n",
       "  'location': 'Belo Horizonte - MG',\n",
       "  'items': ['Câmbio automático',\n",
       "   '4 X 4',\n",
       "   'Sensor de estacionamento',\n",
       "   'Ar condicionado']},\n",
       " {'value': 'R$ 332.000',\n",
       "  'name': 'TEA',\n",
       "  'category': 'USADO',\n",
       "  'motor': 'Motor 2.4 Turbo',\n",
       "  'description': 'Ano 2014 - 115.936 km',\n",
       "  'location': 'Belo Horizonte - MG',\n",
       "  'items': ['Câmera de estacionamento',\n",
       "   'Vidros elétricos',\n",
       "   'Painel digital',\n",
       "   'Central multimídia']},\n",
       " {'value': 'R$ 113.000',\n",
       "  'name': 'TRAFFIC',\n",
       "  'category': 'NOVO',\n",
       "  'motor': 'Motor 3.0 32v',\n",
       "  'description': 'Ano 2019 - 0 km',\n",
       "  'location': 'Rio de Janeiro - RJ',\n",
       "  'items': ['Controle de tração',\n",
       "   'Vidros elétricos',\n",
       "   'Bancos de couro',\n",
       "   'Painel digital']},\n",
       " {'value': 'R$ 172.000',\n",
       "  'name': 'MERCEDES BENZ 600SE LUXURY SEDAN',\n",
       "  'category': 'USADO',\n",
       "  'motor': 'Motor 2.0 16v',\n",
       "  'description': 'Ano 1997 - 80.168 km',\n",
       "  'location': 'Belo Horizonte - MG',\n",
       "  'items': ['Sensor de estacionamento',\n",
       "   'Freios ABS',\n",
       "   'Teto panorâmico',\n",
       "   'Sensor de chuva']},\n",
       " {'value': 'R$ 180.000',\n",
       "  'name': 'PKW',\n",
       "  'category': 'NOVO',\n",
       "  'motor': 'Motor Diesel',\n",
       "  'description': 'Ano 2019 - 0 km',\n",
       "  'location': 'São Paulo - SP',\n",
       "  'items': ['Travas elétricas',\n",
       "   'Teto panorâmico',\n",
       "   'Rodas de liga',\n",
       "   'Ar condicionado']},\n",
       " {'value': 'R$ 498.000',\n",
       "  'name': 'MERCEDES SLK55',\n",
       "  'category': 'NOVO',\n",
       "  'motor': 'Motor Diesel V6',\n",
       "  'description': 'Ano 2019 - 0 km',\n",
       "  'location': 'Rio de Janeiro - RJ',\n",
       "  'items': ['Rodas de liga',\n",
       "   'Câmera de estacionamento',\n",
       "   '4 X 4',\n",
       "   'Piloto automático']},\n",
       " {'value': 'R$ 142.000',\n",
       "  'name': 'LUXURY CAR',\n",
       "  'category': 'USADO',\n",
       "  'motor': 'Motor Diesel',\n",
       "  'description': 'Ano 2015 - 72.680 km',\n",
       "  'location': 'Rio de Janeiro - RJ',\n",
       "  'items': ['4 X 4',\n",
       "   'Sensor de estacionamento',\n",
       "   'Vidros elétricos',\n",
       "   'Teto panorâmico']},\n",
       " {'value': 'R$ 121.000',\n",
       "  'name': 'MERCEDES SL300',\n",
       "  'category': 'USADO',\n",
       "  'opportunity': 'OPORTUNIDADE',\n",
       "  'motor': 'Motor 2.4 Turbo',\n",
       "  'description': 'Ano 1994 - 16.192 km',\n",
       "  'location': 'São Paulo - SP',\n",
       "  'items': ['Freios ABS',\n",
       "   'Câmbio automático',\n",
       "   'Sensor de chuva',\n",
       "   'Câmera de estacionamento']},\n",
       " {'value': 'R$ 432.000',\n",
       "  'name': 'REDJAWA',\n",
       "  'category': 'USADO',\n",
       "  'motor': 'Motor 2.0 16v',\n",
       "  'description': 'Ano 1992 - 85.309 km',\n",
       "  'location': 'São Paulo - SP',\n",
       "  'items': ['Piloto automático',\n",
       "   'Controle de tração',\n",
       "   'Central multimídia',\n",
       "   'Ar condicionado']},\n",
       " {'value': 'R$ 297.000',\n",
       "  'name': 'MINI',\n",
       "  'category': 'USADO',\n",
       "  'motor': 'Motor V8',\n",
       "  'description': 'Ano 2000 - 86.019 km',\n",
       "  'location': 'Belo Horizonte - MG',\n",
       "  'items': ['Rodas de liga',\n",
       "   'Câmera de estacionamento',\n",
       "   'Central multimídia',\n",
       "   'Controle de estabilidade']},\n",
       " {'value': 'R$ 160.000',\n",
       "  'name': 'HUMMER',\n",
       "  'category': 'USADO',\n",
       "  'motor': 'Motor 1.0 8v',\n",
       "  'description': 'Ano 2010 - 64.634 km',\n",
       "  'location': 'Belo Horizonte - MG',\n",
       "  'items': ['Ar condicionado',\n",
       "   'Sensor de chuva',\n",
       "   'Sensor de estacionamento',\n",
       "   'Câmbio automático']},\n",
       " {'value': 'R$ 191.000',\n",
       "  'name': 'FIRE',\n",
       "  'category': 'NOVO',\n",
       "  'opportunity': 'OPORTUNIDADE',\n",
       "  'motor': 'Motor Diesel V6',\n",
       "  'description': 'Ano 2019 - 0 km',\n",
       "  'location': 'São Paulo - SP',\n",
       "  'items': ['Travas elétricas',\n",
       "   'Vidros elétricos',\n",
       "   'Rodas de liga',\n",
       "   'Sensor crepuscular']},\n",
       " {'value': 'R$ 321.000',\n",
       "  'name': 'FERRARI 348',\n",
       "  'category': 'USADO',\n",
       "  'motor': 'Motor 5.0 V8 Bi-Turbo',\n",
       "  'description': 'Ano 2013 - 44.072 km',\n",
       "  'location': 'Belo Horizonte - MG',\n",
       "  'items': ['Teto panorâmico',\n",
       "   'Sensor de estacionamento',\n",
       "   '4 X 4',\n",
       "   'Rodas de liga']},\n",
       " {'value': 'R$ 342.000',\n",
       "  'name': 'FERRARI ENZO',\n",
       "  'category': 'USADO',\n",
       "  'opportunity': 'OPORTUNIDADE',\n",
       "  'motor': 'Motor V8',\n",
       "  'description': 'Ano 1994 - 111.311 km',\n",
       "  'location': 'Rio de Janeiro - RJ',\n",
       "  'items': ['Sensor crepuscular',\n",
       "   'Câmbio automático',\n",
       "   'Sensor de estacionamento',\n",
       "   'Freios ABS']},\n",
       " {'value': 'R$ 131.000',\n",
       "  'name': 'ALLOY',\n",
       "  'category': 'USADO',\n",
       "  'motor': 'Motor 1.8 16v',\n",
       "  'description': 'Ano 1995 - 58.944 km',\n",
       "  'location': 'São Paulo - SP',\n",
       "  'items': ['Rodas de liga',\n",
       "   'Painel digital',\n",
       "   'Central multimídia',\n",
       "   'Freios ABS']},\n",
       " {'value': 'R$ 102.000',\n",
       "  'name': 'SPORT CAR',\n",
       "  'category': 'NOVO',\n",
       "  'motor': 'Motor V8',\n",
       "  'description': 'Ano 2019 - 0 km',\n",
       "  'location': 'São Paulo - SP',\n",
       "  'items': ['Ar condicionado',\n",
       "   'Central multimídia',\n",
       "   'Sensor de chuva',\n",
       "   'Teto panorâmico']},\n",
       " {'value': 'R$ 422.000',\n",
       "  'name': 'CUBA',\n",
       "  'category': 'USADO',\n",
       "  'motor': 'Motor Diesel',\n",
       "  'description': 'Ano 1992 - 62.255 km',\n",
       "  'location': 'Rio de Janeiro - RJ',\n",
       "  'items': ['Vidros elétricos',\n",
       "   'Controle de tração',\n",
       "   'Piloto automático',\n",
       "   'Teto panorâmico']},\n",
       " {'value': 'R$ 482.000',\n",
       "  'name': 'FERRARI F12',\n",
       "  'category': 'USADO',\n",
       "  'motor': 'Motor Diesel V6',\n",
       "  'description': 'Ano 2008 - 65.143 km',\n",
       "  'location': 'São Paulo - SP',\n",
       "  'items': ['Freios ABS',\n",
       "   'Rodas de liga',\n",
       "   'Travas elétricas',\n",
       "   'Sensor de chuva']},\n",
       " {'value': 'R$ 229.000',\n",
       "  'name': 'ACURA REAR',\n",
       "  'category': 'USADO',\n",
       "  'motor': 'Motor 2.0 16v',\n",
       "  'description': 'Ano 2007 - 33.343 km',\n",
       "  'location': 'Belo Horizonte - MG',\n",
       "  'items': ['Teto panorâmico',\n",
       "   'Painel digital',\n",
       "   'Travas elétricas',\n",
       "   'Controle de estabilidade']},\n",
       " {'value': 'R$ 61.000',\n",
       "  'name': 'MERCEDES BENZ SLR',\n",
       "  'category': 'USADO',\n",
       "  'motor': 'Motor Diesel V8',\n",
       "  'description': 'Ano 1998 - 66.074 km',\n",
       "  'location': 'São Paulo - SP',\n",
       "  'items': ['Controle de tração',\n",
       "   'Câmera de estacionamento',\n",
       "   'Central multimídia',\n",
       "   'Travas elétricas']},\n",
       " {'value': 'R$ 491.000',\n",
       "  'name': 'CADILLAC',\n",
       "  'category': 'USADO',\n",
       "  'motor': 'Motor V8',\n",
       "  'description': 'Ano 2001 - 90.123 km',\n",
       "  'location': 'Belo Horizonte - MG',\n",
       "  'items': ['Central multimídia',\n",
       "   '4 X 4',\n",
       "   'Piloto automático',\n",
       "   'Vidros elétricos']},\n",
       " {'value': 'R$ 340.000',\n",
       "  'name': 'FORD GT40',\n",
       "  'category': 'USADO',\n",
       "  'motor': 'Motor 2.4 Turbo',\n",
       "  'description': 'Ano 2009 - 118.844 km',\n",
       "  'location': 'São Paulo - SP',\n",
       "  'items': ['Central multimídia',\n",
       "   'Teto panorâmico',\n",
       "   'Painel digital',\n",
       "   'Bancos de couro']},\n",
       " {'value': 'R$ 384.000',\n",
       "  'name': 'HOTROD TRUCK',\n",
       "  'category': 'USADO',\n",
       "  'motor': 'Motor V6',\n",
       "  'description': 'Ano 2018 - 73.321 km',\n",
       "  'location': 'São Paulo - SP',\n",
       "  'items': ['Ar condicionado',\n",
       "   'Rodas de liga',\n",
       "   'Painel digital',\n",
       "   'Controle de estabilidade']},\n",
       " {'value': 'R$ 81.000',\n",
       "  'name': 'CLASSIC CARS',\n",
       "  'category': 'USADO',\n",
       "  'motor': 'Motor 1.0 8v',\n",
       "  'description': 'Ano 2006 - 7.306 km',\n",
       "  'location': 'Belo Horizonte - MG',\n",
       "  'items': ['Travas elétricas',\n",
       "   'Central multimídia',\n",
       "   '4 X 4',\n",
       "   'Rodas de liga']},\n",
       " {'value': 'R$ 429.000',\n",
       "  'name': 'BMW GLAS V8 COUPE',\n",
       "  'category': 'USADO',\n",
       "  'motor': 'Motor Diesel',\n",
       "  'description': 'Ano 1991 - 85.498 km',\n",
       "  'location': 'Belo Horizonte - MG',\n",
       "  'items': ['Travas elétricas',\n",
       "   'Ar condicionado',\n",
       "   'Piloto automático',\n",
       "   'Central multimídia']},\n",
       " {'value': 'R$ 384.000',\n",
       "  'name': 'PEUGEOT',\n",
       "  'category': 'USADO',\n",
       "  'motor': 'Motor 2.0 16v',\n",
       "  'description': 'Ano 2017 - 17.022 km',\n",
       "  'location': 'Belo Horizonte - MG',\n",
       "  'items': ['Rodas de liga',\n",
       "   'Teto panorâmico',\n",
       "   'Câmera de estacionamento',\n",
       "   'Painel digital']},\n",
       " {'value': 'R$ 318.000',\n",
       "  'name': 'JAGUAR CAR',\n",
       "  'category': 'NOVO',\n",
       "  'motor': 'Motor 3.0 32v',\n",
       "  'description': 'Ano 2019 - 0 km',\n",
       "  'location': 'Rio de Janeiro - RJ',\n",
       "  'items': ['Piloto automático', '4 X 4', 'Freios ABS', 'Travas elétricas']},\n",
       " {'value': 'R$ 326.000',\n",
       "  'name': 'COBRA SPORTS CAR',\n",
       "  'category': 'USADO',\n",
       "  'motor': 'Motor 2.4 Turbo',\n",
       "  'description': 'Ano 2008 - 112.215 km',\n",
       "  'location': 'Belo Horizonte - MG',\n",
       "  'items': ['Travas elétricas',\n",
       "   'Painel digital',\n",
       "   'Teto panorâmico',\n",
       "   'Central multimídia']},\n",
       " {'value': 'R$ 447.000',\n",
       "  'name': 'STRETCH LIMOUSINE',\n",
       "  'category': 'USADO',\n",
       "  'motor': 'Motor Diesel',\n",
       "  'description': 'Ano 2009 - 53.225 km',\n",
       "  'location': 'Rio de Janeiro - RJ',\n",
       "  'items': ['Controle de estabilidade',\n",
       "   'Teto panorâmico',\n",
       "   'Bancos de couro',\n",
       "   'Ar condicionado']},\n",
       " {'value': 'R$ 87.000',\n",
       "  'name': 'FERRARI CAR',\n",
       "  'category': 'USADO',\n",
       "  'motor': 'Motor Diesel',\n",
       "  'description': 'Ano 2002 - 86.124 km',\n",
       "  'location': 'São Paulo - SP',\n",
       "  'items': ['Teto panorâmico',\n",
       "   'Câmbio automático',\n",
       "   'Central multimídia',\n",
       "   'Travas elétricas']},\n",
       " {'value': 'R$ 182.000',\n",
       "  'name': 'MERCURYDL',\n",
       "  'category': 'USADO',\n",
       "  'motor': 'Motor Diesel V8',\n",
       "  'description': 'Ano 1997 - 108.631 km',\n",
       "  'location': 'Belo Horizonte - MG',\n",
       "  'items': ['Sensor de estacionamento',\n",
       "   'Freios ABS',\n",
       "   'Controle de tração',\n",
       "   'Câmera de estacionamento']},\n",
       " {'value': 'R$ 212.000',\n",
       "  'name': 'MASERATI',\n",
       "  'category': 'NOVO',\n",
       "  'motor': 'Motor 1.0 8v',\n",
       "  'description': 'Ano 2019 - 0 km',\n",
       "  'location': 'Belo Horizonte - MG',\n",
       "  'items': ['Câmbio automático',\n",
       "   'Sensor crepuscular',\n",
       "   'Central multimídia',\n",
       "   'Vidros elétricos']},\n",
       " {'value': 'R$ 253.000',\n",
       "  'name': 'MERCEDES C63 ENGINE',\n",
       "  'category': 'USADO',\n",
       "  'opportunity': 'OPORTUNIDADE',\n",
       "  'motor': 'Motor V6',\n",
       "  'description': 'Ano 1995 - 89.724 km',\n",
       "  'location': 'São Paulo - SP',\n",
       "  'items': ['Vidros elétricos',\n",
       "   'Câmera de estacionamento',\n",
       "   'Sensor de chuva',\n",
       "   'Teto panorâmico']},\n",
       " {'value': 'R$ 246.000',\n",
       "  'name': 'COUPE',\n",
       "  'category': 'USADO',\n",
       "  'motor': 'Motor 3.0 32v',\n",
       "  'description': 'Ano 2001 - 116.767 km',\n",
       "  'location': 'São Paulo - SP',\n",
       "  'items': ['Sensor de chuva',\n",
       "   'Câmera de estacionamento',\n",
       "   'Teto panorâmico',\n",
       "   'Vidros elétricos']},\n",
       " {'value': 'R$ 364.000',\n",
       "  'name': 'GT',\n",
       "  'category': 'USADO',\n",
       "  'motor': 'Motor 4.0 Turbo',\n",
       "  'description': 'Ano 2016 - 38.803 km',\n",
       "  'location': 'São Paulo - SP',\n",
       "  'items': ['Vidros elétricos',\n",
       "   'Sensor crepuscular',\n",
       "   'Freios ABS',\n",
       "   'Ar condicionado']},\n",
       " {'value': 'R$ 434.000',\n",
       "  'name': 'RENAULT',\n",
       "  'category': 'USADO',\n",
       "  'motor': 'Motor 5.0 V8 Bi-Turbo',\n",
       "  'description': 'Ano 1991 - 101.983 km',\n",
       "  'location': 'São Paulo - SP',\n",
       "  'items': ['Câmbio automático',\n",
       "   'Sensor crepuscular',\n",
       "   'Rodas de liga',\n",
       "   'Sensor de chuva']},\n",
       " {'value': 'R$ 493.000',\n",
       "  'name': 'FIAT 130',\n",
       "  'category': 'USADO',\n",
       "  'opportunity': 'OPORTUNIDADE',\n",
       "  'motor': 'Motor 5.0 V8 Bi-Turbo',\n",
       "  'description': 'Ano 2010 - 11.257 km',\n",
       "  'location': 'Rio de Janeiro - RJ',\n",
       "  'items': ['Sensor crepuscular',\n",
       "   'Travas elétricas',\n",
       "   'Central multimídia',\n",
       "   '4 X 4']},\n",
       " {'value': 'R$ 303.000',\n",
       "  'name': 'VINTAGE CARS',\n",
       "  'category': 'USADO',\n",
       "  'motor': 'Motor 1.8 16v',\n",
       "  'description': 'Ano 2004 - 47.972 km',\n",
       "  'location': 'São Paulo - SP',\n",
       "  'items': ['Câmera de estacionamento',\n",
       "   'Ar condicionado',\n",
       "   'Freios ABS',\n",
       "   'Piloto automático']},\n",
       " {'value': 'R$ 363.000',\n",
       "  'name': 'NISSAN GTR',\n",
       "  'category': 'USADO',\n",
       "  'motor': 'Motor Diesel',\n",
       "  'description': 'Ano 1995 - 61.740 km',\n",
       "  'location': 'Rio de Janeiro - RJ',\n",
       "  'items': ['Freios ABS',\n",
       "   'Sensor de estacionamento',\n",
       "   'Sensor de chuva',\n",
       "   'Piloto automático']},\n",
       " {'value': 'R$ 180.000',\n",
       "  'name': 'MERCEDES SLS',\n",
       "  'category': 'USADO',\n",
       "  'motor': 'Motor 3.0 32v',\n",
       "  'description': 'Ano 2004 - 41.278 km',\n",
       "  'location': 'Rio de Janeiro - RJ',\n",
       "  'items': ['Freios ABS',\n",
       "   'Sensor de estacionamento',\n",
       "   'Controle de tração',\n",
       "   'Sensor de chuva']},\n",
       " {'value': 'R$ 175.000',\n",
       "  'name': 'LUXURY AUTOMOBILE',\n",
       "  'category': 'NOVO',\n",
       "  'motor': 'Motor V8',\n",
       "  'description': 'Ano 2019 - 0 km',\n",
       "  'location': 'Belo Horizonte - MG',\n",
       "  'items': ['Teto panorâmico',\n",
       "   'Central multimídia',\n",
       "   'Ar condicionado',\n",
       "   'Sensor de estacionamento']},\n",
       " {'value': 'R$ 455.000',\n",
       "  'name': 'KIA CAR',\n",
       "  'category': 'USADO',\n",
       "  'opportunity': 'OPORTUNIDADE',\n",
       "  'motor': 'Motor 4.0 Turbo',\n",
       "  'description': 'Ano 2017 - 95.496 km',\n",
       "  'location': 'Rio de Janeiro - RJ',\n",
       "  'items': ['Controle de tração',\n",
       "   'Painel digital',\n",
       "   'Teto panorâmico',\n",
       "   'Freios ABS']},\n",
       " {'value': 'R$ 296.000',\n",
       "  'name': 'TANGERINE LAMBORGHINI',\n",
       "  'category': 'USADO',\n",
       "  'motor': 'Motor V8',\n",
       "  'description': 'Ano 2003 - 100.107 km',\n",
       "  'location': 'São Paulo - SP',\n",
       "  'items': ['Câmera de estacionamento',\n",
       "   'Freios ABS',\n",
       "   'Painel digital',\n",
       "   'Câmbio automático']},\n",
       " {'value': 'R$ 363.000',\n",
       "  'name': 'CLASSIC TAILLIGHT',\n",
       "  'category': 'USADO',\n",
       "  'motor': 'Motor 4.0 Turbo',\n",
       "  'description': 'Ano 2015 - 39.240 km',\n",
       "  'location': 'Belo Horizonte - MG',\n",
       "  'items': ['Vidros elétricos',\n",
       "   'Painel digital',\n",
       "   'Freios ABS',\n",
       "   'Sensor crepuscular']},\n",
       " {'value': 'R$ 217.000',\n",
       "  'name': 'WIESMANN GT MF4',\n",
       "  'category': 'USADO',\n",
       "  'motor': 'Motor 2.0 16v',\n",
       "  'description': 'Ano 1994 - 82.228 km',\n",
       "  'location': 'Rio de Janeiro - RJ',\n",
       "  'items': ['Câmera de estacionamento',\n",
       "   'Freios ABS',\n",
       "   'Controle de estabilidade',\n",
       "   'Painel digital']},\n",
       " {'value': 'R$ 51.000',\n",
       "  'name': 'GMC YUKON',\n",
       "  'category': 'USADO',\n",
       "  'motor': 'Motor 5.0 V8 Bi-Turbo',\n",
       "  'description': 'Ano 2017 - 24.757 km',\n",
       "  'location': 'São Paulo - SP',\n",
       "  'items': ['Sensor de estacionamento',\n",
       "   'Rodas de liga',\n",
       "   'Câmera de estacionamento',\n",
       "   'Central multimídia']},\n",
       " {'value': 'R$ 109.000',\n",
       "  'name': 'PORSCHE 918 SPYDER',\n",
       "  'category': 'USADO',\n",
       "  'motor': 'Motor Diesel V6',\n",
       "  'description': 'Ano 2015 - 70.486 km',\n",
       "  'location': 'São Paulo - SP',\n",
       "  'items': ['Travas elétricas',\n",
       "   'Painel digital',\n",
       "   'Rodas de liga',\n",
       "   'Câmera de estacionamento']},\n",
       " {'value': 'R$ 189.000',\n",
       "  'name': 'T1',\n",
       "  'category': 'NOVO',\n",
       "  'motor': 'Motor 1.0 8v',\n",
       "  'description': 'Ano 2019 - 0 km',\n",
       "  'location': 'São Paulo - SP',\n",
       "  'items': ['Sensor de estacionamento',\n",
       "   'Painel digital',\n",
       "   'Controle de tração',\n",
       "   'Rodas de liga']},\n",
       " {'value': 'R$ 110.000',\n",
       "  'name': 'MERCEDES BENZ 280S',\n",
       "  'category': 'USADO',\n",
       "  'motor': 'Motor 2.4 Turbo',\n",
       "  'description': 'Ano 2000 - 108.914 km',\n",
       "  'location': 'São Paulo - SP',\n",
       "  'items': ['Ar condicionado',\n",
       "   'Câmera de estacionamento',\n",
       "   'Painel digital',\n",
       "   'Travas elétricas']},\n",
       " {'value': 'R$ 321.000',\n",
       "  'name': 'LINCOLN',\n",
       "  'category': 'USADO',\n",
       "  'motor': 'Motor 1.8 16v',\n",
       "  'description': 'Ano 2004 - 90.412 km',\n",
       "  'location': 'Rio de Janeiro - RJ',\n",
       "  'items': ['Controle de tração',\n",
       "   'Sensor de estacionamento',\n",
       "   'Ar condicionado',\n",
       "   'Painel digital']},\n",
       " {'value': 'R$ 275.000',\n",
       "  'name': 'BLACK SUV',\n",
       "  'category': 'NOVO',\n",
       "  'opportunity': 'OPORTUNIDADE',\n",
       "  'motor': 'Motor Diesel V8',\n",
       "  'description': 'Ano 2019 - 0 km',\n",
       "  'location': 'Rio de Janeiro - RJ',\n",
       "  'items': ['Câmbio automático',\n",
       "   'Travas elétricas',\n",
       "   'Vidros elétricos',\n",
       "   '4 X 4']},\n",
       " {'value': 'R$ 261.000',\n",
       "  'name': 'DESOTO',\n",
       "  'category': 'USADO',\n",
       "  'motor': 'Motor Diesel',\n",
       "  'description': 'Ano 2015 - 4.561 km',\n",
       "  'location': 'São Paulo - SP',\n",
       "  'items': ['4 X 4',\n",
       "   'Controle de tração',\n",
       "   'Controle de estabilidade',\n",
       "   'Câmbio automático']},\n",
       " {'value': 'R$ 173.000',\n",
       "  'name': 'CHEVROLET',\n",
       "  'category': 'USADO',\n",
       "  'motor': 'Motor 2.4 Turbo',\n",
       "  'description': 'Ano 1992 - 108.884 km',\n",
       "  'location': 'Rio de Janeiro - RJ',\n",
       "  'items': ['Central multimídia',\n",
       "   '4 X 4',\n",
       "   'Painel digital',\n",
       "   'Sensor de estacionamento']},\n",
       " {'value': 'R$ 303.000',\n",
       "  'name': 'VOLVO',\n",
       "  'category': 'NOVO',\n",
       "  'opportunity': 'OPORTUNIDADE',\n",
       "  'motor': 'Motor V6',\n",
       "  'description': 'Ano 2019 - 0 km',\n",
       "  'location': 'Rio de Janeiro - RJ',\n",
       "  'items': ['Central multimídia',\n",
       "   'Piloto automático',\n",
       "   'Rodas de liga',\n",
       "   'Controle de estabilidade']},\n",
       " {'value': 'R$ 264.000',\n",
       "  'name': 'KOENIGSEGG CCR',\n",
       "  'category': 'USADO',\n",
       "  'motor': 'Motor V8',\n",
       "  'description': 'Ano 1993 - 47.501 km',\n",
       "  'location': 'Rio de Janeiro - RJ',\n",
       "  'items': ['Sensor de estacionamento',\n",
       "   'Ar condicionado',\n",
       "   'Teto panorâmico',\n",
       "   'Sensor crepuscular']},\n",
       " {'value': 'R$ 323.000',\n",
       "  'name': 'LAMBORGHINI MURCIELAGO SV',\n",
       "  'category': 'USADO',\n",
       "  'motor': 'Motor Diesel V6',\n",
       "  'description': 'Ano 2005 - 96.423 km',\n",
       "  'location': 'São Paulo - SP',\n",
       "  'items': ['Câmbio automático',\n",
       "   'Freios ABS',\n",
       "   'Bancos de couro',\n",
       "   'Painel digital']},\n",
       " {'value': 'R$ 244.000',\n",
       "  'name': 'OPEL DIPLOMAT',\n",
       "  'category': 'USADO',\n",
       "  'motor': 'Motor Diesel V8',\n",
       "  'description': 'Ano 1992 - 50.436 km',\n",
       "  'location': 'Rio de Janeiro - RJ',\n",
       "  'items': ['Controle de tração',\n",
       "   'Vidros elétricos',\n",
       "   'Rodas de liga',\n",
       "   'Sensor de estacionamento']},\n",
       " {'value': 'R$ 350.000',\n",
       "  'name': 'ROLLS ROYCE',\n",
       "  'category': 'NOVO',\n",
       "  'motor': 'Motor Diesel V6',\n",
       "  'description': 'Ano 2019 - 0 km',\n",
       "  'location': 'Belo Horizonte - MG',\n",
       "  'items': ['Controle de estabilidade',\n",
       "   'Controle de tração',\n",
       "   'Sensor de chuva',\n",
       "   'Vidros elétricos']},\n",
       " {'value': 'R$ 316.000',\n",
       "  'name': 'FERRARI F430 SPIDER',\n",
       "  'category': 'USADO',\n",
       "  'motor': 'Motor V8',\n",
       "  'description': 'Ano 1993 - 9.245 km',\n",
       "  'location': 'São Paulo - SP',\n",
       "  'items': ['Painel digital',\n",
       "   'Bancos de couro',\n",
       "   'Freios ABS',\n",
       "   'Controle de tração']},\n",
       " {'value': 'R$ 352.000',\n",
       "  'name': 'SHEAVY',\n",
       "  'category': 'USADO',\n",
       "  'opportunity': 'OPORTUNIDADE',\n",
       "  'motor': 'Motor V6',\n",
       "  'description': 'Ano 1997 - 16.528 km',\n",
       "  'location': 'Belo Horizonte - MG',\n",
       "  'items': ['Teto panorâmico', '4 X 4', 'Painel digital', 'Sensor de chuva']},\n",
       " {'value': 'R$ 291.000',\n",
       "  'name': 'AUTO DETAIL',\n",
       "  'category': 'USADO',\n",
       "  'motor': 'Motor 4.0 Turbo',\n",
       "  'description': 'Ano 2011 - 119.240 km',\n",
       "  'location': 'São Paulo - SP',\n",
       "  'items': ['4 X 4',\n",
       "   'Controle de estabilidade',\n",
       "   'Câmera de estacionamento',\n",
       "   'Travas elétricas']},\n",
       " {'value': 'R$ 98.000',\n",
       "  'name': 'ALFA ROMEO',\n",
       "  'category': 'NOVO',\n",
       "  'opportunity': 'OPORTUNIDADE',\n",
       "  'motor': 'Motor 2.0 16v',\n",
       "  'description': 'Ano 2019 - 0 km',\n",
       "  'location': 'Belo Horizonte - MG',\n",
       "  'items': ['Câmbio automático',\n",
       "   'Bancos de couro',\n",
       "   'Controle de tração',\n",
       "   'Painel digital']},\n",
       " {'value': 'R$ 218.000',\n",
       "  'name': 'LAMBORGHINI HURACAN',\n",
       "  'category': 'USADO',\n",
       "  'motor': 'Motor Diesel V8',\n",
       "  'description': 'Ano 1991 - 80.719 km',\n",
       "  'location': 'São Paulo - SP',\n",
       "  'items': ['Sensor crepuscular',\n",
       "   'Câmbio automático',\n",
       "   'Controle de tração',\n",
       "   'Central multimídia']},\n",
       " {'value': 'R$ 218.000',\n",
       "  'name': 'MORGAN PLUS 8',\n",
       "  'category': 'USADO',\n",
       "  'motor': 'Motor Diesel',\n",
       "  'description': 'Ano 2010 - 113.873 km',\n",
       "  'location': 'São Paulo - SP',\n",
       "  'items': ['Central multimídia',\n",
       "   'Painel digital',\n",
       "   'Controle de estabilidade',\n",
       "   'Travas elétricas']},\n",
       " {'value': 'R$ 387.000',\n",
       "  'name': 'BMW M4',\n",
       "  'category': 'USADO',\n",
       "  'motor': 'Motor Diesel V6',\n",
       "  'description': 'Ano 1995 - 91.022 km',\n",
       "  'location': 'Belo Horizonte - MG',\n",
       "  'items': ['Sensor de estacionamento',\n",
       "   'Vidros elétricos',\n",
       "   'Controle de estabilidade',\n",
       "   'Ar condicionado']},\n",
       " {'value': 'R$ 105.000',\n",
       "  'name': 'COLD',\n",
       "  'category': 'USADO',\n",
       "  'opportunity': 'OPORTUNIDADE',\n",
       "  'motor': 'Motor 1.0 8v',\n",
       "  'description': 'Ano 2002 - 50.166 km',\n",
       "  'location': 'Belo Horizonte - MG',\n",
       "  'items': ['Câmbio automático',\n",
       "   'Vidros elétricos',\n",
       "   'Câmera de estacionamento',\n",
       "   'Controle de tração']},\n",
       " {'value': 'R$ 170.000',\n",
       "  'name': 'C63',\n",
       "  'category': 'USADO',\n",
       "  'motor': 'Motor 2.0 16v',\n",
       "  'description': 'Ano 1994 - 59.885 km',\n",
       "  'location': 'Belo Horizonte - MG',\n",
       "  'items': ['Sensor de chuva',\n",
       "   'Controle de tração',\n",
       "   'Sensor de estacionamento',\n",
       "   'Câmbio automático']},\n",
       " {'value': 'R$ 490.000',\n",
       "  'name': 'CUSTOM RIMS',\n",
       "  'category': 'USADO',\n",
       "  'motor': 'Motor 4.0 Turbo',\n",
       "  'description': 'Ano 1994 - 15.292 km',\n",
       "  'location': 'Belo Horizonte - MG',\n",
       "  'items': ['Controle de tração',\n",
       "   '4 X 4',\n",
       "   'Vidros elétricos',\n",
       "   'Sensor de chuva']},\n",
       " {'value': 'R$ 152.000',\n",
       "  'name': 'MERCEDES BENZ S CLASS',\n",
       "  'category': 'USADO',\n",
       "  'motor': 'Motor 2.0 16v',\n",
       "  'description': 'Ano 2003 - 23.426 km',\n",
       "  'location': 'Rio de Janeiro - RJ',\n",
       "  'items': ['Controle de tração',\n",
       "   'Sensor crepuscular',\n",
       "   'Piloto automático',\n",
       "   'Sensor de estacionamento']},\n",
       " {'value': 'R$ 480.000',\n",
       "  'name': 'ADAM OPEL AG',\n",
       "  'category': 'NOVO',\n",
       "  'motor': 'Motor 1.0 8v',\n",
       "  'description': 'Ano 2019 - 0 km',\n",
       "  'location': 'São Paulo - SP',\n",
       "  'items': ['Sensor crepuscular',\n",
       "   'Sensor de estacionamento',\n",
       "   'Travas elétricas',\n",
       "   'Sensor de chuva']},\n",
       " {'value': 'R$ 381.000',\n",
       "  'name': 'SPOTLIGHT',\n",
       "  'category': 'USADO',\n",
       "  'motor': 'Motor 4.0 Turbo',\n",
       "  'description': 'Ano 2000 - 81.779 km',\n",
       "  'location': 'Rio de Janeiro - RJ',\n",
       "  'items': ['Rodas de liga',\n",
       "   'Controle de tração',\n",
       "   'Bancos de couro',\n",
       "   'Vidros elétricos']},\n",
       " {'value': 'R$ 468.000',\n",
       "  'name': 'LOTUS',\n",
       "  'category': 'USADO',\n",
       "  'opportunity': 'OPORTUNIDADE',\n",
       "  'motor': 'Motor Diesel V6',\n",
       "  'description': 'Ano 1995 - 45.004 km',\n",
       "  'location': 'São Paulo - SP',\n",
       "  'items': ['Travas elétricas',\n",
       "   'Freios ABS',\n",
       "   'Bancos de couro',\n",
       "   'Câmbio automático']},\n",
       " {'value': 'R$ 54.000',\n",
       "  'name': 'SPORTS CAR',\n",
       "  'category': 'NOVO',\n",
       "  'motor': 'Motor 1.8 16v',\n",
       "  'description': 'Ano 2019 - 0 km',\n",
       "  'location': 'Rio de Janeiro - RJ',\n",
       "  'items': ['Travas elétricas',\n",
       "   'Rodas de liga',\n",
       "   'Bancos de couro',\n",
       "   'Central multimídia']},\n",
       " {'value': 'R$ 304.000',\n",
       "  'name': 'RESTORED',\n",
       "  'category': 'USADO',\n",
       "  'motor': 'Motor 5.0 V8 Bi-Turbo',\n",
       "  'description': 'Ano 2002 - 84.771 km',\n",
       "  'location': 'São Paulo - SP',\n",
       "  'items': ['Teto panorâmico',\n",
       "   'Câmbio automático',\n",
       "   'Controle de estabilidade',\n",
       "   'Vidros elétricos']},\n",
       " {'value': 'R$ 372.000',\n",
       "  'name': 'FERRARI F430',\n",
       "  'category': 'USADO',\n",
       "  'motor': 'Motor 1.0 8v',\n",
       "  'description': 'Ano 2005 - 57.973 km',\n",
       "  'location': 'Rio de Janeiro - RJ',\n",
       "  'items': ['Sensor de chuva',\n",
       "   'Rodas de liga',\n",
       "   'Controle de tração',\n",
       "   'Ar condicionado']},\n",
       " {'value': 'R$ 357.000',\n",
       "  'name': 'CLASSIC MERCEDES',\n",
       "  'category': 'USADO',\n",
       "  'motor': 'Motor 1.0 8v',\n",
       "  'description': 'Ano 2014 - 86.577 km',\n",
       "  'location': 'Belo Horizonte - MG',\n",
       "  'items': ['Vidros elétricos',\n",
       "   'Bancos de couro',\n",
       "   'Controle de estabilidade',\n",
       "   'Freios ABS']},\n",
       " {'value': 'R$ 333.000',\n",
       "  'name': 'MERCEDES',\n",
       "  'category': 'USADO',\n",
       "  'motor': 'Motor V6',\n",
       "  'description': 'Ano 2002 - 25.150 km',\n",
       "  'location': 'Rio de Janeiro - RJ',\n",
       "  'items': ['Central multimídia',\n",
       "   'Ar condicionado',\n",
       "   'Vidros elétricos',\n",
       "   'Painel digital']},\n",
       " {'value': 'R$ 153.000',\n",
       "  'name': 'SPEEDO',\n",
       "  'category': 'USADO',\n",
       "  'motor': 'Motor 1.0 8v',\n",
       "  'description': 'Ano 2010 - 44.165 km',\n",
       "  'location': 'Belo Horizonte - MG',\n",
       "  'items': ['Vidros elétricos',\n",
       "   'Sensor de chuva',\n",
       "   'Sensor crepuscular',\n",
       "   'Ar condicionado']},\n",
       " {'value': 'R$ 318.000',\n",
       "  'name': 'PORSCHE TARGA',\n",
       "  'category': 'USADO',\n",
       "  'motor': 'Motor 1.8 16v',\n",
       "  'description': 'Ano 2005 - 102.500 km',\n",
       "  'location': 'Belo Horizonte - MG',\n",
       "  'items': ['Teto panorâmico',\n",
       "   'Câmbio automático',\n",
       "   'Sensor crepuscular',\n",
       "   'Controle de estabilidade']},\n",
       " {'value': 'R$ 125.000',\n",
       "  'name': 'FERRARI 308 GT4',\n",
       "  'category': 'USADO',\n",
       "  'motor': 'Motor 4.0 Turbo',\n",
       "  'description': 'Ano 1999 - 90.403 km',\n",
       "  'location': 'Belo Horizonte - MG',\n",
       "  'items': ['Bancos de couro',\n",
       "   'Ar condicionado',\n",
       "   'Travas elétricas',\n",
       "   'Controle de tração']},\n",
       " {'value': 'R$ 373.000',\n",
       "  'name': 'MERCEDES BENZ 600',\n",
       "  'category': 'USADO',\n",
       "  'motor': 'Motor Diesel',\n",
       "  'description': 'Ano 2015 - 69.171 km',\n",
       "  'location': 'Rio de Janeiro - RJ',\n",
       "  'items': ['Piloto automático',\n",
       "   'Central multimídia',\n",
       "   'Painel digital',\n",
       "   'Rodas de liga']},\n",
       " {'value': 'R$ 81.000',\n",
       "  'name': 'PACKARD SUPER 8',\n",
       "  'category': 'USADO',\n",
       "  'motor': 'Motor Diesel V6',\n",
       "  'description': 'Ano 2004 - 4.476 km',\n",
       "  'location': 'Belo Horizonte - MG',\n",
       "  'items': ['Rodas de liga',\n",
       "   'Teto panorâmico',\n",
       "   'Câmbio automático',\n",
       "   'Bancos de couro']},\n",
       " {'value': 'R$ 464.000',\n",
       "  'name': 'BENTLEY MULSANNE',\n",
       "  'category': 'USADO',\n",
       "  'opportunity': 'OPORTUNIDADE',\n",
       "  'motor': 'Motor Diesel V6',\n",
       "  'description': 'Ano 2004 - 61.712 km',\n",
       "  'location': 'Belo Horizonte - MG',\n",
       "  'items': ['4 X 4',\n",
       "   'Central multimídia',\n",
       "   'Travas elétricas',\n",
       "   'Painel digital']},\n",
       " {'value': 'R$ 201.000',\n",
       "  'name': 'JAGUAR XK',\n",
       "  'category': 'NOVO',\n",
       "  'motor': 'Motor 5.0 V8 Bi-Turbo',\n",
       "  'description': 'Ano 2019 - 0 km',\n",
       "  'location': 'Belo Horizonte - MG',\n",
       "  'items': ['4 X 4',\n",
       "   'Teto panorâmico',\n",
       "   'Sensor de chuva',\n",
       "   'Controle de tração']},\n",
       " {'value': 'R$ 222.000',\n",
       "  'name': 'PLYMOUTH',\n",
       "  'category': 'USADO',\n",
       "  'opportunity': 'OPORTUNIDADE',\n",
       "  'motor': 'Motor V6',\n",
       "  'description': 'Ano 1999 - 2.388 km',\n",
       "  'location': 'São Paulo - SP',\n",
       "  'items': ['4 X 4',\n",
       "   'Controle de estabilidade',\n",
       "   'Freios ABS',\n",
       "   'Sensor de estacionamento']},\n",
       " {'value': 'R$ 376.000',\n",
       "  'name': 'PORSCHE 911 GT3',\n",
       "  'category': 'USADO',\n",
       "  'motor': 'Motor Diesel V6',\n",
       "  'description': 'Ano 2009 - 86.538 km',\n",
       "  'location': 'Rio de Janeiro - RJ',\n",
       "  'items': ['4 X 4',\n",
       "   'Sensor de chuva',\n",
       "   'Rodas de liga',\n",
       "   'Central multimídia']},\n",
       " {'value': 'R$ 112.000',\n",
       "  'name': 'MERCES',\n",
       "  'category': 'USADO',\n",
       "  'motor': 'Motor V8',\n",
       "  'description': 'Ano 2014 - 11.328 km',\n",
       "  'location': 'São Paulo - SP',\n",
       "  'items': ['Travas elétricas',\n",
       "   'Freios ABS',\n",
       "   'Controle de tração',\n",
       "   'Controle de estabilidade']},\n",
       " {'value': 'R$ 338.000',\n",
       "  'name': 'THIRTIES',\n",
       "  'category': 'USADO',\n",
       "  'motor': 'Motor Diesel',\n",
       "  'description': 'Ano 2006 - 93.564 km',\n",
       "  'location': 'Rio de Janeiro - RJ',\n",
       "  'items': ['Sensor de estacionamento',\n",
       "   'Câmbio automático',\n",
       "   'Piloto automático',\n",
       "   'Ar condicionado']},\n",
       " {'value': 'R$ 338.000',\n",
       "  'name': 'PORSCHE 911 TURBO',\n",
       "  'category': 'USADO',\n",
       "  'motor': 'Motor 1.8 16v',\n",
       "  'description': 'Ano 1996 - 106.598 km',\n",
       "  'location': 'São Paulo - SP',\n",
       "  'items': ['Controle de tração',\n",
       "   'Sensor crepuscular',\n",
       "   'Vidros elétricos',\n",
       "   'Painel digital']},\n",
       " {'value': 'R$ 198.000',\n",
       "  'name': 'SKODA',\n",
       "  'category': 'USADO',\n",
       "  'motor': 'Motor V8',\n",
       "  'description': 'Ano 1994 - 77.208 km',\n",
       "  'location': 'Belo Horizonte - MG',\n",
       "  'items': ['Controle de estabilidade',\n",
       "   'Rodas de liga',\n",
       "   'Ar condicionado',\n",
       "   'Câmbio automático']},\n",
       " {'value': 'R$ 155.000',\n",
       "  'name': 'VOLKSWAGEN',\n",
       "  'category': 'USADO',\n",
       "  'opportunity': 'OPORTUNIDADE',\n",
       "  'motor': 'Motor Diesel V8',\n",
       "  'description': 'Ano 2017 - 64.852 km',\n",
       "  'location': 'Belo Horizonte - MG',\n",
       "  'items': ['Câmera de estacionamento',\n",
       "   'Central multimídia',\n",
       "   'Travas elétricas',\n",
       "   'Câmbio automático']},\n",
       " {'value': 'R$ 273.000',\n",
       "  'name': 'GMC YUKON TRUCK WHEEL',\n",
       "  'category': 'USADO',\n",
       "  'motor': 'Motor 1.0 8v',\n",
       "  'description': 'Ano 2001 - 70.878 km',\n",
       "  'location': 'Rio de Janeiro - RJ',\n",
       "  'items': ['Sensor de estacionamento',\n",
       "   'Ar condicionado',\n",
       "   'Vidros elétricos',\n",
       "   'Câmbio automático']},\n",
       " {'value': 'R$ 63.000',\n",
       "  'name': 'PANTERA',\n",
       "  'category': 'NOVO',\n",
       "  'motor': 'Motor Diesel',\n",
       "  'description': 'Ano 2019 - 0 km',\n",
       "  'location': 'São Paulo - SP',\n",
       "  'items': ['Freios ABS',\n",
       "   'Controle de estabilidade',\n",
       "   'Travas elétricas',\n",
       "   'Câmera de estacionamento']},\n",
       " {'value': 'R$ 448.000',\n",
       "  'name': 'HONDA',\n",
       "  'category': 'USADO',\n",
       "  'motor': 'Motor Diesel V8',\n",
       "  'description': 'Ano 2009 - 64.735 km',\n",
       "  'location': 'São Paulo - SP',\n",
       "  'items': ['Câmbio automático',\n",
       "   'Vidros elétricos',\n",
       "   'Sensor de estacionamento',\n",
       "   '4 X 4']},\n",
       " {'value': 'R$ 376.000',\n",
       "  'name': 'MERCEDES AMG GTS',\n",
       "  'category': 'USADO',\n",
       "  'motor': 'Motor Diesel V6',\n",
       "  'description': 'Ano 2009 - 59.305 km',\n",
       "  'location': 'Belo Horizonte - MG',\n",
       "  'items': ['Freios ABS',\n",
       "   'Sensor de estacionamento',\n",
       "   'Rodas de liga',\n",
       "   'Câmera de estacionamento']},\n",
       " {'value': 'R$ 353.000',\n",
       "  'name': 'LIMO',\n",
       "  'category': 'USADO',\n",
       "  'motor': 'Motor V6',\n",
       "  'description': 'Ano 1990 - 92.448 km',\n",
       "  'location': 'Belo Horizonte - MG',\n",
       "  'items': ['Controle de estabilidade',\n",
       "   'Câmbio automático',\n",
       "   'Ar condicionado',\n",
       "   'Central multimídia']},\n",
       " {'value': 'R$ 90.000',\n",
       "  'name': 'BMW',\n",
       "  'category': 'USADO',\n",
       "  'motor': 'Motor Diesel V6',\n",
       "  'description': 'Ano 2015 - 21.275 km',\n",
       "  'location': 'Belo Horizonte - MG',\n",
       "  'items': ['Controle de tração',\n",
       "   'Travas elétricas',\n",
       "   'Rodas de liga',\n",
       "   'Central multimídia']},\n",
       " {'value': 'R$ 468.000',\n",
       "  'name': 'FERRARI 288 GTO',\n",
       "  'category': 'USADO',\n",
       "  'motor': 'Motor V6',\n",
       "  'description': 'Ano 1994 - 86.170 km',\n",
       "  'location': 'Rio de Janeiro - RJ',\n",
       "  'items': ['Piloto automático',\n",
       "   'Sensor de estacionamento',\n",
       "   'Sensor crepuscular',\n",
       "   'Rodas de liga']},\n",
       " {'value': 'R$ 415.000',\n",
       "  'name': 'AUDI RS7',\n",
       "  'category': 'USADO',\n",
       "  'motor': 'Motor 3.0 32v',\n",
       "  'description': 'Ano 2014 - 117.197 km',\n",
       "  'location': 'São Paulo - SP',\n",
       "  'items': ['Piloto automático',\n",
       "   'Controle de estabilidade',\n",
       "   'Sensor de estacionamento',\n",
       "   'Sensor de chuva']},\n",
       " {'value': 'R$ 331.000',\n",
       "  'name': 'SEAT LEON',\n",
       "  'category': 'USADO',\n",
       "  'opportunity': 'OPORTUNIDADE',\n",
       "  'motor': 'Motor 2.0 16v',\n",
       "  'description': 'Ano 1995 - 30.961 km',\n",
       "  'location': 'Belo Horizonte - MG',\n",
       "  'items': ['Sensor de chuva', 'Câmbio automático', 'Freios ABS', '4 X 4']},\n",
       " {'value': 'R$ 237.000',\n",
       "  'name': 'MERCEDES BENZ SLS',\n",
       "  'category': 'USADO',\n",
       "  'opportunity': 'OPORTUNIDADE',\n",
       "  'motor': 'Motor Diesel V8',\n",
       "  'description': 'Ano 1991 - 97.949 km',\n",
       "  'location': 'Rio de Janeiro - RJ',\n",
       "  'items': ['Freios ABS',\n",
       "   'Rodas de liga',\n",
       "   'Câmbio automático',\n",
       "   'Painel digital']},\n",
       " {'value': 'R$ 88.000',\n",
       "  'name': 'LAGONDA',\n",
       "  'category': 'USADO',\n",
       "  'motor': 'Motor 2.0 16v',\n",
       "  'description': 'Ano 2016 - 18.870 km',\n",
       "  'location': 'Rio de Janeiro - RJ',\n",
       "  'items': ['Câmera de estacionamento',\n",
       "   'Rodas de liga',\n",
       "   'Painel digital',\n",
       "   'Sensor de estacionamento']},\n",
       " {'value': 'R$ 312.000',\n",
       "  'name': 'ANTIQUE CAR',\n",
       "  'category': 'USADO',\n",
       "  'motor': 'Motor Diesel',\n",
       "  'description': 'Ano 2014 - 114.136 km',\n",
       "  'location': 'Belo Horizonte - MG',\n",
       "  'items': ['Central multimídia',\n",
       "   'Sensor de estacionamento',\n",
       "   'Controle de tração',\n",
       "   'Câmbio automático']},\n",
       " {'value': 'R$ 240.000',\n",
       "  'name': 'AUDI A5',\n",
       "  'category': 'NOVO',\n",
       "  'motor': 'Motor V6',\n",
       "  'description': 'Ano 2019 - 0 km',\n",
       "  'location': 'Rio de Janeiro - RJ',\n",
       "  'items': ['Câmera de estacionamento',\n",
       "   'Sensor de chuva',\n",
       "   'Vidros elétricos',\n",
       "   'Sensor de estacionamento']},\n",
       " {'value': 'R$ 215.000',\n",
       "  'name': 'COUGAR XR',\n",
       "  'category': 'NOVO',\n",
       "  'opportunity': 'OPORTUNIDADE',\n",
       "  'motor': 'Motor 1.8 16v',\n",
       "  'description': 'Ano 2019 - 0 km',\n",
       "  'location': 'São Paulo - SP',\n",
       "  'items': ['Sensor crepuscular',\n",
       "   'Controle de estabilidade',\n",
       "   'Rodas de liga',\n",
       "   'Teto panorâmico']},\n",
       " {'value': 'R$ 492.000',\n",
       "  'name': 'JAGUAR',\n",
       "  'category': 'USADO',\n",
       "  'motor': 'Motor V6',\n",
       "  'description': 'Ano 1991 - 117.377 km',\n",
       "  'location': 'Belo Horizonte - MG',\n",
       "  'items': ['Teto panorâmico',\n",
       "   'Ar condicionado',\n",
       "   'Vidros elétricos',\n",
       "   'Bancos de couro']},\n",
       " {'value': 'R$ 172.000',\n",
       "  'name': 'WHITE LAMBORGHINI',\n",
       "  'category': 'NOVO',\n",
       "  'opportunity': 'OPORTUNIDADE',\n",
       "  'motor': 'Motor Diesel',\n",
       "  'description': 'Ano 2019 - 0 km',\n",
       "  'location': 'São Paulo - SP',\n",
       "  'items': ['Controle de tração',\n",
       "   'Câmbio automático',\n",
       "   'Câmera de estacionamento',\n",
       "   'Sensor de estacionamento']},\n",
       " {'value': 'R$ 496.000',\n",
       "  'name': 'CORVETTE YELLOW',\n",
       "  'category': 'NOVO',\n",
       "  'motor': 'Motor 5.0 V8 Bi-Turbo',\n",
       "  'description': 'Ano 2019 - 0 km',\n",
       "  'location': 'São Paulo - SP',\n",
       "  'items': ['Bancos de couro',\n",
       "   'Rodas de liga',\n",
       "   'Sensor de chuva',\n",
       "   'Central multimídia']},\n",
       " {'value': 'R$ 334.000',\n",
       "  'name': 'HOUSTON FIRE DEPARTMENT',\n",
       "  'category': 'USADO',\n",
       "  'motor': 'Motor 5.0 V8 Bi-Turbo',\n",
       "  'description': 'Ano 2010 - 112.389 km',\n",
       "  'location': 'Rio de Janeiro - RJ',\n",
       "  'items': ['Ar condicionado',\n",
       "   'Travas elétricas',\n",
       "   'Controle de tração',\n",
       "   '4 X 4']},\n",
       " {'value': 'R$ 331.000',\n",
       "  'name': 'ASTON MARTIN DBS',\n",
       "  'category': 'USADO',\n",
       "  'motor': 'Motor V8',\n",
       "  'description': 'Ano 2010 - 15.193 km',\n",
       "  'location': 'Belo Horizonte - MG',\n",
       "  'items': ['Ar condicionado',\n",
       "   'Vidros elétricos',\n",
       "   'Câmbio automático',\n",
       "   'Sensor de estacionamento']},\n",
       " {'value': 'R$ 381.000',\n",
       "  'name': 'AMG',\n",
       "  'category': 'NOVO',\n",
       "  'motor': 'Motor 4.0 Turbo',\n",
       "  'description': 'Ano 2019 - 0 km',\n",
       "  'location': 'São Paulo - SP',\n",
       "  'items': ['Freios ABS',\n",
       "   'Piloto automático',\n",
       "   'Sensor crepuscular',\n",
       "   'Vidros elétricos']},\n",
       " {'value': 'R$ 362.000',\n",
       "  'name': 'LAMBORGHINI DIABLO',\n",
       "  'category': 'NOVO',\n",
       "  'motor': 'Motor 2.4 Turbo',\n",
       "  'description': 'Ano 2019 - 0 km',\n",
       "  'location': 'São Paulo - SP',\n",
       "  'items': ['Ar condicionado',\n",
       "   'Sensor de estacionamento',\n",
       "   'Controle de estabilidade',\n",
       "   'Painel digital']},\n",
       " {'value': 'R$ 281.000',\n",
       "  'name': 'TRIPPELWAGEN',\n",
       "  'category': 'NOVO',\n",
       "  'motor': 'Motor 2.0 16v',\n",
       "  'description': 'Ano 2019 - 0 km',\n",
       "  'location': 'Rio de Janeiro - RJ',\n",
       "  'items': ['Sensor de chuva',\n",
       "   'Ar condicionado',\n",
       "   'Teto panorâmico',\n",
       "   'Sensor de estacionamento']},\n",
       " {'value': 'R$ 308.000',\n",
       "  'name': 'BENTZ',\n",
       "  'category': 'NOVO',\n",
       "  'motor': 'Motor 2.4 Turbo',\n",
       "  'description': 'Ano 2019 - 0 km',\n",
       "  'location': 'São Paulo - SP',\n",
       "  'items': ['Freios ABS',\n",
       "   'Ar condicionado',\n",
       "   'Travas elétricas',\n",
       "   'Câmbio automático']},\n",
       " {'value': 'R$ 268.000',\n",
       "  'name': 'LUXURY SPORTS CAR',\n",
       "  'category': 'NOVO',\n",
       "  'motor': 'Motor 3.0 32v',\n",
       "  'description': 'Ano 2019 - 0 km',\n",
       "  'location': 'Rio de Janeiro - RJ',\n",
       "  'items': ['Piloto automático',\n",
       "   'Controle de estabilidade',\n",
       "   'Câmera de estacionamento',\n",
       "   '4 X 4']},\n",
       " {'value': 'R$ 192.000',\n",
       "  'name': 'CONVERTIBLE',\n",
       "  'category': 'USADO',\n",
       "  'opportunity': 'OPORTUNIDADE',\n",
       "  'motor': 'Motor V8',\n",
       "  'description': 'Ano 2008 - 42.427 km',\n",
       "  'location': 'Rio de Janeiro - RJ',\n",
       "  'items': ['Rodas de liga',\n",
       "   'Freios ABS',\n",
       "   'Câmera de estacionamento',\n",
       "   'Travas elétricas']},\n",
       " {'value': 'R$ 432.000',\n",
       "  'name': 'ROLLAND PILAIN',\n",
       "  'category': 'USADO',\n",
       "  'motor': 'Motor 1.8 16v',\n",
       "  'description': 'Ano 2006 - 15.128 km',\n",
       "  'location': 'São Paulo - SP',\n",
       "  'items': ['Painel digital',\n",
       "   'Câmbio automático',\n",
       "   'Sensor crepuscular',\n",
       "   'Rodas de liga']},\n",
       " {'value': 'R$ 489.000',\n",
       "  'name': 'SUV REAR TIRE',\n",
       "  'category': 'USADO',\n",
       "  'motor': 'Motor 3.0 32v',\n",
       "  'description': 'Ano 1998 - 74.292 km',\n",
       "  'location': 'São Paulo - SP',\n",
       "  'items': ['Câmera de estacionamento',\n",
       "   'Rodas de liga',\n",
       "   'Sensor de estacionamento',\n",
       "   'Vidros elétricos']},\n",
       " {'value': 'R$ 427.000',\n",
       "  'name': 'ANTIQUE',\n",
       "  'category': 'NOVO',\n",
       "  'motor': 'Motor 2.0 16v',\n",
       "  'description': 'Ano 2019 - 0 km',\n",
       "  'location': 'Belo Horizonte - MG',\n",
       "  'items': ['Bancos de couro',\n",
       "   'Freios ABS',\n",
       "   'Sensor de estacionamento',\n",
       "   'Teto panorâmico']},\n",
       " {'value': 'R$ 203.000',\n",
       "  'name': 'SPORT',\n",
       "  'category': 'USADO',\n",
       "  'motor': 'Motor 2.0 16v',\n",
       "  'description': 'Ano 2001 - 102.776 km',\n",
       "  'location': 'Belo Horizonte - MG',\n",
       "  'items': ['Sensor crepuscular',\n",
       "   'Sensor de chuva',\n",
       "   'Vidros elétricos',\n",
       "   'Travas elétricas']},\n",
       " {'value': 'R$ 474.000',\n",
       "  'name': 'IMPERIAL',\n",
       "  'category': 'USADO',\n",
       "  'opportunity': 'OPORTUNIDADE',\n",
       "  'motor': 'Motor 1.8 16v',\n",
       "  'description': 'Ano 2011 - 101.787 km',\n",
       "  'location': 'Belo Horizonte - MG',\n",
       "  'items': ['Painel digital',\n",
       "   'Travas elétricas',\n",
       "   'Sensor de chuva',\n",
       "   'Ar condicionado']},\n",
       " {'value': 'R$ 366.000',\n",
       "  'name': 'KIA SPORTS CAR',\n",
       "  'category': 'USADO',\n",
       "  'motor': 'Motor 3.0 32v',\n",
       "  'description': 'Ano 2001 - 88.564 km',\n",
       "  'location': 'Belo Horizonte - MG',\n",
       "  'items': ['Sensor crepuscular',\n",
       "   'Bancos de couro',\n",
       "   'Sensor de estacionamento',\n",
       "   'Travas elétricas']}]"
      ]
     },
     "execution_count": 117,
     "metadata": {},
     "output_type": "execute_result"
    }
   ],
   "source": [
    "cards"
   ]
  },
  {
   "cell_type": "code",
   "execution_count": null,
   "metadata": {},
   "outputs": [],
   "source": []
  }
 ],
 "metadata": {
  "colab": {
   "name": "Untitled12.ipynb",
   "provenance": [],
   "version": "0.3.2"
  },
  "kernelspec": {
   "display_name": "Python 3",
   "language": "python",
   "name": "python3"
  },
  "language_info": {
   "codemirror_mode": {
    "name": "ipython",
    "version": 3
   },
   "file_extension": ".py",
   "mimetype": "text/x-python",
   "name": "python",
   "nbconvert_exporter": "python",
   "pygments_lexer": "ipython3",
   "version": "3.8.10"
  }
 },
 "nbformat": 4,
 "nbformat_minor": 1
}
